{
 "cells": [
  {
   "cell_type": "code",
   "execution_count": 1,
   "id": "bf06b187-c08a-4205-a196-6afe08265dac",
   "metadata": {},
   "outputs": [
    {
     "name": "stdout",
     "output_type": "stream",
     "text": [
      "hello world\n"
     ]
    }
   ],
   "source": [
    "print('hello world')"
   ]
  },
  {
   "cell_type": "markdown",
   "id": "187fcec7-16d2-45a1-9745-c00f91c8bf97",
   "metadata": {},
   "source": [
    "# 01. intro\n",
    "\n",
    "## shortcut\n",
    "- ctrl + enter: 현재 셀 실행\n",
    "- shift + enter: 현재 셀 실행 & 아래로 이동\n",
    "- alt + enter: 현재 셀 실행 & 아래에 새로운 셀 추가\n",
    "- 더블클릭 하면 수정가능\n",
    "\n",
    "## 주의사항\n",
    "1. Apple / apple 대문자 소문자는 다르다고 인식\n",
    "2. git add . / git add. 띄어쓰기도 다르다고 인식\n",
    "3. message / massage 철자 차이 확인하기"
   ]
  },
  {
   "cell_type": "code",
   "execution_count": 2,
   "id": "cd42cbe0-9785-4605-abcb-b9015b7c5470",
   "metadata": {},
   "outputs": [],
   "source": [
    "# 여기는 주석 입니다. 샵은 코드로 인식하지 않음"
   ]
  },
  {
   "cell_type": "markdown",
   "id": "fff9490c-bca5-42f6-a155-570f6be5918d",
   "metadata": {},
   "source": [
    "## 1. 변수\n",
    "변수이름 = 값\n",
    "- 변수 이름은 어떤 이름이든 사용가능\n",
    "- 다만 영어, 숫자, _ 를 이용하여 선언\n",
    "- 키워드는 사용 불가"
   ]
  },
  {
   "cell_type": "code",
   "execution_count": 8,
   "id": "336f9c8e-074d-4f7e-bace-779d447fb997",
   "metadata": {},
   "outputs": [],
   "source": [
    "a = 30"
   ]
  },
  {
   "cell_type": "code",
   "execution_count": 9,
   "id": "763c60d4-e7c0-4992-9915-cc19b8b28d25",
   "metadata": {},
   "outputs": [
    {
     "data": {
      "text/plain": [
       "30"
      ]
     },
     "execution_count": 9,
     "metadata": {},
     "output_type": "execute_result"
    }
   ],
   "source": [
    "a\n"
   ]
  },
  {
   "cell_type": "code",
   "execution_count": 10,
   "id": "52b58426-d28c-473c-8841-9f2dfdee0c33",
   "metadata": {},
   "outputs": [
    {
     "data": {
      "text/plain": [
       "['False',\n",
       " 'None',\n",
       " 'True',\n",
       " 'and',\n",
       " 'as',\n",
       " 'assert',\n",
       " 'async',\n",
       " 'await',\n",
       " 'break',\n",
       " 'class',\n",
       " 'continue',\n",
       " 'def',\n",
       " 'del',\n",
       " 'elif',\n",
       " 'else',\n",
       " 'except',\n",
       " 'finally',\n",
       " 'for',\n",
       " 'from',\n",
       " 'global',\n",
       " 'if',\n",
       " 'import',\n",
       " 'in',\n",
       " 'is',\n",
       " 'lambda',\n",
       " 'nonlocal',\n",
       " 'not',\n",
       " 'or',\n",
       " 'pass',\n",
       " 'raise',\n",
       " 'return',\n",
       " 'try',\n",
       " 'while',\n",
       " 'with',\n",
       " 'yield']"
      ]
     },
     "execution_count": 10,
     "metadata": {},
     "output_type": "execute_result"
    }
   ],
   "source": [
    "import  keyword\n",
    "keyword.kwlist"
   ]
  },
  {
   "cell_type": "code",
   "execution_count": 11,
   "id": "cb9054db-af35-4891-a019-8fdaed225909",
   "metadata": {},
   "outputs": [],
   "source": [
    "seoul_dust_rate = 10"
   ]
  },
  {
   "cell_type": "markdown",
   "id": "b7a2b65c-baae-4611-886c-0c7201f46179",
   "metadata": {},
   "source": [
    "### 1.1 number"
   ]
  },
  {
   "cell_type": "code",
   "execution_count": 12,
   "id": "ff098c2c-b953-4a73-ac1d-d924d8596fa8",
   "metadata": {},
   "outputs": [],
   "source": [
    "a = 100000"
   ]
  },
  {
   "cell_type": "code",
   "execution_count": 13,
   "id": "f72f7fa7-f2ac-44cb-adfb-2c5f028a7e6c",
   "metadata": {},
   "outputs": [
    {
     "data": {
      "text/plain": [
       "100000"
      ]
     },
     "execution_count": 13,
     "metadata": {},
     "output_type": "execute_result"
    }
   ],
   "source": [
    "a"
   ]
  },
  {
   "cell_type": "code",
   "execution_count": 14,
   "id": "20664852-a273-4726-bfcc-8b3ee5ea87bb",
   "metadata": {},
   "outputs": [
    {
     "data": {
      "text/plain": [
       "int"
      ]
     },
     "execution_count": 14,
     "metadata": {},
     "output_type": "execute_result"
    }
   ],
   "source": [
    "type(a)"
   ]
  },
  {
   "cell_type": "code",
   "execution_count": 15,
   "id": "0ec1a70a-adbd-4eea-8147-8142db5dfa7d",
   "metadata": {},
   "outputs": [],
   "source": [
    "b = 1.1"
   ]
  },
  {
   "cell_type": "code",
   "execution_count": 16,
   "id": "0d467f10-788f-4930-84a8-e27a65df4a6d",
   "metadata": {},
   "outputs": [
    {
     "data": {
      "text/plain": [
       "1.1"
      ]
     },
     "execution_count": 16,
     "metadata": {},
     "output_type": "execute_result"
    }
   ],
   "source": [
    "b"
   ]
  },
  {
   "cell_type": "code",
   "execution_count": 17,
   "id": "042ada7b-ef06-4c91-a90e-b6b0f5c73dd7",
   "metadata": {},
   "outputs": [
    {
     "data": {
      "text/plain": [
       "float"
      ]
     },
     "execution_count": 17,
     "metadata": {},
     "output_type": "execute_result"
    }
   ],
   "source": [
    "type(b)"
   ]
  },
  {
   "cell_type": "code",
   "execution_count": 18,
   "id": "47366cab-8670-4411-9341-bbea44a27747",
   "metadata": {},
   "outputs": [],
   "source": [
    "c = 1- 4j"
   ]
  },
  {
   "cell_type": "code",
   "execution_count": 19,
   "id": "111e420b-41b4-49a1-aced-6df81d69c21c",
   "metadata": {},
   "outputs": [
    {
     "data": {
      "text/plain": [
       "(1-4j)"
      ]
     },
     "execution_count": 19,
     "metadata": {},
     "output_type": "execute_result"
    }
   ],
   "source": [
    "c"
   ]
  },
  {
   "cell_type": "code",
   "execution_count": 20,
   "id": "71e372d6-bab2-48b6-9527-fe56fee824f5",
   "metadata": {},
   "outputs": [
    {
     "data": {
      "text/plain": [
       "complex"
      ]
     },
     "execution_count": 20,
     "metadata": {},
     "output_type": "execute_result"
    }
   ],
   "source": [
    "type(c)"
   ]
  },
  {
   "cell_type": "markdown",
   "id": "5c2a0326-a7e3-4fc0-84ee-5f04ece0cc23",
   "metadata": {},
   "source": [
    "### 1.2 boolean\n",
    "True, False로 이루어진 타입"
   ]
  },
  {
   "cell_type": "code",
   "execution_count": 21,
   "id": "45fef62d-5744-4b73-a809-ba212b4d54d2",
   "metadata": {},
   "outputs": [],
   "source": [
    "a = True"
   ]
  },
  {
   "cell_type": "code",
   "execution_count": 22,
   "id": "fac84298-cc7f-4d42-8473-9506b907a967",
   "metadata": {},
   "outputs": [
    {
     "data": {
      "text/plain": [
       "True"
      ]
     },
     "execution_count": 22,
     "metadata": {},
     "output_type": "execute_result"
    }
   ],
   "source": [
    "a"
   ]
  },
  {
   "cell_type": "code",
   "execution_count": 23,
   "id": "5bcc7702-0f4e-4c8f-8ada-efabc9c7fc52",
   "metadata": {},
   "outputs": [
    {
     "data": {
      "text/plain": [
       "bool"
      ]
     },
     "execution_count": 23,
     "metadata": {},
     "output_type": "execute_result"
    }
   ],
   "source": [
    "type(a)"
   ]
  },
  {
   "cell_type": "code",
   "execution_count": 24,
   "id": "a8c2aed4-a493-4de6-9e73-d5cb6bfdaced",
   "metadata": {},
   "outputs": [],
   "source": [
    "b = False"
   ]
  },
  {
   "cell_type": "code",
   "execution_count": 25,
   "id": "e9a68d86-2065-4f90-8bee-5cc2a023335d",
   "metadata": {},
   "outputs": [
    {
     "data": {
      "text/plain": [
       "False"
      ]
     },
     "execution_count": 25,
     "metadata": {},
     "output_type": "execute_result"
    }
   ],
   "source": [
    "b"
   ]
  },
  {
   "cell_type": "code",
   "execution_count": 26,
   "id": "81086072-80d1-4170-b9da-2f330011e4f7",
   "metadata": {},
   "outputs": [
    {
     "data": {
      "text/plain": [
       "bool"
      ]
     },
     "execution_count": 26,
     "metadata": {},
     "output_type": "execute_result"
    }
   ],
   "source": [
    "type(b)"
   ]
  },
  {
   "cell_type": "markdown",
   "id": "7b3b2807-9ffc-4c52-9086-96786d72ec78",
   "metadata": {},
   "source": [
    "### 1.3 None"
   ]
  },
  {
   "cell_type": "code",
   "execution_count": 27,
   "id": "f33d7a91-23b1-40e4-94a0-699dbc679617",
   "metadata": {},
   "outputs": [],
   "source": [
    "a = None"
   ]
  },
  {
   "cell_type": "code",
   "execution_count": 28,
   "id": "2dfe0170-4ab7-4b1e-8c73-8f8d2f35b023",
   "metadata": {},
   "outputs": [],
   "source": [
    "a"
   ]
  },
  {
   "cell_type": "code",
   "execution_count": 29,
   "id": "b247ab45-c107-4565-94aa-e3184dd3b413",
   "metadata": {},
   "outputs": [
    {
     "data": {
      "text/plain": [
       "NoneType"
      ]
     },
     "execution_count": 29,
     "metadata": {},
     "output_type": "execute_result"
    }
   ],
   "source": [
    "type(a)"
   ]
  },
  {
   "cell_type": "markdown",
   "id": "9205118f-0eb4-422a-91f7-ef6c06122dcf",
   "metadata": {},
   "source": [
    "### 1.4 String\n",
    "\n",
    "- 문자열은 `'`, `\"` 를 이용하여 표현"
   ]
  },
  {
   "cell_type": "code",
   "execution_count": 30,
   "id": "da276000-8695-4786-a2bb-abc495710823",
   "metadata": {},
   "outputs": [],
   "source": [
    "a = 'hellow'"
   ]
  },
  {
   "cell_type": "code",
   "execution_count": 31,
   "id": "d65b6b35-3293-4411-829f-c6a67d26e85e",
   "metadata": {},
   "outputs": [
    {
     "data": {
      "text/plain": [
       "str"
      ]
     },
     "execution_count": 31,
     "metadata": {},
     "output_type": "execute_result"
    }
   ],
   "source": [
    "type(a)"
   ]
  },
  {
   "cell_type": "code",
   "execution_count": 32,
   "id": "9581b11a-1980-4405-8ee8-938f9ab7da60",
   "metadata": {},
   "outputs": [],
   "source": [
    "b = \"world\""
   ]
  },
  {
   "cell_type": "code",
   "execution_count": 33,
   "id": "5648d404-a9c0-45b1-9b38-10d299a85b72",
   "metadata": {},
   "outputs": [
    {
     "data": {
      "text/plain": [
       "str"
      ]
     },
     "execution_count": 33,
     "metadata": {},
     "output_type": "execute_result"
    }
   ],
   "source": [
    "type(b)"
   ]
  },
  {
   "cell_type": "code",
   "execution_count": 43,
   "id": "92b0b077-ffd4-4de2-bf00-61ae94155e53",
   "metadata": {},
   "outputs": [
    {
     "name": "stdout",
     "output_type": "stream",
     "text": [
      " 123\n"
     ]
    },
    {
     "name": "stdout",
     "output_type": "stream",
     "text": [
      "123\n",
      "<class 'str'>\n"
     ]
    },
    {
     "data": {
      "text/plain": [
       "str"
      ]
     },
     "execution_count": 43,
     "metadata": {},
     "output_type": "execute_result"
    }
   ],
   "source": [
    "age = input()\n",
    "print(age)\n",
    "print(type(age))\n",
    "type(age)\n",
    "\n",
    "# input() 결과는 문자열로 인식. 1과 '1'은 다름"
   ]
  },
  {
   "cell_type": "code",
   "execution_count": 39,
   "id": "5a6ef043-2434-4e50-b6bf-4dee2f800ed9",
   "metadata": {},
   "outputs": [
    {
     "name": "stdout",
     "output_type": "stream",
     "text": [
      "안녕하세요 \"오창희\" 입니다\n"
     ]
    }
   ],
   "source": [
    "# print('안녕하세요 '오창희' 입니다') 이건 오류\n",
    "# print('안녕하세요 \"오창희\" 입니다') 이건 정상\n",
    "print('안녕하세요 \"오창희\" 입니다')"
   ]
  },
  {
   "cell_type": "code",
   "execution_count": 42,
   "id": "078a0f77-94d6-4c95-bd4a-916e419a7b7d",
   "metadata": {},
   "outputs": [
    {
     "name": "stdout",
     "output_type": "stream",
     "text": [
      "안녕하세요. '오창희' 입니다.\n"
     ]
    }
   ],
   "source": [
    "# \\ 문자열 활용하기\n",
    "print('안녕하세요. \\'오창희\\' 입니다.')"
   ]
  },
  {
   "cell_type": "code",
   "execution_count": 45,
   "id": "607e9743-4247-43d2-a8f3-5520c131f7b4",
   "metadata": {},
   "outputs": [
    {
     "name": "stdout",
     "output_type": "stream",
     "text": [
      "\n",
      "안녕하세요 '오창희'입니다.\n",
      "\n"
     ]
    }
   ],
   "source": [
    "a = '''\n",
    "안녕하세요 '오창희'입니다.\n",
    "'''\n",
    "print(a)\n",
    "\n",
    "# 독스트링. 주석이랑 비슷하게 표기하는 방법. 여러 줄을 한번에 정리."
   ]
  },
  {
   "cell_type": "code",
   "execution_count": 50,
   "id": "384d510f-1fa5-4ba1-9b78-57f752676ef8",
   "metadata": {},
   "outputs": [
    {
     "name": "stdout",
     "output_type": "stream",
     "text": [
      "안녕하세요. \n",
      "오창희 입니다.\n",
      "안녕하세요. \n",
      "오창희 입니다. \t들여쓰기 이스케이프 문자열입니다.\n"
     ]
    }
   ],
   "source": [
    "print('안녕하세요. \\n오창희 입니다.')\n",
    "print('안녕하세요. \\n오창희 입니다. \\t들여쓰기 이스케이프 문자열입니다.')\n",
    "\n",
    "# \\n 와 \\t 는 문자열 데이터를 가져올떄 구분표시로 되어있을 수 있으니 확인하기."
   ]
  },
  {
   "cell_type": "markdown",
   "id": "52d66c49-6f0a-466e-882b-6a5d003934bf",
   "metadata": {},
   "source": [
    "### string interpolation\n",
    "1. %-formatting\n",
    "2. str.format()\n",
    "3. f-string"
   ]
  },
  {
   "cell_type": "code",
   "execution_count": 52,
   "id": "92bc3c50-632d-4c03-81a4-80a077e31532",
   "metadata": {},
   "outputs": [
    {
     "name": "stdout",
     "output_type": "stream",
     "text": [
      "홍길동은 10살 입니다.\n"
     ]
    }
   ],
   "source": [
    "age = 10\n",
    "print('홍길동은 %s살 입니다.' % age)\n",
    "\n",
    "# 옛날 문법임"
   ]
  },
  {
   "cell_type": "code",
   "execution_count": 57,
   "id": "4508239c-343e-468d-9af4-a3f30665f3e8",
   "metadata": {},
   "outputs": [
    {
     "name": "stdout",
     "output_type": "stream",
     "text": [
      "홍길동은 10살 입니다.\n"
     ]
    }
   ],
   "source": [
    "age = 10\n",
    "print('홍길동은 {}살 입니다.'.format(age))\n",
    "\n",
    "# 이것도 안쓸거임"
   ]
  },
  {
   "cell_type": "code",
   "execution_count": 58,
   "id": "cd925b86-9389-4912-a74d-581ef8d5b372",
   "metadata": {},
   "outputs": [
    {
     "name": "stdout",
     "output_type": "stream",
     "text": [
      "홍길동은 10살 입니다.\n"
     ]
    }
   ],
   "source": [
    "age = 10\n",
    "print(f'홍길동은 {age}살 입니다.')\n",
    "\n",
    "# 이거 쓰자."
   ]
  },
  {
   "cell_type": "markdown",
   "id": "81e858d7-8c9a-41a0-bf56-67ac83b68b7c",
   "metadata": {},
   "source": [
    "## 2. 연산자\n",
    "### 2.1 산술연산자"
   ]
  },
  {
   "cell_type": "code",
   "execution_count": 74,
   "id": "d201fbf1-7eee-4e65-9caa-3e90c8d18380",
   "metadata": {},
   "outputs": [],
   "source": [
    "a = 7\n",
    "b = 3"
   ]
  },
  {
   "cell_type": "code",
   "execution_count": 75,
   "id": "7d18c95a-042b-48a0-9e22-9bd19b3a4e94",
   "metadata": {},
   "outputs": [
    {
     "name": "stdout",
     "output_type": "stream",
     "text": [
      "10\n",
      "4\n",
      "21\n",
      "2.3333333333333335\n",
      "343\n"
     ]
    }
   ],
   "source": [
    "print(a + b)\n",
    "print(a - b)\n",
    "print(a * b)\n",
    "print(a / b)\n",
    "print(a ** b)"
   ]
  },
  {
   "cell_type": "code",
   "execution_count": 76,
   "id": "c3f83cf4-c42e-4d47-a287-f9e59aadc9fc",
   "metadata": {},
   "outputs": [
    {
     "name": "stdout",
     "output_type": "stream",
     "text": [
      "2\n",
      "1\n",
      "(2, 1)\n"
     ]
    }
   ],
   "source": [
    "print(a // b)\n",
    "print(a % b)\n",
    "print(divmod(a, b))\n",
    "\n",
    "# // 는 몫을, %는 나머지를, divmod() 는 몫과 나머지를 보여줌"
   ]
  },
  {
   "cell_type": "markdown",
   "id": "15dafdb7-de81-4c7b-88ec-81f5991fcd89",
   "metadata": {},
   "source": [
    "### 2.2 비교연산자"
   ]
  },
  {
   "cell_type": "code",
   "execution_count": 77,
   "id": "d27eeb5f-4d71-48df-b240-492950f3190b",
   "metadata": {},
   "outputs": [],
   "source": [
    "a = 5\n",
    "b = 10"
   ]
  },
  {
   "cell_type": "code",
   "execution_count": 80,
   "id": "b38302d3-16e1-49fa-a0b9-1e37e2bb7124",
   "metadata": {},
   "outputs": [
    {
     "name": "stdout",
     "output_type": "stream",
     "text": [
      "False\n",
      "True\n",
      "False\n",
      "True\n",
      "False\n",
      "True\n",
      "True\n",
      "False\n"
     ]
    }
   ],
   "source": [
    "print(a > b)\n",
    "print(a < b)\n",
    "print(a >= b)\n",
    "print(a <= b)\n",
    "\n",
    "print(a == b)\n",
    "print(a != b)\n",
    "\n",
    "print('hi' == 'hi')\n",
    "print('Hi' == 'hi')\n",
    "\n",
    "# 비교연산자는 True, False 로 나옴\n",
    "# 비교연산자는 문자에도 사용 가능"
   ]
  },
  {
   "cell_type": "markdown",
   "id": "0bdf4869-ef5f-4074-b72b-2225a15246da",
   "metadata": {},
   "source": [
    "### 2.3 논리연산자\n",
    "\n",
    "- and: 양쪽 모두 True 일때, True 를 반환\n",
    "- or: 양쪽 모두 False 일때, False 를 반환\n",
    "- not: 값을 반대로 전환"
   ]
  },
  {
   "cell_type": "code",
   "execution_count": 81,
   "id": "1292bd3c-8bc0-409e-be8c-2a2d2cd5d376",
   "metadata": {},
   "outputs": [
    {
     "name": "stdout",
     "output_type": "stream",
     "text": [
      "True\n",
      "False\n",
      "False\n",
      "False\n"
     ]
    }
   ],
   "source": [
    "print(True and True)\n",
    "print(True and False)\n",
    "print(False and True)\n",
    "print(False and False)"
   ]
  },
  {
   "cell_type": "code",
   "execution_count": 82,
   "id": "e006fe48-a885-4248-ab02-b463e5747e37",
   "metadata": {},
   "outputs": [
    {
     "name": "stdout",
     "output_type": "stream",
     "text": [
      "True\n",
      "True\n",
      "True\n",
      "False\n"
     ]
    }
   ],
   "source": [
    "print(True or True)\n",
    "print(True or False)\n",
    "print(False or True)\n",
    "print(False or False)"
   ]
  },
  {
   "cell_type": "code",
   "execution_count": 83,
   "id": "cafa378c-eabf-4b1c-9257-0217b646072a",
   "metadata": {},
   "outputs": [
    {
     "name": "stdout",
     "output_type": "stream",
     "text": [
      "False\n"
     ]
    }
   ],
   "source": [
    "result = True\n",
    "print(not result)"
   ]
  },
  {
   "cell_type": "code",
   "execution_count": 88,
   "id": "03ebcd5d-2d7a-45f3-93cd-6d0d31bcccf5",
   "metadata": {},
   "outputs": [
    {
     "name": "stdout",
     "output_type": "stream",
     "text": [
      "5\n",
      "0\n",
      "0\n",
      "0\n"
     ]
    }
   ],
   "source": [
    "# 단축평가(and)\n",
    "print(3 and 5)\n",
    "print(3 and 0)\n",
    "print(0 and 3)\n",
    "print(0 and 0)\n",
    "\n",
    "# python은 and를 만나면 앞을 기준으로 연산을 시작함\n",
    "# and 앞에 True 가 있다면 and 뒤 값이 결과값으로 나옴\n",
    "# and 앞에 False 가 있다면 그냥 값 0 이나옴"
   ]
  },
  {
   "cell_type": "code",
   "execution_count": 90,
   "id": "230b8c2c-4b54-4e67-942a-6c9f7e37ab87",
   "metadata": {},
   "outputs": [
    {
     "name": "stdout",
     "output_type": "stream",
     "text": [
      "3\n",
      "3\n",
      "3\n",
      "0\n"
     ]
    }
   ],
   "source": [
    "# 단축평가(or)\n",
    "print(3 or 5)\n",
    "print(3 or 0)\n",
    "print(0 or 3)\n",
    "print(0 or 0)\n",
    "\n",
    "# or 은"
   ]
  },
  {
   "cell_type": "markdown",
   "id": "93c6c279-a56a-45d1-92d2-25a54d33d964",
   "metadata": {},
   "source": [
    "### 복합 연산자"
   ]
  },
  {
   "cell_type": "code",
   "execution_count": 92,
   "id": "d8321f10-c194-4964-a1f3-eb15e6e35298",
   "metadata": {},
   "outputs": [],
   "source": [
    "a = 1\n",
    "b = 2"
   ]
  },
  {
   "cell_type": "code",
   "execution_count": 93,
   "id": "797585ad-c010-4b68-a66b-4ae9ee7680fc",
   "metadata": {},
   "outputs": [],
   "source": [
    "a = a + b\n",
    "a = a - b\n",
    "a = a * b\n",
    "a = a / b"
   ]
  },
  {
   "cell_type": "code",
   "execution_count": null,
   "id": "54cad6dc-0161-44aa-9cd4-641c3b0aa5f1",
   "metadata": {},
   "outputs": [],
   "source": [
    "a += b\n",
    "a -= b\n",
    "a *= b\n",
    "a /= b"
   ]
  },
  {
   "cell_type": "markdown",
   "id": "c5259146-517c-471f-b07b-82dadb8e96c6",
   "metadata": {},
   "source": [
    "### 2.5 기타 연산자"
   ]
  },
  {
   "cell_type": "code",
   "execution_count": 94,
   "id": "5db8dcfa-adc4-43b0-b320-b4ef5e560b6e",
   "metadata": {},
   "outputs": [],
   "source": [
    "a = 'hi'\n",
    "b = 'hellow'"
   ]
  },
  {
   "cell_type": "code",
   "execution_count": 96,
   "id": "0b1f3eec-d383-40a4-a9be-0204eed867da",
   "metadata": {},
   "outputs": [
    {
     "name": "stdout",
     "output_type": "stream",
     "text": [
      "hihellow\n"
     ]
    }
   ],
   "source": [
    "# concatenation\n",
    "print(a + b)"
   ]
  },
  {
   "cell_type": "code",
   "execution_count": 97,
   "id": "7c0493a6-82e6-4199-9718-3024992c5bc8",
   "metadata": {},
   "outputs": [],
   "source": [
    "a = [1, 2, 3]\n",
    "b = [4, 5, 6]"
   ]
  },
  {
   "cell_type": "code",
   "execution_count": 99,
   "id": "311948ad-7365-4b9b-8cdf-ec8f31159566",
   "metadata": {},
   "outputs": [
    {
     "name": "stdout",
     "output_type": "stream",
     "text": [
      "[1, 2, 3, 4, 5, 6]\n"
     ]
    }
   ],
   "source": [
    "print(a + b)\n",
    "\n",
    "# list 형식도 연결해줌"
   ]
  },
  {
   "cell_type": "code",
   "execution_count": 101,
   "id": "e35ddb30-ff75-4eeb-a0bf-ced429426d32",
   "metadata": {},
   "outputs": [
    {
     "name": "stdout",
     "output_type": "stream",
     "text": [
      "True\n",
      "False\n"
     ]
    }
   ],
   "source": [
    "# containment\n",
    "print(1 in a)\n",
    "print(10 in a)"
   ]
  },
  {
   "cell_type": "code",
   "execution_count": 105,
   "id": "faa631b3-879b-4d78-88c8-586a26d33393",
   "metadata": {},
   "outputs": [
    {
     "name": "stdout",
     "output_type": "stream",
     "text": [
      "True\n",
      "True\n"
     ]
    }
   ],
   "source": [
    "# identity\n",
    "\n",
    "a = 5\n",
    "b = 5\n",
    "\n",
    "print(a == b)\n",
    "print(a is b)"
   ]
  },
  {
   "cell_type": "code",
   "execution_count": 106,
   "id": "373943db-2f8b-491c-ab03-149f4028a2f2",
   "metadata": {},
   "outputs": [
    {
     "name": "stdout",
     "output_type": "stream",
     "text": [
      "True\n",
      "False\n"
     ]
    }
   ],
   "source": [
    "a = 123123\n",
    "b = 123123\n",
    "\n",
    "print(a == b)\n",
    "print(a is b)\n",
    "\n",
    "# is는 데이터가 아닌 메모리 값을 비교함.\n",
    "# -5부터 256 까지는 메모리 값이 같다고 나오지만, 그 이상 이하는 메모리 값이 다름"
   ]
  },
  {
   "cell_type": "markdown",
   "id": "f5c4aed7-09b1-4140-b88f-e239dc326684",
   "metadata": {},
   "source": [
    "### 우선순위\n",
    "\n",
    "0. ()를 통해 그룹\n",
    "1. **\n",
    "2. 산술연산자(*, /)\n",
    "3. 산술연산자(+, -)\n",
    "4. 비교연산자, in, is\n",
    "5. not\n",
    "6. and\n",
    "7. or"
   ]
  },
  {
   "cell_type": "code",
   "execution_count": 107,
   "id": "c41c17f3-6d8c-4451-a757-999f3e1463e1",
   "metadata": {},
   "outputs": [
    {
     "name": "stdout",
     "output_type": "stream",
     "text": [
      "-81\n"
     ]
    }
   ],
   "source": [
    "print(-3**4)\n",
    "# 81 이 아닌 -81인 이유는 - 보다 ** 계산이 우선순위이기 때문."
   ]
  },
  {
   "cell_type": "markdown",
   "id": "84c38760-d668-4fea-9b7e-fff306d39202",
   "metadata": {},
   "source": [
    "## 3. 형변환\n",
    "### 3.1 암시적 형변환"
   ]
  },
  {
   "cell_type": "code",
   "execution_count": 108,
   "id": "14ed86f4-76bd-4096-87b7-fd9b9a64471f",
   "metadata": {},
   "outputs": [],
   "source": [
    "a = True\n",
    "b = False\n",
    "c = 1"
   ]
  },
  {
   "cell_type": "code",
   "execution_count": 111,
   "id": "f9b1c9b4-4392-4a50-9e3b-4bcdf508f375",
   "metadata": {},
   "outputs": [
    {
     "name": "stdout",
     "output_type": "stream",
     "text": [
      "1\n",
      "-1\n",
      "2\n"
     ]
    }
   ],
   "source": [
    "print(a + b)\n",
    "print(b - c)\n",
    "print(a + c)\n",
    "# python이 알아서 숫자 값으로 변환"
   ]
  },
  {
   "cell_type": "code",
   "execution_count": 112,
   "id": "a3d21abc-30ff-4142-86d4-75760f4cc6b0",
   "metadata": {},
   "outputs": [],
   "source": [
    "i_n = 3\n",
    "f_n = 3.3\n",
    "c_n = 3 + 3j"
   ]
  },
  {
   "cell_type": "code",
   "execution_count": 117,
   "id": "f42f3cb9-8a08-4ba8-b2d1-55b576e324d9",
   "metadata": {},
   "outputs": [
    {
     "name": "stdout",
     "output_type": "stream",
     "text": [
      "6.3\n",
      "<class 'float'>\n"
     ]
    }
   ],
   "source": [
    "print(i_n + f_n)\n",
    "print(type(i_n + f_n))\n",
    "\n",
    "# 형태가 다른 숫자형도 알아서 계산해줌(정수, 실수, 허수)"
   ]
  },
  {
   "cell_type": "markdown",
   "id": "abbf2c32-4125-4822-aa7b-244c3764d9b0",
   "metadata": {},
   "source": [
    "### 3.2 명시적 형변환\n",
    "\n",
    "- int() : string, float => int\n",
    "- float() : string, int => float\n",
    "- str() : int, float => string\n",
    "- bool() : int, string => bool"
   ]
  },
  {
   "cell_type": "code",
   "execution_count": 116,
   "id": "cc7cd6f7-1b4a-4a1a-8803-d902860e4cdf",
   "metadata": {},
   "outputs": [],
   "source": [
    "a = 1\n",
    "b = '번'"
   ]
  },
  {
   "cell_type": "code",
   "execution_count": 120,
   "id": "4699a039-be01-48a0-bd10-2d8e246b4eb3",
   "metadata": {},
   "outputs": [
    {
     "ename": "TypeError",
     "evalue": "unsupported operand type(s) for +: 'int' and 'str'",
     "output_type": "error",
     "traceback": [
      "\u001b[1;31m---------------------------------------------------------------------------\u001b[0m",
      "\u001b[1;31mTypeError\u001b[0m                                 Traceback (most recent call last)",
      "Cell \u001b[1;32mIn[120], line 1\u001b[0m\n\u001b[1;32m----> 1\u001b[0m \u001b[38;5;28mprint\u001b[39m(\u001b[43ma\u001b[49m\u001b[43m \u001b[49m\u001b[38;5;241;43m+\u001b[39;49m\u001b[43m \u001b[49m\u001b[43mb\u001b[49m)\n\u001b[0;32m      2\u001b[0m \u001b[38;5;66;03m# a + 까지는 연산자로 인식 하지만 다음에 문자가 들어와서 오류\u001b[39;00m\n",
      "\u001b[1;31mTypeError\u001b[0m: unsupported operand type(s) for +: 'int' and 'str'"
     ]
    }
   ],
   "source": [
    "print(a + b)\n",
    "# a + 까지는 연산자로 인식 하지만 다음에 문자가 들어와서 오류"
   ]
  },
  {
   "cell_type": "code",
   "execution_count": 121,
   "id": "a3ec0007-ecb3-43e8-bbe8-0564a0de17f6",
   "metadata": {},
   "outputs": [
    {
     "name": "stdout",
     "output_type": "stream",
     "text": [
      "1번\n"
     ]
    }
   ],
   "source": [
    "print(str(a) + b)"
   ]
  },
  {
   "cell_type": "code",
   "execution_count": 122,
   "id": "5a3077c0-bb25-4df0-84a4-e824a1849655",
   "metadata": {},
   "outputs": [
    {
     "name": "stdout",
     "output_type": "stream",
     "text": [
      "<class 'str'>\n",
      "<class 'int'>\n"
     ]
    }
   ],
   "source": [
    "a = '3'\n",
    "print(type(a))\n",
    "print(type(int(a)))"
   ]
  },
  {
   "cell_type": "code",
   "execution_count": 124,
   "id": "9523eef3-6ada-4a1e-acdc-6ee76ecaf553",
   "metadata": {},
   "outputs": [
    {
     "ename": "SyntaxError",
     "evalue": "invalid syntax (626319595.py, line 2)",
     "output_type": "error",
     "traceback": [
      "\u001b[1;36m  Cell \u001b[1;32mIn[124], line 2\u001b[1;36m\u001b[0m\n\u001b[1;33m    print(int(a)) 이건 오류임\u001b[0m\n\u001b[1;37m                  ^\u001b[0m\n\u001b[1;31mSyntaxError\u001b[0m\u001b[1;31m:\u001b[0m invalid syntax\n"
     ]
    }
   ],
   "source": [
    "a = 'a'\n",
    "print(int(a)) 이건 오류임\n",
    "\n",
    "# 이건 잘못된 변환"
   ]
  },
  {
   "cell_type": "code",
   "execution_count": 126,
   "id": "d30189e0-bffc-4c53-b755-7bba6b8cc869",
   "metadata": {},
   "outputs": [
    {
     "name": "stdout",
     "output_type": "stream",
     "text": [
      "3.3\n"
     ]
    }
   ],
   "source": [
    "a = '3.3'\n",
    "print(float(a))"
   ]
  },
  {
   "cell_type": "code",
   "execution_count": 129,
   "id": "107ecf14-52df-479f-a7b2-72668505eee5",
   "metadata": {},
   "outputs": [
    {
     "name": "stdout",
     "output_type": "stream",
     "text": [
      "True\n",
      "False\n"
     ]
    }
   ],
   "source": [
    "a = 1\n",
    "b = 0\n",
    "\n",
    "print(bool(a))\n",
    "print(bool(b))"
   ]
  },
  {
   "cell_type": "code",
   "execution_count": 130,
   "id": "5bb267cf-2348-4a3e-91df-fc8cdaba39bc",
   "metadata": {},
   "outputs": [
    {
     "name": "stdout",
     "output_type": "stream",
     "text": [
      "False\n",
      "True\n"
     ]
    }
   ],
   "source": [
    "print(bool([]))\n",
    "print(bool([1, 2, 3]))"
   ]
  },
  {
   "cell_type": "code",
   "execution_count": null,
   "id": "24d6c344-eb8c-41db-b2ef-0c9a9701b336",
   "metadata": {},
   "outputs": [],
   "source": []
  },
  {
   "cell_type": "markdown",
   "id": "af1e2522-7c24-49a1-b058-7147482a5c7e",
   "metadata": {},
   "source": [
    "## 4. 시퀀스 자료형\n",
    "\n",
    "시퀀스는 데이터의 순서대로 나열된 자료구조. (순서대로 나열되었다는 것은 정렬된것과 다르다)\n",
    "\n",
    "1. List\n",
    "2. Tuple\n",
    "3. Range\n",
    "4. String"
   ]
  },
  {
   "cell_type": "markdown",
   "id": "ff74b646-266b-4d2f-b3e3-7ae43ec7029a",
   "metadata": {},
   "source": [
    "### 4.1 List(리스트, 배열)\n",
    "\n",
    "- 선언: 변수이름 = [value1, value2, value3, ...]\n",
    "- 접근: 변수이름[index]"
   ]
  },
  {
   "cell_type": "code",
   "execution_count": 141,
   "id": "d02bbdbb-5cc3-470a-840c-0424a88a2c2e",
   "metadata": {},
   "outputs": [
    {
     "name": "stdout",
     "output_type": "stream",
     "text": [
      "[]\n",
      "<class 'list'>\n"
     ]
    }
   ],
   "source": [
    "l = []\n",
    "print(l)\n",
    "print(type(l))"
   ]
  },
  {
   "cell_type": "code",
   "execution_count": 137,
   "id": "531193fb-bbd4-43d9-ae57-f650e85a612b",
   "metadata": {},
   "outputs": [
    {
     "name": "stdout",
     "output_type": "stream",
     "text": [
      "['서울', '대전', '부산']\n",
      "대전\n",
      "['서울', '광주', '부산']\n"
     ]
    }
   ],
   "source": [
    "location = ['서울', '대전', '부산']\n",
    "print(location)\n",
    "print(location[1]) # 대전\n",
    "# print(location[3]) 에러 발생\n",
    "\n",
    "location[1] = '광주'\n",
    "print(location)"
   ]
  },
  {
   "cell_type": "markdown",
   "id": "67a0cd5a-92bc-429a-92c1-5c7d7c8429fd",
   "metadata": {},
   "source": [
    "### 4.2 Tuple (튜플)\n",
    "- 선언 : 변수이름 = (value1, value2, value3)\n",
    "- 접근: 변수이름[index]\n",
    "- 리스트와 유사하지만 수정불가능(immutable)이다."
   ]
  },
  {
   "cell_type": "code",
   "execution_count": 139,
   "id": "af2d9a87-10b9-49a9-994d-5c3b899e8882",
   "metadata": {},
   "outputs": [
    {
     "name": "stdout",
     "output_type": "stream",
     "text": [
      "(123, 456, 789)\n",
      "456\n"
     ]
    }
   ],
   "source": [
    "numbers = (123,456,789)\n",
    "print(numbers)\n",
    "print(numbers[1])"
   ]
  },
  {
   "cell_type": "code",
   "execution_count": 142,
   "id": "4e32e28b-3c5d-40f5-8e6d-370c6ef06f43",
   "metadata": {},
   "outputs": [
    {
     "name": "stdout",
     "output_type": "stream",
     "text": [
      "1 2\n"
     ]
    }
   ],
   "source": [
    "x, y = (1, 2)\n",
    "print(x, y)"
   ]
  },
  {
   "cell_type": "markdown",
   "id": "ac094441-9622-44af-b9ea-77a64fd0060a",
   "metadata": {},
   "source": [
    "### 4.3 Range\n",
    "\n",
    "- range(n) : 0 부터 n-1 까지 범위\n",
    "- range(n, m) : n부터 m-1까지 범위\n",
    "- range(n, m, s) : n부터 n-1까지 s만큼 증가하는 범위"
   ]
  },
  {
   "cell_type": "code",
   "execution_count": 148,
   "id": "3294d6bb-f994-458e-9ea1-f4a2caa903ec",
   "metadata": {},
   "outputs": [
    {
     "name": "stdout",
     "output_type": "stream",
     "text": [
      "range(0, 45)\n",
      "[0, 1, 2, 3, 4, 5, 6, 7, 8, 9, 10, 11, 12, 13, 14, 15, 16, 17, 18, 19, 20, 21, 22, 23, 24, 25, 26, 27, 28, 29, 30, 31, 32, 33, 34, 35, 36, 37, 38, 39, 40, 41, 42, 43, 44]\n"
     ]
    }
   ],
   "source": [
    "lotto = range(45)\n",
    "print(lotto)\n",
    "print(list(lotto))"
   ]
  },
  {
   "cell_type": "code",
   "execution_count": 147,
   "id": "1d95ab29-d819-42f9-8e82-dab58c724b13",
   "metadata": {},
   "outputs": [
    {
     "name": "stdout",
     "output_type": "stream",
     "text": [
      "range(5, 10)\n",
      "[5, 6, 7, 8, 9]\n"
     ]
    }
   ],
   "source": [
    "numbers = range(5, 10)\n",
    "print(numbers)\n",
    "print(list(numbers))"
   ]
  },
  {
   "cell_type": "code",
   "execution_count": 149,
   "id": "fd903017-04f0-4fe0-8d56-78984f6209a7",
   "metadata": {},
   "outputs": [
    {
     "name": "stdout",
     "output_type": "stream",
     "text": [
      "range(2, 20, 2)\n",
      "[2, 4, 6, 8, 10, 12, 14, 16, 18]\n"
     ]
    }
   ],
   "source": [
    "even = range(2, 20, 2)\n",
    "print(even)\n",
    "print(list(even))"
   ]
  },
  {
   "cell_type": "code",
   "execution_count": 150,
   "id": "f9d2ecd6-cd9e-43cc-b835-37e893681ddc",
   "metadata": {},
   "outputs": [
    {
     "name": "stdout",
     "output_type": "stream",
     "text": [
      "range(0, -10, -2)\n",
      "[0, -2, -4, -6, -8]\n"
     ]
    }
   ],
   "source": [
    "even = range(0, -10, -2)\n",
    "print(even)\n",
    "print(list(even))"
   ]
  },
  {
   "cell_type": "markdown",
   "id": "a2aba9e0-8755-4aa7-8353-b49d51b22188",
   "metadata": {},
   "source": [
    "### 4.4 string\n",
    "\n",
    "기본데이터 구조 참고"
   ]
  },
  {
   "cell_type": "markdown",
   "id": "553377bc-89f9-4422-a391-4b561beb66ab",
   "metadata": {},
   "source": [
    "### 4.5 시퀀스에서 활용가능한 연산/함수"
   ]
  },
  {
   "cell_type": "code",
   "execution_count": 157,
   "id": "2115ee97-7ca6-43a4-830c-b25ee42d4b60",
   "metadata": {},
   "outputs": [
    {
     "name": "stdout",
     "output_type": "stream",
     "text": [
      "[1, 2, 3, 4, 5]\n",
      "(1, 2, 3, 4, 5)\n",
      "range(0, 5)\n",
      "12345\n"
     ]
    }
   ],
   "source": [
    "my_list = [1, 2, 3, 4, 5]\n",
    "my_tuple = (1, 2, 3, 4, 5)\n",
    "my_range = range(5)\n",
    "my_string = '12345'\n",
    "\n",
    "print(my_list)\n",
    "print(my_tuple)\n",
    "print(list(my_range))\n",
    "print(my_string)"
   ]
  },
  {
   "cell_type": "code",
   "execution_count": 153,
   "id": "77dcd44f-9483-412c-aa43-7ca064ff153f",
   "metadata": {},
   "outputs": [
    {
     "name": "stdout",
     "output_type": "stream",
     "text": [
      "1\n",
      "1\n",
      "0\n",
      "12345\n"
     ]
    }
   ],
   "source": [
    "# indexing 어떤 특정한 데이터에 접근하는 것\n",
    "print(my_list[0])\n",
    "print(my_tuple[0])\n",
    "print(my_range[0])\n",
    "print(my_string)"
   ]
  },
  {
   "cell_type": "code",
   "execution_count": 158,
   "id": "e65d649f-1540-4101-8ac4-396f9522df3e",
   "metadata": {},
   "outputs": [
    {
     "name": "stdout",
     "output_type": "stream",
     "text": [
      "[2, 3]\n",
      "(2, 3)\n",
      "range(1, 3)\n",
      "23\n",
      "13\n"
     ]
    }
   ],
   "source": [
    "# slicing\n",
    "print(my_list[1:3]) # 1번쨰 자리 이상, 3번째 자리 미만으로 정의\n",
    "print(my_tuple[1:3])\n",
    "print(my_range[1:3])\n",
    "print(my_string[1:3])\n",
    "print(my_string[0:4:2])"
   ]
  },
  {
   "cell_type": "code",
   "execution_count": 164,
   "id": "a62a5742-8914-4682-9dc7-4b29792189d5",
   "metadata": {},
   "outputs": [
    {
     "name": "stdout",
     "output_type": "stream",
     "text": [
      "True\n",
      "True\n",
      "True\n",
      "False\n"
     ]
    }
   ],
   "source": [
    "# in\n",
    "print(1 in my_list)\n",
    "print(1 in my_tuple)\n",
    "print('1' in my_string)\n",
    "\n",
    "# not in\n",
    "print(1 not in my_list)"
   ]
  },
  {
   "cell_type": "code",
   "execution_count": 172,
   "id": "813165e6-f90f-423a-9b92-81952b6269c8",
   "metadata": {},
   "outputs": [
    {
     "name": "stdout",
     "output_type": "stream",
     "text": [
      "[1, 2, 3, 4, 5, 6, 7, 8, 9, 10]\n",
      "(1, 2, 3, 4, 5, 6, 7, 8, 9, 10)\n",
      "12345678910\n"
     ]
    }
   ],
   "source": [
    "# concatenation\n",
    "print(my_list + [6, 7, 8, 9, 10])\n",
    "print(my_tuple + (6, 7, 8, 9, 10))\n",
    "print(my_string + '678910')"
   ]
  },
  {
   "cell_type": "code",
   "execution_count": 173,
   "id": "1ff6f2c9-c0e7-4cee-82e6-68eb34834b87",
   "metadata": {},
   "outputs": [
    {
     "name": "stdout",
     "output_type": "stream",
     "text": [
      "##########\n",
      "[1, 2, 3, 4, 5, 1, 2, 3, 4, 5]\n"
     ]
    }
   ],
   "source": [
    "# *\n",
    "print('#' * 10)\n",
    "print(my_list * 2)"
   ]
  },
  {
   "cell_type": "code",
   "execution_count": 174,
   "id": "10d1ce06-13aa-487d-9fa0-8e547070c205",
   "metadata": {},
   "outputs": [
    {
     "name": "stdout",
     "output_type": "stream",
     "text": [
      "5\n"
     ]
    }
   ],
   "source": [
    "print(len(my_list))"
   ]
  },
  {
   "cell_type": "code",
   "execution_count": 175,
   "id": "919c983a-2fa3-43f0-8859-bd7064a849a6",
   "metadata": {},
   "outputs": [
    {
     "name": "stdout",
     "output_type": "stream",
     "text": [
      "5\n",
      "1\n"
     ]
    }
   ],
   "source": [
    "print(max(my_list))\n",
    "print(min(my_list))"
   ]
  },
  {
   "cell_type": "markdown",
   "id": "46d67eb9-5d25-4107-b50b-a7b0d7a35d58",
   "metadata": {},
   "source": [
    "## 5. 시퀀스형이 아닌 자료구조"
   ]
  },
  {
   "cell_type": "markdown",
   "id": "60b3ec40-c781-40f3-a5dc-91a13fa79c41",
   "metadata": {},
   "source": [
    "### 5.1 set\n",
    "수학에서 사용하는 집합과 동일한 개념(중복값이 없음)\n",
    "- 선언: 변수이름 = {value1, value2, value3, ...}"
   ]
  },
  {
   "cell_type": "code",
   "execution_count": 1,
   "id": "1d005a18-0edb-4b08-8aaa-c22ceab1d016",
   "metadata": {},
   "outputs": [],
   "source": [
    "my_a = {1, 3, 5, 7, 9}\n",
    "my_b = {1, 2, 3, 4, 6, 8, 10}"
   ]
  },
  {
   "cell_type": "code",
   "execution_count": 2,
   "id": "47ec8fb3-c372-4d8f-9350-bec8abe059c9",
   "metadata": {},
   "outputs": [
    {
     "name": "stdout",
     "output_type": "stream",
     "text": [
      "{9, 5, 7}\n",
      "{1, 2, 3, 4, 5, 6, 7, 8, 9, 10}\n",
      "{1, 3}\n"
     ]
    }
   ],
   "source": [
    "print(my_a - my_b)\n",
    "print(my_a | my_b)\n",
    "print(my_a & my_b)"
   ]
  },
  {
   "cell_type": "code",
   "execution_count": 4,
   "id": "e91f79f6-ee0c-405e-8b30-0544e81772db",
   "metadata": {},
   "outputs": [
    {
     "name": "stdout",
     "output_type": "stream",
     "text": [
      "{1, 2, 3, 4}\n"
     ]
    }
   ],
   "source": [
    "test_set = {1, 2, 3, 4, 1, 3, 4, 3, 3, 4, 3}\n",
    "print(test_set)"
   ]
  },
  {
   "cell_type": "markdown",
   "id": "28f8b923-0d61-423b-a755-d4cf713fc217",
   "metadata": {},
   "source": [
    "### 5.2 Dictionary\n",
    "\n",
    "- 선언 : 변수이름 = {key1: value1, key2: value2, ...}\n",
    "- 접근 : 변수이름[key]"
   ]
  },
  {
   "cell_type": "code",
   "execution_count": 183,
   "id": "2741c6db-8fbe-4773-b8ec-e224641b4bfa",
   "metadata": {},
   "outputs": [
    {
     "name": "stdout",
     "output_type": "stream",
     "text": [
      "{'서울': '02', '경기': '031'}\n",
      "02\n"
     ]
    }
   ],
   "source": [
    "my_di = {'서울': '02', '경기' : '031'}\n",
    "print(my_di)\n",
    "print(my_di['서울'])"
   ]
  },
  {
   "cell_type": "code",
   "execution_count": 185,
   "id": "b90e282c-b126-44eb-aa6b-f384eee425cb",
   "metadata": {},
   "outputs": [
    {
     "name": "stdout",
     "output_type": "stream",
     "text": [
      "{'name': 'changhee', 'location': 'seoul', 'age': 10}\n",
      "seoul\n"
     ]
    }
   ],
   "source": [
    "my_info = {\n",
    "    'name': 'changhee',\n",
    "    'location': 'seoul',\n",
    "    'age': 10,\n",
    "}\n",
    "print(my_info)\n",
    "print(my_info['location'])"
   ]
  },
  {
   "cell_type": "code",
   "execution_count": 187,
   "id": "b36d2a77-9694-4f4a-a459-64216f19896e",
   "metadata": {},
   "outputs": [
    {
     "data": {
      "text/plain": [
       "dict_keys(['name', 'location', 'age'])"
      ]
     },
     "execution_count": 187,
     "metadata": {},
     "output_type": "execute_result"
    }
   ],
   "source": [
    "my_info.keys()"
   ]
  },
  {
   "cell_type": "code",
   "execution_count": 188,
   "id": "a87079cd-cd9c-4c38-bd7a-7b601e63aa33",
   "metadata": {},
   "outputs": [
    {
     "data": {
      "text/plain": [
       "dict_values(['changhee', 'seoul', 10])"
      ]
     },
     "execution_count": 188,
     "metadata": {},
     "output_type": "execute_result"
    }
   ],
   "source": [
    "my_info.values()"
   ]
  },
  {
   "cell_type": "markdown",
   "id": "c5308669-06bd-43f1-905f-e8dd7e4169ae",
   "metadata": {},
   "source": [
    "##### 데이터 타입\n",
    "1. Number\n",
    "2. Boolean\n",
    "3. string\n",
    "\n",
    "##### 자료구조\n",
    "- 시퀀스 자료형\n",
    "1. [List] : mutable\n",
    "2. (Tuple) : immutable\n",
    "3. range() : immutable\n",
    "4. 'String' : immutable\n",
    "\n",
    "- 시퀀스가 아닌 자료형\n",
    "1. {set} : mutable\n",
    "2. {Dict: ionary} : mutable"
   ]
  }
 ],
 "metadata": {
  "kernelspec": {
   "display_name": "Python 3 (ipykernel)",
   "language": "python",
   "name": "python3"
  },
  "language_info": {
   "codemirror_mode": {
    "name": "ipython",
    "version": 3
   },
   "file_extension": ".py",
   "mimetype": "text/x-python",
   "name": "python",
   "nbconvert_exporter": "python",
   "pygments_lexer": "ipython3",
   "version": "3.12.4"
  }
 },
 "nbformat": 4,
 "nbformat_minor": 5
}
