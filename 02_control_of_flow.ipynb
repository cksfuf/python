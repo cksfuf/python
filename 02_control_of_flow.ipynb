{
 "cells": [
  {
   "cell_type": "markdown",
   "id": "90b8bdf3-6d5b-4eb7-b078-9ac293d0c05c",
   "metadata": {},
   "source": [
    "## 제어문\n",
    "1. if문은 반드시 일정한 참/거짓을 판단 할 수 있는 '조건식'과 함꼐 사용된다. (if <조건식>:)\n",
    "2. <조건식> 참(True)인 경우 : 이후의 문장을 실행\n",
    "3. <조건식> 거짓(False)인 경우 `else`: 이후의 문장을 실행\n",
    "\n",
    "```\n",
    "if <조건식>:\n",
    "    if의 조건식이 참인 경우 실행\n",
    "else:\n",
    "    if의 조건식이 거짓인 경우 실행\n",
    "```"
   ]
  },
  {
   "cell_type": "code",
   "execution_count": 9,
   "id": "84182e85-7ae5-41e2-922f-223b16b10d6d",
   "metadata": {},
   "outputs": [
    {
     "name": "stdin",
     "output_type": "stream",
     "text": [
      " 3.2\n"
     ]
    },
    {
     "name": "stdout",
     "output_type": "stream",
     "text": [
      "아닙니다\n"
     ]
    }
   ],
   "source": [
    "my_string = input()\n",
    "\n",
    "if my_string == '12/25':\n",
    "    print('크리스마스 입니다')\n",
    "else:\n",
    "    print('아닙니다')"
   ]
  },
  {
   "cell_type": "code",
   "execution_count": 14,
   "id": "6bdf111a-b023-409b-8258-87cedc2f4a38",
   "metadata": {},
   "outputs": [
    {
     "name": "stdin",
     "output_type": "stream",
     "text": [
      "숫자를 입력해주세요 33\n"
     ]
    },
    {
     "name": "stdout",
     "output_type": "stream",
     "text": [
      "1\n",
      "홀수입니다.\n"
     ]
    }
   ],
   "source": [
    "num = input('숫자를 입력해주세요')\n",
    "\n",
    "# result = num % 2\n",
    "# 여기서 끝내면 string formatting 오류뜸.\n",
    "# 데이터 타입 오류. num을 글자로 인식하고 있음.\n",
    "# 명시적 형 변환 해주자.\n",
    "\n",
    "result = int(num) % 2 # int() 를 사용하여 형변환\n",
    "print(result)\n",
    "\n",
    "if bool(result):\n",
    "    print('홀수입니다.')\n",
    "else:\n",
    "    print('짝수입니다.')"
   ]
  },
  {
   "cell_type": "code",
   "execution_count": 15,
   "id": "3a713ae4-3ccf-471b-84f7-603840e3fb29",
   "metadata": {},
   "outputs": [
    {
     "name": "stdin",
     "output_type": "stream",
     "text": [
      " 3\n"
     ]
    },
    {
     "name": "stdout",
     "output_type": "stream",
     "text": [
      "홀수 입니다.\n"
     ]
    }
   ],
   "source": [
    "num = int(input())\n",
    "\n",
    "if num % 2 == 1:\n",
    "    print('홀수 입니다.')\n",
    "else:\n",
    "    print('짝수 입니다.')"
   ]
  },
  {
   "cell_type": "code",
   "execution_count": 17,
   "id": "397463c6-1c50-41c9-a2ca-70d4b5614f2e",
   "metadata": {},
   "outputs": [
    {
     "name": "stdin",
     "output_type": "stream",
     "text": [
      " 33\n"
     ]
    },
    {
     "name": "stdout",
     "output_type": "stream",
     "text": [
      "홀수 입니다.\n"
     ]
    }
   ],
   "source": [
    "num = int(input())\n",
    "\n",
    "if num % 2 == 0:\n",
    "    print('짝수 입니다.')\n",
    "else:\n",
    "    print('홀수 입니다.')\n",
    "\n",
    "# 사실 if 문에서는 bool() 형식을 안써줘도 알아서 바꿔줌."
   ]
  },
  {
   "cell_type": "code",
   "execution_count": 21,
   "id": "a00674c6-7079-46e6-8b4c-2c90f4e695fb",
   "metadata": {},
   "outputs": [
    {
     "name": "stdin",
     "output_type": "stream",
     "text": [
      " 23\n"
     ]
    },
    {
     "name": "stdout",
     "output_type": "stream",
     "text": [
      "홀수\n"
     ]
    }
   ],
   "source": [
    "num = int(input())\n",
    "\n",
    "if num % 2:\n",
    "    print('홀수')\n",
    "else:\n",
    "    print('짝수')"
   ]
  },
  {
   "cell_type": "markdown",
   "id": "b1d16a0b-b397-4997-8263-a2ed269f06b3",
   "metadata": {},
   "source": [
    "### elif\n",
    "\n",
    "```\n",
    "if <조건식>:\n",
    "    if 조건이 찬임 경우\n",
    "elif <조건식>:\n",
    "    elif 조건식이 참인경우\n",
    "else:\n",
    "    위의 조건식이 하나도 부합하지 않는 경우\n",
    "```"
   ]
  },
  {
   "cell_type": "code",
   "execution_count": 29,
   "id": "12a3eb03-3cf7-4f6c-8731-1a7ee4b6e409",
   "metadata": {},
   "outputs": [
    {
     "name": "stdin",
     "output_type": "stream",
     "text": [
      " 990\n"
     ]
    },
    {
     "name": "stdout",
     "output_type": "stream",
     "text": [
      "A\n"
     ]
    }
   ],
   "source": [
    "# 90점 이상은 A\n",
    "# 80~89 B\n",
    "# 70~79 C\n",
    "# 나머지 D\n",
    "\n",
    "score = int(input())\n",
    "\n",
    "if score >= 90:\n",
    "    print('A')\n",
    "elif score >= 80 and score <= 89:\n",
    "    print('B')\n",
    "elif 70 <= score <= 79: # and를 사용해도 되고 부등호를 둘다 써도됨. 근데 부등호 둘다 쓰는건 python만 되는걸로 알고있으셈.\n",
    "    print('c')\n",
    "else:\n",
    "    print('F')"
   ]
  },
  {
   "cell_type": "code",
   "execution_count": 31,
   "id": "60980ae7-55bc-4b0b-8d12-4af0950f175d",
   "metadata": {},
   "outputs": [
    {
     "name": "stdin",
     "output_type": "stream",
     "text": [
      " 33\n"
     ]
    },
    {
     "name": "stdout",
     "output_type": "stream",
     "text": [
      "F\n"
     ]
    }
   ],
   "source": [
    "# elif 문은 위에서부터 검증을 하고 내려옴. 즉, 검정된 사항은 다음 elif 문에 굳이 써주지 않아도 됨\n",
    "score = int(input())\n",
    "\n",
    "if score >= 90:\n",
    "    print('A')\n",
    "elif score >= 80:\n",
    "    print('B')\n",
    "elif score >= 70:\n",
    "    print('c')\n",
    "else:\n",
    "    print('F')"
   ]
  },
  {
   "cell_type": "code",
   "execution_count": 45,
   "id": "789cee00-52f9-4292-9af4-2694acf26a2c",
   "metadata": {},
   "outputs": [
    {
     "name": "stdin",
     "output_type": "stream",
     "text": [
      " 87\n"
     ]
    },
    {
     "name": "stdout",
     "output_type": "stream",
     "text": [
      "B\n",
      "노력\n"
     ]
    }
   ],
   "source": [
    "# if, elif 문 안에 또 구별이 필요한 경우 똑같이 if문을 작성함\n",
    "score = int(input())\n",
    "\n",
    "if score >= 90:\n",
    "    print('A')\n",
    "    if score >= 95:\n",
    "        print('참 잘했어요')\n",
    "elif score >= 80:\n",
    "    print('B')\n",
    "    if score >= 85:\n",
    "        print('노력')\n",
    "elif score >= 70:\n",
    "    print('c')\n",
    "else:\n",
    "    print('F')"
   ]
  },
  {
   "cell_type": "markdown",
   "id": "4deb18ed-4199-49db-89a5-27435520415d",
   "metadata": {},
   "source": [
    "### 조건표현식\n",
    "\n",
    "```\n",
    "true_value if <조건식> else false value\n",
    "```\n",
    "- 이 식은 지양함. 근데 왜 배우냐? 다른사람이 이 식 쓰면 읽을 순 있어야함."
   ]
  },
  {
   "cell_type": "code",
   "execution_count": 49,
   "id": "d31e4243-aa34-4cd8-b4e6-30323f90fa8f",
   "metadata": {},
   "outputs": [
    {
     "name": "stdout",
     "output_type": "stream",
     "text": [
      "True\n",
      "True\n"
     ]
    }
   ],
   "source": [
    "print('True') if 1 > 0 else print('False') # 아래 식이랑 똑같음\n",
    "\n",
    "if 1 > 0:\n",
    "    print('True')\n",
    "else:\n",
    "    print('False')"
   ]
  },
  {
   "cell_type": "code",
   "execution_count": 57,
   "id": "5c77f6dd-3b48-4559-81a5-f56facf6531e",
   "metadata": {},
   "outputs": [
    {
     "name": "stdin",
     "output_type": "stream",
     "text": [
      " 3\n"
     ]
    },
    {
     "name": "stdout",
     "output_type": "stream",
     "text": [
      "3\n"
     ]
    }
   ],
   "source": [
    "# num = 5\n",
    "# value = num if num >= 0 else 0\n",
    "# print(value)\n",
    "# 이 식을 if문으로 바꿔보기\n",
    "\n",
    "num = int(input())\n",
    "\n",
    "if num >= 0:\n",
    "    print(num)\n",
    "else:\n",
    "    print('0')"
   ]
  },
  {
   "cell_type": "code",
   "execution_count": 67,
   "id": "dac309a6-0a00-4103-a1aa-5f5caa75e833",
   "metadata": {},
   "outputs": [
    {
     "name": "stdin",
     "output_type": "stream",
     "text": [
      " 3\n"
     ]
    },
    {
     "name": "stdout",
     "output_type": "stream",
     "text": [
      "3\n"
     ]
    }
   ],
   "source": [
    "# 강사님 방법\n",
    "num = int(input())\n",
    "\n",
    "if num >= 0:\n",
    "    value = num\n",
    "else:\n",
    "    value = 0\n",
    "print(value)"
   ]
  },
  {
   "cell_type": "code",
   "execution_count": 69,
   "id": "b39b7c53-4c97-4c2c-a9ad-7210e832d7f4",
   "metadata": {},
   "outputs": [
    {
     "name": "stdout",
     "output_type": "stream",
     "text": [
      "홀수\n"
     ]
    }
   ],
   "source": [
    "num = 3\n",
    "\n",
    "if num % 2:\n",
    "    result = '홀수'\n",
    "else:\n",
    "    result = '짝수'\n",
    "\n",
    "print(result)"
   ]
  },
  {
   "cell_type": "code",
   "execution_count": 71,
   "id": "d699ed9f-b335-4375-9129-80568f2706f3",
   "metadata": {},
   "outputs": [
    {
     "name": "stdout",
     "output_type": "stream",
     "text": [
      "홀수\n"
     ]
    }
   ],
   "source": [
    "# 위 식 한줄로\n",
    "num = 3\n",
    "result = '홀수' if num % 2 else '짝수'\n",
    "print(result)"
   ]
  },
  {
   "cell_type": "markdown",
   "id": "d64df6ca-bf70-45d3-b7f0-e5ad07c9339e",
   "metadata": {},
   "source": [
    "## 반복문\n",
    "\n",
    "### while문\n",
    "```\n",
    "whil <조건식>:\n",
    "    실행할 코드\n",
    "```"
   ]
  },
  {
   "cell_type": "code",
   "execution_count": 72,
   "id": "e9ef0fdc-34d6-4ed7-ae8c-fa49c9f82d55",
   "metadata": {},
   "outputs": [
    {
     "name": "stdout",
     "output_type": "stream",
     "text": [
      "0\n",
      "1\n",
      "2\n",
      "3\n",
      "4\n"
     ]
    }
   ],
   "source": [
    "a = 0\n",
    "\n",
    "while a <5:\n",
    "    print(a)\n",
    "    a += 1 # a = a+1 과 같은 식"
   ]
  },
  {
   "cell_type": "code",
   "execution_count": 74,
   "id": "a8d5afab-3d2d-4656-b5bf-a298312608ad",
   "metadata": {},
   "outputs": [
    {
     "name": "stdin",
     "output_type": "stream",
     "text": [
      "안녕이라고 말해줘 안녕\n"
     ]
    }
   ],
   "source": [
    "grr = ''\n",
    "while grr != '안녕':\n",
    "    grr = input('안녕이라고 말해줘')\n",
    "\n",
    "# 변수이름은 간결하고 누구나 알 수 있게."
   ]
  },
  {
   "cell_type": "markdown",
   "id": "759fd62c-80da-487f-9fc0-482ed6f6eac2",
   "metadata": {},
   "source": [
    "### for\n",
    "\n",
    "정해진 범위 내의 반봅\n",
    "\n",
    "```\n",
    "for variable in sequence:\n",
    "    code\n",
    "```\n",
    "- sequence 는 반복을 하고 싶은 변수\n",
    "- sequence의 단일 아이템"
   ]
  },
  {
   "cell_type": "code",
   "execution_count": 75,
   "id": "9bb9bd08-8942-486a-8d3f-0029e9d33b38",
   "metadata": {},
   "outputs": [
    {
     "name": "stdout",
     "output_type": "stream",
     "text": [
      "1\n",
      "2\n",
      "3\n",
      "4\n",
      "5\n"
     ]
    }
   ],
   "source": [
    "numbers = [1, 2, 3, 4, 5]\n",
    "\n",
    "for number in numbers:\n",
    "    print(number)"
   ]
  },
  {
   "cell_type": "code",
   "execution_count": 76,
   "id": "a6088d55-8cd7-46fb-a898-e4492206d353",
   "metadata": {},
   "outputs": [
    {
     "name": "stdin",
     "output_type": "stream",
     "text": [
      "단어를 입력해주세요. apple\n"
     ]
    },
    {
     "name": "stdout",
     "output_type": "stream",
     "text": [
      "a\n",
      "p\n",
      "p\n",
      "l\n",
      "e\n"
     ]
    }
   ],
   "source": [
    "word = input('단어를 입력해주세요.')\n",
    "\n",
    "for char in word:\n",
    "    print(char)"
   ]
  },
  {
   "cell_type": "code",
   "execution_count": 79,
   "id": "40a965fb-a95d-4f78-b1c7-b6ab83fa324f",
   "metadata": {},
   "outputs": [
    {
     "name": "stdout",
     "output_type": "stream",
     "text": [
      "0\n",
      "1\n",
      "2\n",
      "3\n",
      "4\n"
     ]
    }
   ],
   "source": [
    "for i  in range(5):\n",
    "    print(i)"
   ]
  },
  {
   "cell_type": "code",
   "execution_count": 80,
   "id": "3d5e8b34-f897-4192-b823-767f8b2fd193",
   "metadata": {},
   "outputs": [
    {
     "name": "stdout",
     "output_type": "stream",
     "text": [
      "1\n",
      "2\n",
      "3\n",
      "4\n",
      "5\n"
     ]
    }
   ],
   "source": [
    "for i in (1, 2, 3, 4, 5):\n",
    "    print(i)"
   ]
  },
  {
   "cell_type": "code",
   "execution_count": 100,
   "id": "4285be19-ceda-4ed5-bffd-3a255b151d53",
   "metadata": {},
   "outputs": [
    {
     "name": "stdout",
     "output_type": "stream",
     "text": [
      "1\n",
      "3\n",
      "5\n",
      "7\n",
      "9\n",
      "11\n",
      "13\n",
      "15\n",
      "17\n",
      "19\n",
      "21\n",
      "23\n",
      "25\n",
      "27\n",
      "29\n"
     ]
    }
   ],
   "source": [
    "# 1 ~ 30 까지 숫자들 중에서 홀수만 출력\n",
    "r = range(31)\n",
    "for i in r:\n",
    "    if i % 2: # 2로 나누면 1이 생김, 즉 True -> 저장\n",
    "        print(i)"
   ]
  },
  {
   "cell_type": "code",
   "execution_count": 93,
   "id": "44c9cd7b-a8ca-4e6c-8055-510627369a3c",
   "metadata": {},
   "outputs": [
    {
     "name": "stdout",
     "output_type": "stream",
     "text": [
      "1\n",
      "3\n",
      "5\n",
      "7\n",
      "9\n",
      "11\n",
      "13\n",
      "15\n",
      "17\n",
      "19\n",
      "21\n",
      "23\n",
      "25\n",
      "27\n",
      "29\n"
     ]
    }
   ],
   "source": [
    "# 강사님 식\n",
    "numbers = range(1, 30)\n",
    "\n",
    "for number in numbers:\n",
    "    if number % 2:\n",
    "        print(number)"
   ]
  },
  {
   "cell_type": "code",
   "execution_count": 95,
   "id": "e731ff60-d5fb-4a23-b2bd-39f18cbf7ab2",
   "metadata": {},
   "outputs": [
    {
     "name": "stdout",
     "output_type": "stream",
     "text": [
      "(0, '라면')\n",
      "(1, '김밥')\n",
      "(2, '백반')\n"
     ]
    }
   ],
   "source": [
    "menus = ['라면', '김밥', '백반']\n",
    "for menu in enumerate(menus):\n",
    "    print(menu)\n",
    "\n",
    "# 결과가 튜플로 나오며 0, 1, 2 인덱스 값이 같이 나옴.\n",
    "# enumerate는 menus의 그냥 값을 튜플로 감싸 아웃풋으로 만들어줌."
   ]
  },
  {
   "cell_type": "code",
   "execution_count": 99,
   "id": "81a3fef5-4af7-4356-8ee9-fab7240c2e66",
   "metadata": {},
   "outputs": [
    {
     "name": "stdout",
     "output_type": "stream",
     "text": [
      "0\n",
      "라면\n",
      "1\n",
      "김밥\n",
      "2\n",
      "백반\n"
     ]
    }
   ],
   "source": [
    "menus = ['라면', '김밥', '백반']\n",
    "for index, menu in enumerate(menus):\n",
    "    print(index)\n",
    "    print(menu)"
   ]
  },
  {
   "cell_type": "markdown",
   "id": "1455f243-961c-4259-8a17-864ac9aee76c",
   "metadata": {},
   "source": [
    "### dictionary 반복문\n",
    "\n",
    "1. for key in dict:\n",
    "2. for key in dict.keys():\n",
    "3. for key in dict.values():\n",
    "4. for key, value in dict.items():"
   ]
  },
  {
   "cell_type": "code",
   "execution_count": 101,
   "id": "6218040a-6935-4866-9ae3-11beb441ae89",
   "metadata": {},
   "outputs": [],
   "source": [
    "info = {\n",
    "    'name' : 'gildong',\n",
    "    'location' : 'seoul',\n",
    "    'phone' : '010-1234-5678',\n",
    "    'age' : 20, \n",
    "}"
   ]
  },
  {
   "cell_type": "code",
   "execution_count": 106,
   "id": "99763c8a-726a-4337-ba9a-f1d363c9a374",
   "metadata": {},
   "outputs": [
    {
     "name": "stdout",
     "output_type": "stream",
     "text": [
      "name\n",
      "location\n",
      "phone\n",
      "age\n"
     ]
    }
   ],
   "source": [
    "for cat in info:\n",
    "    print(cat)"
   ]
  },
  {
   "cell_type": "code",
   "execution_count": 112,
   "id": "7c0a6cda-9939-40d8-91bf-52c2b6603d51",
   "metadata": {},
   "outputs": [
    {
     "name": "stdout",
     "output_type": "stream",
     "text": [
      "name\n",
      "gildong\n",
      "location\n",
      "seoul\n",
      "phone\n",
      "010-1234-5678\n",
      "age\n",
      "20\n",
      "name\n",
      "gildong\n",
      "location\n",
      "seoul\n",
      "phone\n",
      "010-1234-5678\n",
      "age\n",
      "20\n"
     ]
    }
   ],
   "source": [
    "for cat in info:\n",
    "    print(cat)\n",
    "    print(info[cat])\n",
    "\n",
    "for key in info.keys():\n",
    "    print(key)\n",
    "    print(info[key])"
   ]
  },
  {
   "cell_type": "code",
   "execution_count": 111,
   "id": "b089c431-bbb7-4106-bf01-4e6f17a20578",
   "metadata": {},
   "outputs": [
    {
     "name": "stdout",
     "output_type": "stream",
     "text": [
      "gildong\n",
      "seoul\n",
      "010-1234-5678\n",
      "20\n"
     ]
    }
   ],
   "source": [
    "for value in info.values():\n",
    "    print(value)"
   ]
  },
  {
   "cell_type": "code",
   "execution_count": 113,
   "id": "c916cd7b-2fec-4a92-a0d4-a7352f9153f9",
   "metadata": {},
   "outputs": [
    {
     "name": "stdout",
     "output_type": "stream",
     "text": [
      "name gildong\n",
      "location seoul\n",
      "phone 010-1234-5678\n",
      "age 20\n"
     ]
    }
   ],
   "source": [
    "for key, value in info.items():\n",
    "    print(key, value)"
   ]
  },
  {
   "cell_type": "code",
   "execution_count": 3,
   "id": "357e709b-32f9-4495-85e0-61a1381b404c",
   "metadata": {},
   "outputs": [],
   "source": [
    "blood_type = {\n",
    "    'A' : 5,\n",
    "    'B' : 3,\n",
    "    'O' : 2,\n",
    "    'AB' : 2,\n",
    "}"
   ]
  },
  {
   "cell_type": "code",
   "execution_count": 4,
   "id": "9f83155b-2588-4bd8-9f60-5d39f7b05cb5",
   "metadata": {},
   "outputs": [
    {
     "name": "stdout",
     "output_type": "stream",
     "text": [
      "혈액형의 종류는 A B O AB "
     ]
    }
   ],
   "source": [
    "# 혈액형의 종류는?\n",
    "print('혈액형의 종류는', end=' ')\n",
    "for key in blood_type.keys():\n",
    "    print(key, end=' ')\n",
    "\n",
    "# print('글', end=' ') end=' '를 하면 프린트 값 다음 엔터가 아닌 띄어쓰기"
   ]
  },
  {
   "cell_type": "code",
   "execution_count": 121,
   "id": "54494f78-b2b0-4e46-8b1b-a34dbbe216d8",
   "metadata": {},
   "outputs": [
    {
     "name": "stdout",
     "output_type": "stream",
     "text": [
      "총 학생수는 12명입니다\n"
     ]
    }
   ],
   "source": [
    "# 총 학생수는 몇명입니다.\n",
    "result = 0\n",
    "for value in blood_type.values():\n",
    "    result = result + value\n",
    "\n",
    "print(f'총 학생수는 {result}명입니다') # print(f'총 학생수는 {}입니다') f {}는 프린트 옵션."
   ]
  },
  {
   "cell_type": "markdown",
   "id": "94effd08-49c2-4cea-b401-971e856b73f0",
   "metadata": {},
   "source": [
    "## break\n",
    "반복문을 종료 시키는 키워드"
   ]
  },
  {
   "cell_type": "code",
   "execution_count": 164,
   "id": "d8146a3a-f856-4f64-85ab-85a6304867fe",
   "metadata": {},
   "outputs": [
    {
     "name": "stdout",
     "output_type": "stream",
     "text": [
      "0\n",
      "1\n",
      "2\n",
      "3\n",
      "4\n",
      "5\n",
      "6\n",
      "7\n",
      "8\n",
      "9\n",
      "10\n"
     ]
    }
   ],
   "source": [
    "for i in range(100):\n",
    "    if i > 10:\n",
    "        break\n",
    "    print(i)"
   ]
  },
  {
   "cell_type": "code",
   "execution_count": 161,
   "id": "fdd44a7a-5085-4de3-81b6-74cce793dc64",
   "metadata": {},
   "outputs": [
    {
     "name": "stdout",
     "output_type": "stream",
     "text": [
      "0\n",
      "1\n",
      "2\n",
      "3\n",
      "4\n",
      "5 good\n",
      "6\n",
      "7\n",
      "8\n",
      "9\n",
      "10\n"
     ]
    }
   ],
   "source": [
    "for i in range(100):\n",
    "    if i == 5:    \n",
    "        print(5, 'good')\n",
    "    else:\n",
    "        if i > 10:\n",
    "            break\n",
    "        print(i)"
   ]
  },
  {
   "cell_type": "code",
   "execution_count": 138,
   "id": "50c9af79-012c-405a-8d7c-33a9673d743d",
   "metadata": {},
   "outputs": [
    {
     "name": "stdout",
     "output_type": "stream",
     "text": [
      "보리\n",
      "보리\n",
      "보리\n",
      "보리\n",
      "쌀\n",
      "잡았다\n"
     ]
    }
   ],
   "source": [
    "rice = ['보리', '보리', '보리', '보리', '쌀', '보리', ]\n",
    "\n",
    "for r in rice:\n",
    "    print(r)\n",
    "    if r =='쌀':\n",
    "        print('잡았다')\n",
    "        break"
   ]
  },
  {
   "cell_type": "code",
   "execution_count": 143,
   "id": "814c7b7d-9e1a-4a20-b681-1ad2195909ea",
   "metadata": {},
   "outputs": [
    {
     "name": "stdout",
     "output_type": "stream",
     "text": [
      "보리\n",
      "보리\n",
      "보리\n",
      "보리\n",
      "잡았다\n"
     ]
    }
   ],
   "source": [
    "i = 0\n",
    "\n",
    "while True:\n",
    "    if rice[i] == '쌀':\n",
    "        print('잡았다')\n",
    "        break\n",
    "    print(rice[i])\n",
    "    i += 1"
   ]
  },
  {
   "cell_type": "markdown",
   "id": "88bea2ab-972a-443d-83e4-eb35043fd6e3",
   "metadata": {},
   "source": [
    "### continue\n",
    "\n",
    "continue 이후의 코드를 실행하지 않고 반복을 진행"
   ]
  },
  {
   "cell_type": "code",
   "execution_count": 172,
   "id": "c283054e-faa6-4ec0-bf26-61018752c0f7",
   "metadata": {},
   "outputs": [
    {
     "name": "stdout",
     "output_type": "stream",
     "text": [
      "0\n",
      "2\n",
      "4\n",
      "6\n",
      "8\n",
      "10\n",
      "12\n",
      "14\n",
      "16\n",
      "18\n"
     ]
    }
   ],
   "source": [
    "for i in range(20):\n",
    "    if i % 2:\n",
    "        continue\n",
    "    print(i)"
   ]
  },
  {
   "cell_type": "code",
   "execution_count": 186,
   "id": "8da95db7-4088-41be-99e0-2822f0569537",
   "metadata": {},
   "outputs": [
    {
     "name": "stdout",
     "output_type": "stream",
     "text": [
      "38살입니다.\n",
      "82살입니다.\n",
      "39살입니다.\n"
     ]
    }
   ],
   "source": [
    "ages = [10, 20, 38, 82, 11, 13, 39]\n",
    "\n",
    "for age in ages:\n",
    "    if age <= 20:\n",
    "        continue\n",
    "    print(f'{age}살입니다.')"
   ]
  },
  {
   "cell_type": "markdown",
   "id": "0e3454f1-5443-4923-8fc5-738e4dac361a",
   "metadata": {},
   "source": [
    "### else\n",
    "\n",
    "else 문은 끝까지 반복된 후 실행됩니다.\n",
    "break를 만나지 않았을때 실행됩니다."
   ]
  },
  {
   "cell_type": "code",
   "execution_count": 176,
   "id": "775fec14-b102-4915-bf55-dca6b6982eca",
   "metadata": {},
   "outputs": [
    {
     "name": "stdout",
     "output_type": "stream",
     "text": [
      "0\n",
      "1\n",
      "2\n",
      "3\n",
      "4\n",
      "5\n"
     ]
    }
   ],
   "source": [
    "for i in range(10):\n",
    "    if i > 5:\n",
    "        break\n",
    "    print(i)\n",
    "else:\n",
    "    print('else입니다.')"
   ]
  },
  {
   "cell_type": "code",
   "execution_count": 5,
   "id": "58d91989-1d1a-40f1-9025-38bf067759a4",
   "metadata": {},
   "outputs": [],
   "source": [
    "if True:\n",
    "    pass"
   ]
  },
  {
   "cell_type": "markdown",
   "id": "3732a868-9c96-4a0a-aa59-75a53cdbf0e8",
   "metadata": {},
   "source": [
    "### pass"
   ]
  },
  {
   "cell_type": "code",
   "execution_count": 6,
   "id": "9606b944-6ec0-41b8-8e49-abfb634bbc73",
   "metadata": {},
   "outputs": [],
   "source": [
    "if True:\n",
    "    pass"
   ]
  },
  {
   "cell_type": "markdown",
   "id": "41a7e111-ec3b-4daa-a763-15334a49455c",
   "metadata": {},
   "source": [
    "### match\n",
    "\n",
    "```\n",
    "match value:\n",
    "    case 조건:\n",
    "        code\n",
    "    case 조건:\n",
    "        code\n",
    "    case _:\n",
    "        code\n",
    "```"
   ]
  },
  {
   "cell_type": "code",
   "execution_count": 7,
   "id": "a12d2a67-1de1-49a8-b0c5-bd99d8d8a861",
   "metadata": {},
   "outputs": [
    {
     "name": "stdout",
     "output_type": "stream",
     "text": [
      "i dont know\n"
     ]
    }
   ],
   "source": [
    "status = 123\n",
    "\n",
    "match status:\n",
    "    case 200:\n",
    "        print('ok')\n",
    "    case 404:\n",
    "        print('bad')\n",
    "    case _:\n",
    "        print('i dont know' )"
   ]
  }
 ],
 "metadata": {
  "kernelspec": {
   "display_name": "Python 3 (ipykernel)",
   "language": "python",
   "name": "python3"
  },
  "language_info": {
   "codemirror_mode": {
    "name": "ipython",
    "version": 3
   },
   "file_extension": ".py",
   "mimetype": "text/x-python",
   "name": "python",
   "nbconvert_exporter": "python",
   "pygments_lexer": "ipython3",
   "version": "3.12.4"
  }
 },
 "nbformat": 4,
 "nbformat_minor": 5
}
