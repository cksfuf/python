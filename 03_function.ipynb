{
 "cells": [
  {
   "cell_type": "markdown",
   "id": "d7ed8d91-771d-4d4b-87bd-ef834d071e85",
   "metadata": {},
   "source": [
    "## 함수(function)"
   ]
  },
  {
   "cell_type": "code",
   "execution_count": 3,
   "id": "cebb671d-eccf-49bc-bbec-fe6f4b84ee47",
   "metadata": {},
   "outputs": [
    {
     "name": "stdout",
     "output_type": "stream",
     "text": [
      "사각형의 넓이는 1500고, 둘레는 160입니다.\n"
     ]
    }
   ],
   "source": [
    "height = 50\n",
    "width = 30\n",
    "\n",
    "area = height * width\n",
    "peri = (height + width) * 2\n",
    "\n",
    "print(f'사각형의 넓이는 {area}고, 둘레는 {peri}입니다.')"
   ]
  },
  {
   "cell_type": "markdown",
   "id": "7be33000-26a9-4c16-8de7-0a076c829708",
   "metadata": {},
   "source": [
    "## 함수의 선언과 호출\n",
    "\n",
    "- 함수의 선언\n",
    "```python\n",
    "def func_name(parameter1, parameter2, ...):\n",
    "    code_1\n",
    "    code_2\n",
    "    ....\n",
    "    code_n\n",
    "    return value\n",
    "```\n",
    "\n",
    "    - def : 선언하는 명령어.\n",
    "    - 괄호 안에는 많은 변수 가능\n",
    "    - return 명령어와 함께 결과를 반환\n",
    "\n",
    "- 함수의 호출(실행)\n",
    "```python\n",
    "func_name(parameter1, parameter2, ...)\n",
    "```\n",
    "    - 소괄호를 열면 함수가 실행되고, 닫히는 순간 실행이 끝나고 결과를 갖음."
   ]
  },
  {
   "cell_type": "code",
   "execution_count": 31,
   "id": "b0a68ab2-6cbb-4b0e-8e5c-8aa3d72edb27",
   "metadata": {},
   "outputs": [
    {
     "name": "stdout",
     "output_type": "stream",
     "text": [
      "20000 600\n"
     ]
    },
    {
     "data": {
      "text/plain": [
       "int"
      ]
     },
     "execution_count": 31,
     "metadata": {},
     "output_type": "execute_result"
    }
   ],
   "source": [
    "height = 50\n",
    "width = 30\n",
    "\n",
    "def rectangle(height, width):\n",
    "    area = height * width\n",
    "    peri = (height + width) * 2\n",
    "    print(area, peri)\n",
    "\n",
    "# 함수를 실행\n",
    "rectangle(100, 200)\n",
    "\n",
    "type(height)"
   ]
  },
  {
   "cell_type": "code",
   "execution_count": 76,
   "id": "15104b0a-a215-40fa-a577-438a707e760c",
   "metadata": {},
   "outputs": [],
   "source": [
    "# dir(__builtin__) # 내장함수 알려줌"
   ]
  },
  {
   "cell_type": "code",
   "execution_count": 11,
   "id": "d5c106f2-75ab-4861-ad10-5513a3e8551b",
   "metadata": {},
   "outputs": [
    {
     "data": {
      "text/plain": [
       "4"
      ]
     },
     "execution_count": 11,
     "metadata": {},
     "output_type": "execute_result"
    }
   ],
   "source": [
    "max([1, 2, 3, 4])"
   ]
  },
  {
   "cell_type": "code",
   "execution_count": 22,
   "id": "dba946a3-15e6-4fa8-a1f9-f3f40d7c9e3d",
   "metadata": {},
   "outputs": [
    {
     "name": "stdout",
     "output_type": "stream",
     "text": [
      "5\n",
      "같음\n",
      "10\n"
     ]
    }
   ],
   "source": [
    "def my_max(num1, num2):\n",
    "    if num1 > num2:\n",
    "        print(num1)\n",
    "    elif num1 < num2:\n",
    "        print(num2)\n",
    "    else:\n",
    "        print('같음')\n",
    "\n",
    "my_max(5, 1)\n",
    "my_max(5, 5)\n",
    "my_max(5, 10)"
   ]
  },
  {
   "cell_type": "markdown",
   "id": "618c1be9-a120-4764-8a37-c2ed24e2f6c9",
   "metadata": {},
   "source": [
    "### 함수의 return\n",
    "\n",
    "- 함수가 return을 만나면 해당 값을 변환하고 함수를 종료\n",
    "- 만약 return이 없는 경우 None을 자동으로 반환\n",
    "- return은 오직 하나의 객체만 반환한다."
   ]
  },
  {
   "cell_type": "code",
   "execution_count": 49,
   "id": "d4ffff1d-8329-4e71-a216-d16bd11f36c7",
   "metadata": {},
   "outputs": [
    {
     "name": "stdout",
     "output_type": "stream",
     "text": [
      "2\n",
      "None\n"
     ]
    }
   ],
   "source": [
    "def my_max(num1, num2):\n",
    "    if num1 > num2:\n",
    "        print(num1)\n",
    "    elif num1 < num2:\n",
    "        print(num2)\n",
    "    else:\n",
    "        print('같음')\n",
    "\n",
    "result = my_max(1,2)\n",
    "print(result)\n",
    "\n",
    "# my_max 식에 수를 대입 후 일련의 과정을 진행\n",
    "# elif 구간에 참이 발생하여 프린트 됨\n",
    "# return이 없기에 계속 실행되는게 정상이니만\n",
    "# return None 값을 주며 끝냄."
   ]
  },
  {
   "cell_type": "code",
   "execution_count": 62,
   "id": "083ce0cd-d581-4296-8131-9a638c2c3814",
   "metadata": {},
   "outputs": [
    {
     "data": {
      "text/plain": [
       "2"
      ]
     },
     "execution_count": 62,
     "metadata": {},
     "output_type": "execute_result"
    }
   ],
   "source": [
    "# return 으로 만듬\n",
    "def my_max2(num1, num2):\n",
    "    if num1 > num2:\n",
    "        return num1\n",
    "    elif num1< num2:\n",
    "        return num2\n",
    "    else:\n",
    "        return num1\n",
    "\n",
    "my_max2(1, 2)\n",
    "\n",
    "# 이 식은 출력되지 않아야함. 그러나 쥬피터 랩 기능을 통해 돌아가는 거임\n",
    "# my_max2(1, 2) 를 실행하면 쥬피터 랩이 편의성을 위해 print(my_max2(1, 2))를 해준거임.\n",
    "# return은 값을 지정하는 것, 프린트랑은 다르다는 것을 인지하자."
   ]
  },
  {
   "cell_type": "code",
   "execution_count": 57,
   "id": "f7b231c6-477a-473a-86f1-93894d7eff48",
   "metadata": {},
   "outputs": [
    {
     "name": "stdout",
     "output_type": "stream",
     "text": [
      "2\n"
     ]
    }
   ],
   "source": [
    "my_max(1, 2)"
   ]
  },
  {
   "cell_type": "code",
   "execution_count": 65,
   "id": "fbe6ea26-d67c-4a62-841c-41a98cb9b01f",
   "metadata": {},
   "outputs": [
    {
     "name": "stdout",
     "output_type": "stream",
     "text": [
      "2\n"
     ]
    }
   ],
   "source": [
    "# 변수 할당 후 부르기\n",
    "result = my_max2(1, 2)\n",
    "print(result)"
   ]
  },
  {
   "cell_type": "code",
   "execution_count": 80,
   "id": "7fe12371-0f82-4595-892f-31b1315ef289",
   "metadata": {},
   "outputs": [
    {
     "name": "stdout",
     "output_type": "stream",
     "text": [
      "[2, 3, 4]\n"
     ]
    }
   ],
   "source": [
    "# list 형태의 파라미터(인자)\n",
    "def my_list_max(list1, list2):\n",
    "    if sum(list1) > sum(list2):\n",
    "        return list1\n",
    "    elif sum(list1) < sum(list2):\n",
    "        return list2\n",
    "    else:\n",
    "        return list1\n",
    "\n",
    "result = my_list_max([1, 2, 3], [2, 3, 4])\n",
    "print(result)"
   ]
  },
  {
   "cell_type": "code",
   "execution_count": 85,
   "id": "8831010e-bdd0-4b55-9ca6-a16943b1d447",
   "metadata": {},
   "outputs": [
    {
     "data": {
      "text/plain": [
       "30"
      ]
     },
     "execution_count": 85,
     "metadata": {},
     "output_type": "execute_result"
    }
   ],
   "source": [
    "def my_def(x):\n",
    "    return x * 3\n",
    "    return x * 2\n",
    "\n",
    "my_def(10)\n",
    "\n",
    "# return을 만나면 연산이 멈추기에 x * 3에서 끝남"
   ]
  },
  {
   "cell_type": "code",
   "execution_count": 88,
   "id": "15db7503-7671-4617-afb3-c4983088fe87",
   "metadata": {},
   "outputs": [
    {
     "data": {
      "text/plain": [
       "0"
      ]
     },
     "execution_count": 88,
     "metadata": {},
     "output_type": "execute_result"
    }
   ],
   "source": [
    "# return이 여러번 쓰이는 경우\n",
    "def my_def(x):\n",
    "    if x < 0:\n",
    "        return 0\n",
    "    else:\n",
    "        return x\n",
    "\n",
    "my_def(-2)"
   ]
  },
  {
   "cell_type": "code",
   "execution_count": 89,
   "id": "628da368-a52e-4f9f-bb3f-03be23f728e1",
   "metadata": {},
   "outputs": [
    {
     "data": {
      "text/plain": [
       "(10, 20)"
      ]
     },
     "execution_count": 89,
     "metadata": {},
     "output_type": "execute_result"
    }
   ],
   "source": [
    "# 파이썬이 자동으로 튜플로 묶어줌.\n",
    "def my_def2(x):\n",
    "    return x, x * 2\n",
    "\n",
    "my_def2(10)"
   ]
  },
  {
   "cell_type": "markdown",
   "id": "b383e13b-fdd2-400f-9276-3c12a2793e7e",
   "metadata": {},
   "source": [
    "## 함수의 인수\n",
    "### 위치인수\n",
    "기본적으로 함수는 위치를 기준으로 인수를 판단합니다."
   ]
  },
  {
   "cell_type": "code",
   "execution_count": 90,
   "id": "00f55112-ceb7-4a4d-9272-ea2075c80e38",
   "metadata": {},
   "outputs": [],
   "source": [
    "def cylinder(r, h):\n",
    "    return 3.14 * r**2 * h"
   ]
  },
  {
   "cell_type": "code",
   "execution_count": 94,
   "id": "5e17d373-6588-4f58-8d4a-2bf6c60712d5",
   "metadata": {},
   "outputs": [
    {
     "data": {
      "text/plain": [
       "785.0"
      ]
     },
     "execution_count": 94,
     "metadata": {},
     "output_type": "execute_result"
    }
   ],
   "source": [
    "# 함수는 앞에서 부터 차례로 들어간다\n",
    "cylinder(10, 5)\n",
    "cylinder(5, 10)"
   ]
  },
  {
   "cell_type": "markdown",
   "id": "698027cb-bedc-435d-81b6-ace9acbfc3ea",
   "metadata": {},
   "source": [
    "### 기본값\n",
    "```python\n",
    "def func(p1=v1):\n",
    "    code ...\n",
    "    return value\n",
    "```\n",
    "- 인자에 기본값을 줄 수 있음\n",
    "- 데이터가 빠졌을때 기본값을 사용."
   ]
  },
  {
   "cell_type": "code",
   "execution_count": 107,
   "id": "580ce3e2-1953-49f4-a4d2-f1986a22fcee",
   "metadata": {},
   "outputs": [
    {
     "data": {
      "text/plain": [
       "'홍갈동님 반갑습니다'"
      ]
     },
     "execution_count": 107,
     "metadata": {},
     "output_type": "execute_result"
    }
   ],
   "source": [
    "def greeting(name='익명'):\n",
    "    return f'{name}님 반갑습니다'\n",
    "\n",
    "greeting('홍갈동')"
   ]
  },
  {
   "cell_type": "code",
   "execution_count": 109,
   "id": "365af4bf-7511-4993-9c71-bc634d9b6836",
   "metadata": {},
   "outputs": [
    {
     "data": {
      "text/plain": [
       "'익명님 반갑습니다'"
      ]
     },
     "execution_count": 109,
     "metadata": {},
     "output_type": "execute_result"
    }
   ],
   "source": [
    "greeting()"
   ]
  },
  {
   "cell_type": "code",
   "execution_count": 114,
   "id": "6a570f7d-4a8f-4442-9c4c-b8f70e4c1d03",
   "metadata": {},
   "outputs": [
    {
     "name": "stdout",
     "output_type": "stream",
     "text": [
      "안녕하세요 저는 길동이에요\n",
      "안녕하세요?저는 길동이에요!"
     ]
    }
   ],
   "source": [
    "print('안녕하세요', '저는 길동이에요')\n",
    "# 연결할때 자동으로 띄어쓰기가 됨.\n",
    "# 이 역할은 print() 명령어에 기본값 역할임.\n",
    "# sep = 기본값은 띄어쓰기.\n",
    "# end = 기본값은 마지막 엔터처리.\n",
    "print('안녕하세요', '저는 길동이에요', sep = '?', end='!')"
   ]
  },
  {
   "cell_type": "code",
   "execution_count": 127,
   "id": "afe4e167-db55-4666-a63d-dfe352195873",
   "metadata": {},
   "outputs": [],
   "source": [
    "# def greething(name='익명', age):\n",
    "#    return f'({name}님의 나이는 {age}입니다.)'\n",
    "# 위 식은 오류남.\n",
    "# 길동, 10 이 데이터는 사용 가능\n",
    "\n",
    "def greeting(age, name='익명'):\n",
    "    return f'({name}님의 나이는 {age}입니다.)'\n",
    "# 데이터가 빠지면 기본값을 사용하는거임\n",
    "# 필수로 받을거 먼저 받고 선택인자는 뒤로 보내면 됨."
   ]
  },
  {
   "cell_type": "code",
   "execution_count": 128,
   "id": "5f19cfc3-c531-4a19-a879-895f07f1440a",
   "metadata": {},
   "outputs": [
    {
     "data": {
      "text/plain": [
       "'(익명님의 나이는 10입니다.)'"
      ]
     },
     "execution_count": 128,
     "metadata": {},
     "output_type": "execute_result"
    }
   ],
   "source": [
    "greeting(10)"
   ]
  },
  {
   "cell_type": "markdown",
   "id": "27b78b4d-0d04-472b-b052-2211950ea707",
   "metadata": {},
   "source": [
    "### 키워드 인수\n",
    "함수를 호출(실행) 할 때 내가 원하는 위치에 직접적으로 특정인자를 전달"
   ]
  },
  {
   "cell_type": "code",
   "execution_count": 129,
   "id": "4baaa242-30f7-4959-bb73-d42748f7ad71",
   "metadata": {},
   "outputs": [],
   "source": [
    "def geeting(age, name='익명'):\n",
    "    return(f'{name}님의 나이는 {age}입니다')"
   ]
  },
  {
   "cell_type": "code",
   "execution_count": 133,
   "id": "17a15b20-0062-4d30-baad-30569f82a2d0",
   "metadata": {},
   "outputs": [
    {
     "data": {
      "text/plain": [
       "'(길동님의 나이는 10입니다.)'"
      ]
     },
     "execution_count": 133,
     "metadata": {},
     "output_type": "execute_result"
    }
   ],
   "source": [
    "greeting(10)\n",
    "greeting(10, '길동')\n",
    "greeting(name='길동', age=10)"
   ]
  },
  {
   "cell_type": "markdown",
   "id": "177a097d-1915-4446-a3ec-cedfd99b2d3a",
   "metadata": {},
   "source": [
    "### 가변인자 리스트\n",
    "```python\n",
    "def func(*parms):\n",
    "    code...\n",
    "```"
   ]
  },
  {
   "cell_type": "code",
   "execution_count": 135,
   "id": "5c378bb7-9977-485c-9ce2-9f5f390abf76",
   "metadata": {},
   "outputs": [
    {
     "name": "stdout",
     "output_type": "stream",
     "text": [
      "hi hellow my name is\n"
     ]
    }
   ],
   "source": [
    "print('hi', 'hellow', 'my', 'name', 'is')\n",
    "# 데이터가 몇개가 들어올지 모른다\n",
    "# *parms 는 데이터를 튜플 형태로 저장"
   ]
  },
  {
   "cell_type": "code",
   "execution_count": 138,
   "id": "50472b12-b87e-46ce-b8a9-fb3c36d7b5ed",
   "metadata": {},
   "outputs": [
    {
     "name": "stdout",
     "output_type": "stream",
     "text": [
      "('my', 'name', 'is')\n"
     ]
    }
   ],
   "source": [
    "def my_print(*words):\n",
    "    print(words)\n",
    "    \n",
    "my_print('my', 'name', 'is')\n",
    "\n",
    "# 많은 데이터를 *words 라는 변수에 튜플형태로 저장."
   ]
  },
  {
   "cell_type": "code",
   "execution_count": 167,
   "id": "0e97725b-9d5e-4136-9735-3b9a3fa3a9f0",
   "metadata": {},
   "outputs": [],
   "source": [
    "def my_max(*numbers):\n",
    "    return max(numbers)"
   ]
  },
  {
   "cell_type": "code",
   "execution_count": 187,
   "id": "609f87a3-8746-479b-b1e5-a36ead7bf02a",
   "metadata": {},
   "outputs": [],
   "source": [
    "def my_max(*numbers):\n",
    "    max_num = numbers[0]\n",
    "    \n",
    "    for number in numbers:\n",
    "        if max_num < number:\n",
    "            max_num = number\n",
    "\n",
    "    return max_num"
   ]
  },
  {
   "cell_type": "code",
   "execution_count": 188,
   "id": "3e3ba7ce-cbb1-483f-af2c-384cd296344b",
   "metadata": {},
   "outputs": [
    {
     "data": {
      "text/plain": [
       "5"
      ]
     },
     "execution_count": 188,
     "metadata": {},
     "output_type": "execute_result"
    }
   ],
   "source": [
    "my_max(1, 2, 3, 4, 5)"
   ]
  },
  {
   "cell_type": "markdown",
   "id": "d01511ee-7799-4bc7-9ec8-8b8176d3bbb6",
   "metadata": {},
   "source": [
    "### 정의되지 않은 키워드 인자 처리하기\n",
    "\n",
    "```python\n",
    "def func(**kwargs):\n",
    "    code ...\n",
    "```\n",
    "\n",
    "- 함수를 호출할 때 "
   ]
  },
  {
   "cell_type": "code",
   "execution_count": 178,
   "id": "7b520e10-abfc-4d58-b496-3a1585fe6019",
   "metadata": {},
   "outputs": [
    {
     "name": "stdout",
     "output_type": "stream",
     "text": [
      "{'name': 'hong', 'age': 10}\n"
     ]
    }
   ],
   "source": [
    "info = {\n",
    "    'name': 'hong',\n",
    "    'age': 10,\n",
    "}\n",
    "print(info)"
   ]
  },
  {
   "cell_type": "code",
   "execution_count": 181,
   "id": "26b11957-d9b2-4c75-b53d-ba684ee951f6",
   "metadata": {},
   "outputs": [
    {
     "name": "stdout",
     "output_type": "stream",
     "text": [
      "{'name': 'hong', 'age': 10}\n"
     ]
    }
   ],
   "source": [
    "info = dict(name='hong', age=10)\n",
    "print(info)"
   ]
  },
  {
   "cell_type": "code",
   "execution_count": 182,
   "id": "a467230a-4059-44f2-bb80-44b1f26efb29",
   "metadata": {},
   "outputs": [
    {
     "name": "stdout",
     "output_type": "stream",
     "text": [
      "{'name': 'hong', 'age': 10}\n"
     ]
    }
   ],
   "source": [
    "info = dict(name='hong', age=10)\n",
    "print(info)"
   ]
  },
  {
   "cell_type": "code",
   "execution_count": 184,
   "id": "9d05b49a-068b-47bf-a3eb-80051facfa55",
   "metadata": {},
   "outputs": [],
   "source": [
    "def my_dict(**kwargs):\n",
    "    print(kwargs)"
   ]
  },
  {
   "cell_type": "code",
   "execution_count": 185,
   "id": "c0908210-5850-431d-9ad1-1b36b20d0f87",
   "metadata": {},
   "outputs": [
    {
     "name": "stdout",
     "output_type": "stream",
     "text": [
      "{'asdf': '123', 'qwer': '456'}\n"
     ]
    }
   ],
   "source": [
    "my_dict(asdf='123', qwer='456')"
   ]
  },
  {
   "cell_type": "code",
   "execution_count": 196,
   "id": "8ea6bd3e-78ca-4604-965d-2a78708b8ccb",
   "metadata": {},
   "outputs": [],
   "source": [
    "def my_func(*datas, **kwdatas):\n",
    "    print(datas)\n",
    "    print(kwdatas)"
   ]
  },
  {
   "cell_type": "code",
   "execution_count": 197,
   "id": "56ae268d-399d-4238-b266-f3eec4c8c130",
   "metadata": {},
   "outputs": [
    {
     "name": "stdout",
     "output_type": "stream",
     "text": [
      "(1, 'hello', [1, 2, 3], {})\n",
      "{'hello': 'hi', 'world': 123, 'hi': {}}\n"
     ]
    }
   ],
   "source": [
    "my_func(1, 'hello', [1,2,3], {}, hello='hi', world=123, hi={})"
   ]
  },
  {
   "cell_type": "markdown",
   "id": "a51e7287-a253-49a9-8e51-da68daeea2c9",
   "metadata": {},
   "source": [
    "### dictionary를 인자로 넣기(unpacking)"
   ]
  },
  {
   "cell_type": "code",
   "execution_count": 202,
   "id": "3db48e33-0739-4d3c-905d-28f0ae468e33",
   "metadata": {},
   "outputs": [],
   "source": [
    "def sign_up(username, pw, pw_conf):\n",
    "    if pw == pw_conf:\n",
    "        print(f'{username}님 회원가입을 환영합니다.')\n",
    "    else:\n",
    "        print('비밀번호가 일치하지 않습니다.')"
   ]
  },
  {
   "cell_type": "code",
   "execution_count": 203,
   "id": "2e4677a5-46c3-43de-bd5f-04262a2c1534",
   "metadata": {},
   "outputs": [
    {
     "name": "stdout",
     "output_type": "stream",
     "text": [
      "비밀번호가 일치하지 않습니다.\n",
      "hong님 회원가입을 환영합니다.\n"
     ]
    }
   ],
   "source": [
    "sign_up('hong', '1234', '123')\n",
    "sign_up('hong', '1234', '1234')"
   ]
  },
  {
   "cell_type": "code",
   "execution_count": 205,
   "id": "dd8e95de-b051-437f-97aa-53211f0b744c",
   "metadata": {},
   "outputs": [
    {
     "name": "stdout",
     "output_type": "stream",
     "text": [
      "hong님 회원가입을 환영합니다.\n",
      "hong님 회원가입을 환영합니다.\n"
     ]
    }
   ],
   "source": [
    "user_info = {\n",
    "    'username': 'hong',\n",
    "    'pw': '1234',\n",
    "    'pw_conf': '1234',\n",
    "}\n",
    "sign_up(**user_info)\n",
    "sign_up(username='hong', pw='1234', pw_conf='1234')"
   ]
  },
  {
   "cell_type": "markdown",
   "id": "71c1c018-5376-47b5-b28c-3e614526e61b",
   "metadata": {},
   "source": [
    "### lambda 표현식\n",
    "```python\n",
    "lambda parameter: expression\n",
    "```"
   ]
  },
  {
   "cell_type": "code",
   "execution_count": 206,
   "id": "f164aead-7798-4cbb-bcb7-3374ef461f0c",
   "metadata": {},
   "outputs": [],
   "source": [
    "def my_sum(num1, num2):\n",
    "    return num1 + num2"
   ]
  },
  {
   "cell_type": "code",
   "execution_count": 207,
   "id": "1a6c79e6-94c8-4616-b4b8-a0e2a66c2687",
   "metadata": {},
   "outputs": [
    {
     "data": {
      "text/plain": [
       "3"
      ]
     },
     "execution_count": 207,
     "metadata": {},
     "output_type": "execute_result"
    }
   ],
   "source": [
    "my_sum(1, 2)"
   ]
  },
  {
   "cell_type": "code",
   "execution_count": 208,
   "id": "9749ad6a-34d0-42d3-ad28-584eff362170",
   "metadata": {},
   "outputs": [
    {
     "data": {
      "text/plain": [
       "3"
      ]
     },
     "execution_count": 208,
     "metadata": {},
     "output_type": "execute_result"
    }
   ],
   "source": [
    "(lambda num1, num2,: num1 + num2)(1, 2)"
   ]
  },
  {
   "cell_type": "markdown",
   "id": "f8bae116-eb7a-49ce-a0f4-cee03735709f",
   "metadata": {},
   "source": [
    "### 타입힌트"
   ]
  },
  {
   "cell_type": "code",
   "execution_count": 217,
   "id": "730c8ea6-f2e9-4c0f-a800-033977e790ca",
   "metadata": {},
   "outputs": [
    {
     "data": {
      "text/plain": [
       "3"
      ]
     },
     "execution_count": 217,
     "metadata": {},
     "output_type": "execute_result"
    }
   ],
   "source": [
    "def my_sum(a,b):\n",
    "    return a + b\n",
    "\n",
    "my_sum(1, 2)"
   ]
  },
  {
   "cell_type": "code",
   "execution_count": 220,
   "id": "aa1cbb20-39d5-41fb-b9b6-1c0394db692c",
   "metadata": {},
   "outputs": [
    {
     "data": {
      "text/plain": [
       "3"
      ]
     },
     "execution_count": 220,
     "metadata": {},
     "output_type": "execute_result"
    }
   ],
   "source": [
    "def my_sum(a: int, b: int) -> int:\n",
    "    return a + b\n",
    "\n",
    "my_sum(1, 2)"
   ]
  },
  {
   "cell_type": "markdown",
   "id": "2598ab09-a8c7-403b-af45-53149a534d9f",
   "metadata": {},
   "source": [
    "## 이름공간(scope)\n",
    "\n",
    "python에서 사용되는 이름들은 이름공간에 저장되어있습니다.\n",
    "\n",
    "1. Local: 정의된 함수 내부\n",
    "2. Enclosed: 상위함수\n",
    "3. Global: 함수 밖\n",
    "4. Built-in: python이 기본적으로 가지고 있는 함수/변수\n",
    "\n",
    "가까울수록 실행이 된다"
   ]
  },
  {
   "cell_type": "code",
   "execution_count": 221,
   "id": "43ae7e05-4c7f-4d0f-aa88-9bafffb88d15",
   "metadata": {},
   "outputs": [
    {
     "name": "stdout",
     "output_type": "stream",
     "text": [
      "1\n"
     ]
    }
   ],
   "source": [
    "result = str(1)\n",
    "print(result)"
   ]
  },
  {
   "cell_type": "code",
   "execution_count": 233,
   "id": "f3c9dda3-b3d5-4355-93d3-dd0ceb48e027",
   "metadata": {},
   "outputs": [],
   "source": [
    "str = 'hi'"
   ]
  },
  {
   "cell_type": "code",
   "execution_count": 230,
   "id": "b2c20e1c-010e-4f3e-ab4d-5211c2d9bfb3",
   "metadata": {},
   "outputs": [
    {
     "ename": "TypeError",
     "evalue": "'str' object is not callable",
     "output_type": "error",
     "traceback": [
      "\u001b[1;31m---------------------------------------------------------------------------\u001b[0m",
      "\u001b[1;31mTypeError\u001b[0m                                 Traceback (most recent call last)",
      "Cell \u001b[1;32mIn[230], line 1\u001b[0m\n\u001b[1;32m----> 1\u001b[0m result \u001b[38;5;241m=\u001b[39m \u001b[38;5;28;43mstr\u001b[39;49m\u001b[43m(\u001b[49m\u001b[38;5;241;43m1\u001b[39;49m\u001b[43m)\u001b[49m\n\u001b[0;32m      2\u001b[0m \u001b[38;5;28mprint\u001b[39m(result)\n\u001b[0;32m      3\u001b[0m \u001b[38;5;66;03m# 기존에 내장되어있던 str()과 내가만든 str = 'hi' 가 있다면 가장 먼저 선언한 것이 우선\u001b[39;00m\n",
      "\u001b[1;31mTypeError\u001b[0m: 'str' object is not callable"
     ]
    }
   ],
   "source": [
    "result = str(1)\n",
    "print(result)\n",
    "# 기존에 내장되어있던 str()과 내가만든 str = 'hi' 가 있다면 가장 먼저 선언한 것이 우선"
   ]
  },
  {
   "cell_type": "code",
   "execution_count": 234,
   "id": "ee0799b0-1cf4-4722-8c74-a5ea67262dfa",
   "metadata": {},
   "outputs": [
    {
     "name": "stdout",
     "output_type": "stream",
     "text": [
      "1\n"
     ]
    }
   ],
   "source": [
    "del str\n",
    "result = str(1)\n",
    "print(result)\n",
    "# del은 지정된 변수 삭제"
   ]
  },
  {
   "cell_type": "code",
   "execution_count": 235,
   "id": "d06b22d6-7936-41b1-aff4-cd0ec879e716",
   "metadata": {},
   "outputs": [
    {
     "name": "stdout",
     "output_type": "stream",
     "text": [
      "1\n",
      "5\n"
     ]
    }
   ],
   "source": [
    "a = 1\n",
    "\n",
    "def local_scope(a):\n",
    "    return a\n",
    "\n",
    "print(a)\n",
    "print(local_scope(5))"
   ]
  },
  {
   "cell_type": "code",
   "execution_count": 237,
   "id": "337b49d8-2b77-4936-932c-ee51ca929d33",
   "metadata": {},
   "outputs": [
    {
     "data": {
      "text/plain": [
       "10"
      ]
     },
     "execution_count": 237,
     "metadata": {},
     "output_type": "execute_result"
    }
   ],
   "source": [
    "# 만약 밖에있는 변수 값을 사용하고 싶다면?\n",
    "a = 10\n",
    "\n",
    "def global_scope():\n",
    "    return a\n",
    "\n",
    "global_scope()\n",
    "# 함수안에 지정된 변수값이 없으면 함수 밖 변수값 사용."
   ]
  },
  {
   "cell_type": "code",
   "execution_count": 239,
   "id": "a15da9d7-e661-490d-a44a-16ed1d759051",
   "metadata": {},
   "outputs": [
    {
     "data": {
      "text/plain": [
       "11"
      ]
     },
     "execution_count": 239,
     "metadata": {},
     "output_type": "execute_result"
    }
   ],
   "source": [
    "a = 10\n",
    "\n",
    "def global_scope():\n",
    "    global a\n",
    "    a = a + 1\n",
    "    return a\n",
    "\n",
    "global_scope()\n",
    "\n",
    "# a = a + 1 처럼 반복 식이 있다면 global 문 작성해줘야함."
   ]
  },
  {
   "cell_type": "markdown",
   "id": "5d46dce3-bca4-48ce-baf6-f6a81f4bac4a",
   "metadata": {},
   "source": [
    "## 재귀\n",
    "\n",
    "재귀함수는 함수 내부에서 자기 자신을 호출하는 함수입니다."
   ]
  },
  {
   "cell_type": "code",
   "execution_count": 240,
   "id": "2b60fe9a-36b4-45d6-b7bd-912503b0f2fe",
   "metadata": {},
   "outputs": [
    {
     "data": {
      "text/plain": [
       "120"
      ]
     },
     "execution_count": 240,
     "metadata": {},
     "output_type": "execute_result"
    }
   ],
   "source": [
    "def fact(n):\n",
    "    if n == 1:\n",
    "        return 1\n",
    "    else:\n",
    "        return fact(n-1) * n\n",
    "\n",
    "fact(5)"
   ]
  },
  {
   "cell_type": "code",
   "execution_count": null,
   "id": "228ac99d-65a2-4504-b06f-de3645f0fe6e",
   "metadata": {},
   "outputs": [],
   "source": []
  }
 ],
 "metadata": {
  "kernelspec": {
   "display_name": "Python 3 (ipykernel)",
   "language": "python",
   "name": "python3"
  },
  "language_info": {
   "codemirror_mode": {
    "name": "ipython",
    "version": 3
   },
   "file_extension": ".py",
   "mimetype": "text/x-python",
   "name": "python",
   "nbconvert_exporter": "python",
   "pygments_lexer": "ipython3",
   "version": "3.12.4"
  }
 },
 "nbformat": 4,
 "nbformat_minor": 5
}
