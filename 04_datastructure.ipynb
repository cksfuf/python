{
 "cells": [
  {
   "cell_type": "code",
   "execution_count": 2,
   "id": "0e40837e-447f-43b8-bd7d-3db5aece9bfd",
   "metadata": {},
   "outputs": [
    {
     "name": "stdout",
     "output_type": "stream",
     "text": [
      "['__add__', '__class__', '__contains__', '__delattr__', '__dir__', '__doc__', '__eq__', '__format__', '__ge__', '__getattribute__', '__getitem__', '__getnewargs__', '__getstate__', '__gt__', '__hash__', '__init__', '__init_subclass__', '__iter__', '__le__', '__len__', '__lt__', '__mod__', '__mul__', '__ne__', '__new__', '__reduce__', '__reduce_ex__', '__repr__', '__rmod__', '__rmul__', '__setattr__', '__sizeof__', '__str__', '__subclasshook__', 'capitalize', 'casefold', 'center', 'count', 'encode', 'endswith', 'expandtabs', 'find', 'format', 'format_map', 'index', 'isalnum', 'isalpha', 'isascii', 'isdecimal', 'isdigit', 'isidentifier', 'islower', 'isnumeric', 'isprintable', 'isspace', 'istitle', 'isupper', 'join', 'ljust', 'lower', 'lstrip', 'maketrans', 'partition', 'removeprefix', 'removesuffix', 'replace', 'rfind', 'rindex', 'rjust', 'rpartition', 'rsplit', 'rstrip', 'split', 'splitlines', 'startswith', 'strip', 'swapcase', 'title', 'translate', 'upper', 'zfill']\n"
     ]
    }
   ],
   "source": [
    "print(dir('hello'))\n",
    "# dir(): 디렉토리. 내장함수."
   ]
  },
  {
   "cell_type": "markdown",
   "id": "47c69d38-e3d5-401b-a90d-7abc0e989b85",
   "metadata": {},
   "source": [
    "# 문자열 메소드"
   ]
  },
  {
   "cell_type": "code",
   "execution_count": 51,
   "id": "ba0c6dca-7eda-4374-bbab-60ffdb8c5f67",
   "metadata": {},
   "outputs": [
    {
     "name": "stdout",
     "output_type": "stream",
     "text": [
      "hellow my name is hong\n"
     ]
    }
   ],
   "source": [
    "a = 'hellow my name is hong'\n",
    "print(a)\n",
    "\n",
    "# 문자열의 특성: 직접적인 수정이 불가하다.\n",
    "# a[0] = 'H' -> 수정불가\n",
    "# 이러한 문자열을 내장함수로 결과를 반환하고 덮어씌우면 됨."
   ]
  },
  {
   "cell_type": "code",
   "execution_count": 243,
   "id": "53cd7421-c16f-401a-909e-eac0a3b4df39",
   "metadata": {},
   "outputs": [
    {
     "name": "stdout",
     "output_type": "stream",
     "text": [
      "Hellow my name is hong\n"
     ]
    }
   ],
   "source": [
    "# capitalize\n",
    "a = 'hellow my name is hong'\n",
    "print(a.capitalize())\n",
    "# 문자열의 첫 글자만 대문자로 변환하고 나머지는 소문자로 유지합니다"
   ]
  },
  {
   "cell_type": "code",
   "execution_count": 244,
   "id": "e062b117-47fb-4e64-85d2-3fa0c18d6397",
   "metadata": {},
   "outputs": [
    {
     "data": {
      "text/plain": [
       "'Hellow My Name Is Hong'"
      ]
     },
     "execution_count": 244,
     "metadata": {},
     "output_type": "execute_result"
    }
   ],
   "source": [
    "a = 'hellow my name is hong'\n",
    "a.title()\n",
    "# 모든 문자의 첫번쨰 데이터를 대문자로\n",
    "# 문자열에서 각 단어의 첫 글자를 대문자로 변환합니다.\n",
    "\n",
    "# .capitalize()는 문자열 맨 앞만 대문자로.\n",
    "# .title()는 띄어쓰기 첫 글자를 대문자로."
   ]
  },
  {
   "cell_type": "code",
   "execution_count": 14,
   "id": "1011c754-0b46-4a0d-9177-70d77d3c8633",
   "metadata": {},
   "outputs": [
    {
     "data": {
      "text/plain": [
       "'HELLOW MY NAME IS HONG'"
      ]
     },
     "execution_count": 14,
     "metadata": {},
     "output_type": "execute_result"
    }
   ],
   "source": [
    "# 모두 대문자로\n",
    "a.upper()\n",
    "# 원 데이터를 바꾸진 않고 보여주기만 함.\n",
    "# 원 데이터에 적용하려면 a = a.upper 할당해주면 됨."
   ]
  },
  {
   "cell_type": "code",
   "execution_count": 15,
   "id": "2362cced-085e-411b-90e1-57a55e79a039",
   "metadata": {},
   "outputs": [
    {
     "name": "stdout",
     "output_type": "stream",
     "text": [
      "hellow my name is hong\n"
     ]
    }
   ],
   "source": [
    "print(a) # 위에서 upper 사용했지만 원데이터는 바뀌지 않은 모습"
   ]
  },
  {
   "cell_type": "code",
   "execution_count": 219,
   "id": "b893b6fa-b393-4023-b639-f75d500120de",
   "metadata": {},
   "outputs": [
    {
     "name": "stdout",
     "output_type": "stream",
     "text": [
      "['my', 'name', 'is']\n",
      "mynameis\n"
     ]
    }
   ],
   "source": [
    "my_list = ['my', 'name', 'is']\n",
    "# 3개의 데이터를 하나의 문자열로 만들고싶음\n",
    "# 그럴땐 join 메소드 사용\n",
    "\n",
    "# join: 여러가지 단어를 합침.\n",
    "print(my_list)\n",
    "print(''.join(my_list))"
   ]
  },
  {
   "cell_type": "code",
   "execution_count": 19,
   "id": "6a118257-0a68-4d2c-b565-4236fec85eed",
   "metadata": {},
   "outputs": [
    {
     "name": "stdout",
     "output_type": "stream",
     "text": [
      "my name is\n"
     ]
    }
   ],
   "source": [
    "# 저는 띄어쓰기도 적용하고 싶어요\n",
    "print(' '.join(my_list)) # '' 사이에 스페이스바 누르기"
   ]
  },
  {
   "cell_type": "code",
   "execution_count": 21,
   "id": "fd01ce73-2254-4cb5-93bd-8ae4153c9732",
   "metadata": {},
   "outputs": [
    {
     "name": "stdout",
     "output_type": "stream",
     "text": [
      "       hello         \n",
      "    \n"
     ]
    }
   ],
   "source": [
    "my_string = '       hello         \\n    '\n",
    "print(my_string)"
   ]
  },
  {
   "cell_type": "code",
   "execution_count": 29,
   "id": "dc79c4e9-5aeb-4c5f-b4ac-aa657802c718",
   "metadata": {},
   "outputs": [
    {
     "name": "stdout",
     "output_type": "stream",
     "text": [
      "hello\n"
     ]
    }
   ],
   "source": [
    "# 공백이 있는 데이터를 처리할떄 사용하는 메소드\n",
    "# strip\n",
    "my_string = '       hello         \\n    '\n",
    "print(my_string.strip())"
   ]
  },
  {
   "cell_type": "code",
   "execution_count": 28,
   "id": "8898b8c2-985d-4f85-af98-33d7172c49aa",
   "metadata": {},
   "outputs": [
    {
     "name": "stdout",
     "output_type": "stream",
     "text": [
      "hello\n",
      "hello---------\n",
      "------------------------hello\n"
     ]
    }
   ],
   "source": [
    "my_string2 = '------------------------hello---------'\n",
    "print(my_string2.strip('-'))\n",
    "print(my_string2.lstrip('-')) # 왼쪽 공백 처리\n",
    "print(my_string2.rstrip('-')) # 오른쪽 공백 처리"
   ]
  },
  {
   "cell_type": "code",
   "execution_count": 37,
   "id": "cc9d2adb-d1a1-4b12-a4b6-30b313e69263",
   "metadata": {},
   "outputs": [
    {
     "data": {
      "text/plain": [
       "'wooooow'"
      ]
     },
     "execution_count": 37,
     "metadata": {},
     "output_type": "execute_result"
    }
   ],
   "source": [
    "# 변경 메소드 replace\n",
    "a = 'woooooooow'\n",
    "a.replace('o', '', 3)\n",
    "# 첫번째 인자(old): 무엇을 바꿀지\n",
    "# 두번째 인자(new): 어떻게 바꿀지\n",
    "# 세번째 인자(count): 몇개를 바꿀지. 지정 안하면 모두를 바꿈."
   ]
  },
  {
   "cell_type": "code",
   "execution_count": 86,
   "id": "8d28189e-7459-42fc-be5b-021f1c8e9037",
   "metadata": {},
   "outputs": [
    {
     "name": "stdout",
     "output_type": "stream",
     "text": [
      "0\n",
      "3\n",
      "-1\n"
     ]
    }
   ],
   "source": [
    "# 지정 문자의 자리를 찾아주는 메소드 find\n",
    "a = 'apple'\n",
    "print(a.find('a'))\n",
    "print(a.find('l'))\n",
    "print(a.find('z')) # 없는 데이터는 음수값이 나옴"
   ]
  },
  {
   "cell_type": "code",
   "execution_count": 87,
   "id": "1bf56ae2-aa64-4aab-a32f-78fb44345883",
   "metadata": {},
   "outputs": [
    {
     "name": "stdout",
     "output_type": "stream",
     "text": [
      "0\n",
      "1\n"
     ]
    }
   ],
   "source": [
    "# 지정 문자의 자리를 찾아주는 메소드 index\n",
    "a = 'apple'\n",
    "print(a.index('a'))\n",
    "print(a.index('p'))\n",
    "# print(a.index('z')) -> 없는 데이터를 찾아달라하면 오류뜸"
   ]
  },
  {
   "cell_type": "code",
   "execution_count": 47,
   "id": "27bc034c-cbdd-45e2-85e4-6f62402b0ff1",
   "metadata": {},
   "outputs": [
    {
     "data": {
      "text/plain": [
       "['my', 'name', 'is', 'hong']"
      ]
     },
     "execution_count": 47,
     "metadata": {},
     "output_type": "execute_result"
    }
   ],
   "source": [
    "# split(): 문자열을 리스트로.\n",
    "a = 'my name is hong'\n",
    "a.split() # 기본값은 띄어쓰기 기준으로 나누어줌"
   ]
  },
  {
   "cell_type": "code",
   "execution_count": 50,
   "id": "253052e2-b2ba-4195-ba7e-d8f0c09fd884",
   "metadata": {},
   "outputs": [
    {
     "data": {
      "text/plain": [
       "7"
      ]
     },
     "execution_count": 50,
     "metadata": {},
     "output_type": "execute_result"
    }
   ],
   "source": [
    "a = 'wooooooo'\n",
    "a.count('o')\n",
    "# 문자 갯수"
   ]
  },
  {
   "cell_type": "markdown",
   "id": "6346509c-ecff-4983-a514-590e4493cf2b",
   "metadata": {},
   "source": [
    "# 리스트 메소드"
   ]
  },
  {
   "cell_type": "code",
   "execution_count": 73,
   "id": "70ffb2fa-f505-4711-9178-ecd6340a6f03",
   "metadata": {},
   "outputs": [
    {
     "name": "stdout",
     "output_type": "stream",
     "text": [
      "[1, 4, 3, 6, 8, 9, 3, 10]\n"
     ]
    }
   ],
   "source": [
    "# append\n",
    "numbers = [1 ,4, 3, 6, 8, 9, 3]\n",
    "# list의 특성: 동적타이핑 언어\n",
    "# numbers 의 데이터 길이를 자동으로 조절해줌\n",
    "\n",
    "numbers.append(10)\n",
    "print(numbers)\n",
    "# append: 리스트 뒤에 데이터 추가해줌."
   ]
  },
  {
   "cell_type": "code",
   "execution_count": 72,
   "id": "d0db12b9-ec4e-4a2a-947e-8f4bebb6f3c1",
   "metadata": {},
   "outputs": [
    {
     "name": "stdout",
     "output_type": "stream",
     "text": [
      "[1, 4, 3, 6, 8, 9, 3, 99, 100]\n"
     ]
    }
   ],
   "source": [
    "# extend()\n",
    "numbers = [1 ,4, 3, 6, 8, 9, 3]\n",
    "a = [99, 100]\n",
    "\n",
    "numbers.extend(a)\n",
    "print(numbers)\n",
    "# numbers를 기준으로 배열을 합침.\n",
    "# numbers = numbers + a 랑 똑같음.\n",
    "# 원데이터를 바꿈."
   ]
  },
  {
   "cell_type": "code",
   "execution_count": 89,
   "id": "87f60c05-11f9-4aba-aa0d-5e5163712cef",
   "metadata": {},
   "outputs": [
    {
     "name": "stdout",
     "output_type": "stream",
     "text": [
      "[-10, 1, 4, 3, 6, 8, 9, 3]\n"
     ]
    }
   ],
   "source": [
    "# insert()\n",
    "numbers = [1 ,4, 3, 6, 8, 9, 3]\n",
    "\n",
    "numbers.insert(0, -10) # 0번 자리에 -10\n",
    "print(numbers)\n",
    "# 강제로 원하는 데이터를 넣을 떄 사용\n",
    "# 문자형태 리스트면 글자를 넣어도 됨."
   ]
  },
  {
   "cell_type": "code",
   "execution_count": 97,
   "id": "8e1661d8-4176-40d3-b26d-12daaf1d82f2",
   "metadata": {},
   "outputs": [
    {
     "name": "stdout",
     "output_type": "stream",
     "text": [
      "[1, 4, 3, 6, 8, 9, 3, -10]\n"
     ]
    }
   ],
   "source": [
    "# remove()\n",
    "numbers = [-10, 1 ,4, 3, 6, 8, 9, 3, -10]\n",
    "\n",
    "numbers.remove(-10)\n",
    "print(numbers)\n",
    "\n",
    "# x를 찾아서 제거, 없으면 에러 발생.\n",
    "# 앞에서 부터 제거."
   ]
  },
  {
   "cell_type": "code",
   "execution_count": 109,
   "id": "b76aec5b-7cd7-4e42-87d8-179efbc2c542",
   "metadata": {},
   "outputs": [
    {
     "name": "stdout",
     "output_type": "stream",
     "text": [
      "[-10, 1, 4, 3, 6, 8, 9, 3]\n"
     ]
    }
   ],
   "source": [
    "# pop()\n",
    "numbers = [-10, 1 ,4, 3, 6, 8, 9, 3, -10]\n",
    "\n",
    "numbers.pop()\n",
    "print(numbers)\n",
    "# 맨 뒤 데이터를 뽑음."
   ]
  },
  {
   "cell_type": "code",
   "execution_count": 113,
   "id": "0fd8dde2-578a-4c63-936e-aea8179235bb",
   "metadata": {},
   "outputs": [
    {
     "name": "stdout",
     "output_type": "stream",
     "text": [
      "[-10, 1, 4, 3, 6, 8, 9, 3] -10\n",
      "[1, 4, 3, 6, 8, 9, 3] -10\n"
     ]
    }
   ],
   "source": [
    "numbers = [-10, 1 ,4, 3, 6, 8, 9, 3, -10]\n",
    "\n",
    "reult = numbers.pop()\n",
    "print(numbers, reult)\n",
    "\n",
    "result = numbers.pop(0) # 0번쨰 데이터 뻄.\n",
    "print(numbers, result)\n",
    "# pop한 결과를 변수로 저장 가능."
   ]
  },
  {
   "cell_type": "code",
   "execution_count": 115,
   "id": "5f500e6b-5b6b-4f49-a43b-160c71943e75",
   "metadata": {},
   "outputs": [
    {
     "name": "stdout",
     "output_type": "stream",
     "text": [
      "[-10, -10, 1, 3, 3, 4, 6, 8, 9]\n"
     ]
    }
   ],
   "source": [
    "# 오름차순 정렬\n",
    "numbers = [-10, 1 ,4, 3, 6, 8, 9, 3, -10]\n",
    "numbers.sort()\n",
    "print(numbers)"
   ]
  },
  {
   "cell_type": "code",
   "execution_count": 117,
   "id": "5644ad13-a121-4cfd-9b20-88059d2a83d5",
   "metadata": {},
   "outputs": [
    {
     "name": "stdout",
     "output_type": "stream",
     "text": [
      "[9, 8, 6, 4, 3, 3, 1, -10, -10]\n"
     ]
    }
   ],
   "source": [
    "# 내림차순 정렬\n",
    "numbers = [-10, 1 ,4, 3, 6, 8, 9, 3, -10]\n",
    "numbers.sort(reverse=True) # reverse = True 는 역을 취한다.\n",
    "print(numbers)"
   ]
  },
  {
   "cell_type": "code",
   "execution_count": 121,
   "id": "2a212f69-25ce-40f9-8e75-1337beb60488",
   "metadata": {},
   "outputs": [
    {
     "name": "stdout",
     "output_type": "stream",
     "text": [
      "[1, 2, 3, 3, 5, 7, 8]\n",
      "[5, 3, 7, 1, 8, 2, 3]\n"
     ]
    }
   ],
   "source": [
    "# 내장함수 sorted() 와 method .sort() 의 차이.\n",
    "numbers = [5, 3, 7, 1, 8, 2, 3]\n",
    "\n",
    "print(sorted(numbers))\n",
    "print(numbers)\n",
    "# sorted() 내장 함수는 원데이터를 바꾸진 않음."
   ]
  },
  {
   "cell_type": "code",
   "execution_count": 123,
   "id": "4205129d-70e5-4f4f-b8ce-39d2e8726a39",
   "metadata": {},
   "outputs": [
    {
     "name": "stdout",
     "output_type": "stream",
     "text": [
      "[3, 2, 8, 1, 7, 3, 5]\n"
     ]
    }
   ],
   "source": [
    "# reverse\n",
    "numbers = [5, 3, 7, 1, 8, 2, 3]\n",
    "\n",
    "numbers.reverse()\n",
    "print(numbers)\n",
    "# 데이터를 역으로 바꿈."
   ]
  },
  {
   "cell_type": "code",
   "execution_count": 373,
   "id": "58576f3a-1b4d-46db-b107-cbe752a3d9ff",
   "metadata": {},
   "outputs": [
    {
     "name": "stdout",
     "output_type": "stream",
     "text": [
      "[3, 7]\n",
      "2\n",
      "[5, 3, 7, 1, 8, 2, 3]\n",
      "[5, 3, 7, 1, 8, 2, 3]\n",
      "[3, 8, 7, 5]\n"
     ]
    }
   ],
   "source": [
    "# 인덱스 구간과 위치찾기\n",
    "numbers = [5, 3, 7, 1, 8, 2, 3]\n",
    "\n",
    "print(numbers[1:3]) # 1번 데이터 이상, 3번 데이터 미만\n",
    "print(numbers[-2]) # 뒤에서 2번째\n",
    "print(numbers[:]) # 아무것도 적지 않으면 맨 앞, 맨 뒤를 말함.\n",
    "print(numbers[::]) # 앞부터 : 뒤까지 : 몇칸씩.\n",
    "print(numbers[::-2]) # 뒤에서 2번 띄어서."
   ]
  },
  {
   "cell_type": "markdown",
   "id": "48bb8be2-fc9b-43d5-acaa-2b89db925204",
   "metadata": {},
   "source": [
    "# list copy"
   ]
  },
  {
   "cell_type": "code",
   "execution_count": 140,
   "id": "10636326-46e9-478e-ae02-72f6f767fb29",
   "metadata": {},
   "outputs": [
    {
     "name": "stdout",
     "output_type": "stream",
     "text": [
      "[1, 2, 3]\n",
      "[1, 2, 3]\n"
     ]
    }
   ],
   "source": [
    "# 원본 데이터와 카피 리스트 생성.\n",
    "origin_list = [1, 2, 3]\n",
    "copy_list = origin_list\n",
    "\n",
    "print(origin_list)\n",
    "print(copy_list)"
   ]
  },
  {
   "cell_type": "code",
   "execution_count": 142,
   "id": "0ee59ddd-25c7-4028-9ef1-76d9bd8235fd",
   "metadata": {},
   "outputs": [
    {
     "name": "stdout",
     "output_type": "stream",
     "text": [
      "[100, 2, 3]\n",
      "[100, 2, 3]\n"
     ]
    }
   ],
   "source": [
    "origin_list[0] = 100\n",
    "\n",
    "print(origin_list)\n",
    "print(copy_list)\n",
    "# origin_list(원본데이터) 만 변경했는데 copy_list도 변경됨.\n",
    "# origin_list는 데이터주소를 저장한거임.\n",
    "# 즉, 주소를 복사했기 때문에 주소값이 같은 copy_list도 변경됨.\n",
    "# 주소를 공유한다고 보면 됨."
   ]
  },
  {
   "cell_type": "code",
   "execution_count": 151,
   "id": "5c9acc90-417a-4cdf-815d-cac95d121ae5",
   "metadata": {},
   "outputs": [
    {
     "name": "stdout",
     "output_type": "stream",
     "text": [
      "[100, 2, 3]\n",
      "[1, 2, 3]\n"
     ]
    }
   ],
   "source": [
    "origin_list = [1, 2, 3]\n",
    "copy_list = origin_list[:] # 슬라이싱 해서 주소를 다르게 해주면 다른 주소값이 저장.\n",
    "\n",
    "origin_list[0] = 100\n",
    "\n",
    "print(origin_list)\n",
    "print(copy_list)"
   ]
  },
  {
   "cell_type": "code",
   "execution_count": 148,
   "id": "26b5cd44-a368-4d5a-bfed-44759518355b",
   "metadata": {},
   "outputs": [
    {
     "name": "stdout",
     "output_type": "stream",
     "text": [
      "[100, 2, [300, 4]]\n",
      "[1, 2, [300, 4]]\n"
     ]
    }
   ],
   "source": [
    "# 2차원 리스트\n",
    "origin_list = [1, 2, [3,4]]\n",
    "copy_list = origin_list[:]\n",
    "\n",
    "origin_list[0] = 100\n",
    "origin_list[2][0] = 300\n",
    "\n",
    "print(origin_list)\n",
    "print(copy_list)\n",
    "# 첫 100 추가한 리스트는 주소가 다르기 때문에 변경되지 않지만,\n",
    "# 2차원 리스트 부분의 변경은 같이 변경됨."
   ]
  },
  {
   "cell_type": "code",
   "execution_count": 150,
   "id": "10b00d89-0140-40e9-957d-82646228a4b6",
   "metadata": {},
   "outputs": [
    {
     "name": "stdout",
     "output_type": "stream",
     "text": [
      "[100, 2, [300, 4]]\n",
      "[1, 2, [3, 4]]\n"
     ]
    }
   ],
   "source": [
    "# copy method 활용\n",
    "import copy\n",
    "origin_list = [1, 2, [3, 4]]\n",
    "copy_list = copy.deepcopy(origin_list)\n",
    "\n",
    "origin_list[0] = 100\n",
    "origin_list[2][0] = 300\n",
    "\n",
    "print(origin_list)\n",
    "print(copy_list)"
   ]
  },
  {
   "cell_type": "markdown",
   "id": "e0fc3b56-efcc-48c3-a23b-701547ca2ce3",
   "metadata": {},
   "source": [
    "# list comprehension"
   ]
  },
  {
   "cell_type": "code",
   "execution_count": 152,
   "id": "c80bd053-f9f1-41df-b0f9-ed7e3b3c60e5",
   "metadata": {},
   "outputs": [
    {
     "name": "stdout",
     "output_type": "stream",
     "text": [
      "[1, 2, 3, 4, 5, 6, 7, 8, 9, 10]\n"
     ]
    }
   ],
   "source": [
    "numbers = list(range(1, 11))\n",
    "print(numbers)"
   ]
  },
  {
   "cell_type": "code",
   "execution_count": 165,
   "id": "ce4b2e25-f18c-466a-aa92-304a823b1fc4",
   "metadata": {},
   "outputs": [
    {
     "name": "stdout",
     "output_type": "stream",
     "text": [
      "[1, 8, 27, 64, 125, 216, 343, 512, 729, 1000]\n"
     ]
    }
   ],
   "source": [
    "# -> [1, 8, 27, ..., 1000]\n",
    "numbers = list(range(1, 11))\n",
    "\n",
    "result = []\n",
    "for i in numbers:\n",
    "    temp = i ** 3\n",
    "    result.append(temp)\n",
    "\n",
    "print(result)\n",
    "\n",
    "# 연산의 결과를 다른 공간에 저장하는 방식."
   ]
  },
  {
   "cell_type": "code",
   "execution_count": 169,
   "id": "80fea793-916e-4065-b516-c7c378010468",
   "metadata": {},
   "outputs": [
    {
     "name": "stdout",
     "output_type": "stream",
     "text": [
      "[1, 8, 27, 64, 125, 216, 343, 512, 729, 1000]\n"
     ]
    }
   ],
   "source": [
    "# list comprehension\n",
    "numbers = list(range(1, 11))\n",
    "result = [i **3 for i in numbers]\n",
    "# 위 식은 result = [number1 ** 3, number2 ** 3, number3 ** 3,.......] 이거를 자동으로 해준거임\n",
    "print(result)\n",
    "\n",
    "# 간단하긴 하지만 위 식이 더 가독성이 좋음."
   ]
  },
  {
   "cell_type": "code",
   "execution_count": 170,
   "id": "41e3c963-6402-4cff-ad23-688386ed33cb",
   "metadata": {},
   "outputs": [
    {
     "name": "stdout",
     "output_type": "stream",
     "text": [
      "[2, 4, 6, 8, 10]\n"
     ]
    }
   ],
   "source": [
    "# 짝수만 고르기\n",
    "numbers = list(range(1, 11))\n",
    "result = []\n",
    "\n",
    "for i in numbers:\n",
    "    if i % 2 == 0:\n",
    "        result.append(i)\n",
    "\n",
    "print(result)"
   ]
  },
  {
   "cell_type": "code",
   "execution_count": 173,
   "id": "27cc6700-aaa6-44a2-bb91-e12f5b97b135",
   "metadata": {},
   "outputs": [
    {
     "name": "stdout",
     "output_type": "stream",
     "text": [
      "[2, 4, 6, 8, 10]\n"
     ]
    }
   ],
   "source": [
    "# 짝수만 고르기 list comprehension\n",
    "numbers = list(range(1, 11))\n",
    "\n",
    "result = [i for i in numbers if i % 2 == 0]\n",
    "print(result)"
   ]
  },
  {
   "cell_type": "code",
   "execution_count": 235,
   "id": "9790411f-763e-4bc7-9abd-a9931a6c3105",
   "metadata": {},
   "outputs": [
    {
     "name": "stdout",
     "output_type": "stream",
     "text": [
      "['m', 'y', ' ', 'n', 'm', ' ', 's', ' ', 'h', 'n', 'g']\n",
      "my nm s hng\n"
     ]
    }
   ],
   "source": [
    "# 연습문제\n",
    "# 모음 제거 -> my mn s hng\n",
    "\n",
    "# for if 문 활용\n",
    "words = 'my name is hong'\n",
    "\n",
    "result = []\n",
    "vowels = 'aeiou' # vowels = ['a', 'e', 'i', 'o', 'u'] 이거랑 같음\n",
    "\n",
    "for i in words:\n",
    "    if i in vowels: # 모음인 경우\n",
    "        pass\n",
    "    else: # 자음인 경우\n",
    "        result.append(i)\n",
    "\n",
    "print(result)\n",
    "print(''.join(result)) # 문자열을 합침"
   ]
  },
  {
   "cell_type": "code",
   "execution_count": 236,
   "id": "6d6080b3-95cc-433b-abea-8e85169f148c",
   "metadata": {},
   "outputs": [
    {
     "name": "stdout",
     "output_type": "stream",
     "text": [
      "['m', 'y', ' ', 'n', 'm', ' ', 's', ' ', 'h', 'n', 'g']\n",
      "my nm s hng\n"
     ]
    }
   ],
   "source": [
    "# for if 문\n",
    "# 간결한 방법\n",
    "words = 'my name is hong'\n",
    "\n",
    "result = []\n",
    "vowels = 'aeiou' # vowels = ['a', 'e', 'i', 'o', 'u'] 이거랑 같음\n",
    "\n",
    "for i in words:\n",
    "    if i not in vowels: # 모음이 아닌 경우\n",
    "        result.append(i)\n",
    "\n",
    "print(result)\n",
    "print(''.join(result))"
   ]
  },
  {
   "cell_type": "code",
   "execution_count": 237,
   "id": "d59010fd-e89f-498a-9f0f-ddbd33089fd4",
   "metadata": {},
   "outputs": [
    {
     "name": "stdout",
     "output_type": "stream",
     "text": [
      "my nm s hng\n"
     ]
    }
   ],
   "source": [
    "# for if 문 list comprehension\n",
    "words = 'my name is hong'\n",
    "vowels = 'aeiou'\n",
    "result = [i for i in words if i not in vowels]\n",
    "print(''.join(result))"
   ]
  },
  {
   "cell_type": "code",
   "execution_count": 238,
   "id": "e87b8914-a2ab-4634-ba0c-c74e3a951c65",
   "metadata": {},
   "outputs": [
    {
     "data": {
      "text/plain": [
       "'my nm s hng'"
      ]
     },
     "execution_count": 238,
     "metadata": {},
     "output_type": "execute_result"
    }
   ],
   "source": [
    "# for if 문 list comprehension\n",
    "# 간결하긴 한데 가독성 떨어지는 코드\n",
    "words = 'my name is hong'\n",
    "vowels = 'aeiou'\n",
    "\n",
    "''.join([i for i in words if i not in vowels])"
   ]
  },
  {
   "cell_type": "code",
   "execution_count": 234,
   "id": "c41def93-0635-4553-8e7c-71a2058735ee",
   "metadata": {},
   "outputs": [
    {
     "name": "stdout",
     "output_type": "stream",
     "text": [
      "my nm s hng\n"
     ]
    }
   ],
   "source": [
    "# replace 메소드 활용\n",
    "# replace('old', 'new', 'count')\n",
    "# replace 는 메소드기 때문에 원본데이터가 유지가 됨.\n",
    "words = 'my name is hong'\n",
    "vowels = 'aeiou'\n",
    "\n",
    "for i in vowels:\n",
    "    words = words.replace(i, '')\n",
    "\n",
    "print(words)"
   ]
  },
  {
   "cell_type": "markdown",
   "id": "2ea84e82-be73-4952-b421-004264eb8951",
   "metadata": {},
   "source": [
    "# dictionary 메소드"
   ]
  },
  {
   "cell_type": "code",
   "execution_count": 257,
   "id": "799e4f51-21a6-4647-80dd-a1b957589f4f",
   "metadata": {},
   "outputs": [
    {
     "name": "stdout",
     "output_type": "stream",
     "text": [
      "hong\n",
      "20\n",
      "['iphone', 'mac Book', 'watch']\n",
      "010-1234-1234\n"
     ]
    }
   ],
   "source": [
    "info = {\n",
    "    'name': 'hong',\n",
    "    'locaion': 'seoul',\n",
    "    'age': 20,\n",
    "    'models': ['iphone', 'mac Book', 'watch'],\n",
    "    'phone_book': {\n",
    "        'kim': '010-1234-1234',\n",
    "        'lee': '010-4567-4567',\n",
    "    }\n",
    "}\n",
    "\n",
    "# dictionary 데이터 가져오기.\n",
    "print(info['name'])\n",
    "print(info['age'])\n",
    "print(info['models'])\n",
    "print(info['phone_book']['kim'])"
   ]
  },
  {
   "cell_type": "code",
   "execution_count": 258,
   "id": "05572b3a-fbb4-4321-85ae-90796d2086e0",
   "metadata": {},
   "outputs": [
    {
     "name": "stdout",
     "output_type": "stream",
     "text": [
      "{'name': 'park', 'locaion': 'seoul', 'age': 20, 'models': ['iphone', 'mac Book', 'watch'], 'phone_book': {'kim': '010-1234-1234', 'lee': '010-4567-4567'}}\n",
      "{'name': 'oh', 'locaion': 'seoul', 'age': 20, 'models': ['iphone', 'mac Book', 'watch'], 'phone_book': {'kim': '010-1234-1234', 'lee': '010-4567-4567'}}\n"
     ]
    }
   ],
   "source": [
    "info['name'] = 'park'\n",
    "print(info)\n",
    "\n",
    "info.update(name='oh') # key 와 value 를 같이.\n",
    "print(info)"
   ]
  },
  {
   "cell_type": "code",
   "execution_count": 254,
   "id": "ee74c622-9a13-4b30-a7d3-abf769d8aafd",
   "metadata": {},
   "outputs": [
    {
     "name": "stdout",
     "output_type": "stream",
     "text": [
      "{'name': 'hong', 'locaion': 'seoul', 'models': ['iphone', 'mac Book', 'watch'], 'phone_book': {'kim': '010-1234-1234', 'lee': '010-4567-4567'}} 20\n"
     ]
    }
   ],
   "source": [
    "# pop 은 원하는 데이터를 꺼내어 결과값을 출력함.\n",
    "info = {\n",
    "    'name': 'hong',\n",
    "    'locaion': 'seoul',\n",
    "    'age': 20,\n",
    "    'models': ['iphone', 'mac Book', 'watch'],\n",
    "    'phone_book': {\n",
    "        'kim': '010-1234-1234',\n",
    "        'lee': '010-4567-4567',\n",
    "    }\n",
    "}\n",
    "age = info.pop('age')\n",
    "print(info, age)"
   ]
  },
  {
   "cell_type": "code",
   "execution_count": 255,
   "id": "496a58bc-c41b-4605-a179-e000e09121fd",
   "metadata": {},
   "outputs": [
    {
     "name": "stdout",
     "output_type": "stream",
     "text": [
      "hong\n",
      "hong\n"
     ]
    }
   ],
   "source": [
    "print(info.get('name'))\n",
    "print(info[;])"
   ]
  },
  {
   "cell_type": "code",
   "execution_count": 260,
   "id": "149fbd2e-bfab-4c02-bca2-140afd31f58c",
   "metadata": {},
   "outputs": [
    {
     "ename": "KeyError",
     "evalue": "'birth'",
     "output_type": "error",
     "traceback": [
      "\u001b[1;31m---------------------------------------------------------------------------\u001b[0m",
      "\u001b[1;31mKeyError\u001b[0m                                  Traceback (most recent call last)",
      "Cell \u001b[1;32mIn[260], line 1\u001b[0m\n\u001b[1;32m----> 1\u001b[0m \u001b[38;5;28mprint\u001b[39m(\u001b[43minfo\u001b[49m\u001b[43m[\u001b[49m\u001b[38;5;124;43m'\u001b[39;49m\u001b[38;5;124;43mbirth\u001b[39;49m\u001b[38;5;124;43m'\u001b[39;49m\u001b[43m]\u001b[49m)\n\u001b[0;32m      2\u001b[0m \u001b[38;5;66;03m# 키가 없으면 에러가 발생함\u001b[39;00m\n",
      "\u001b[1;31mKeyError\u001b[0m: 'birth'"
     ]
    }
   ],
   "source": [
    "print(info['birth'])\n",
    "# 키가 없으면 에러가 발생함"
   ]
  },
  {
   "cell_type": "code",
   "execution_count": 277,
   "id": "274748a8-0810-46c9-a882-fb4912ae9b14",
   "metadata": {},
   "outputs": [
    {
     "name": "stdout",
     "output_type": "stream",
     "text": [
      "None\n"
     ]
    }
   ],
   "source": [
    "print(info.get('birth'))\n",
    "# 값이 있으면 갖고나옴.\n",
    "# 없으면 None 결과값이 나옴."
   ]
  },
  {
   "cell_type": "code",
   "execution_count": 270,
   "id": "037bedd2-01a3-412c-a108-b76c431db116",
   "metadata": {},
   "outputs": [],
   "source": [
    "# 연습문제\n",
    "blood_type = ['A', 'B', 'B', 'O', 'AB', 'A']\n",
    "# -> blood_dict = {'A': 2, 'B': 2, 'AB': 1, 'O': 1}"
   ]
  },
  {
   "cell_type": "code",
   "execution_count": 272,
   "id": "2d7ba96d-5f05-4254-aeb4-667f2971d56c",
   "metadata": {},
   "outputs": [
    {
     "name": "stdout",
     "output_type": "stream",
     "text": [
      "{'A': 2, 'B': 2, 'AB': 1, 'O': 1}\n"
     ]
    }
   ],
   "source": [
    "# 1번 풀이\n",
    "result = {\n",
    "    'A': 0,\n",
    "    'B': 0,\n",
    "    'AB': 0,\n",
    "    'O': 0,\n",
    "}\n",
    "\n",
    "for i in blood_type:\n",
    "    result[i] += 1\n",
    "\n",
    "print(result)\n",
    "\n",
    "# 1번풀이의 단점은 리스트에 C라는 새로운 변수가 추가되면 구하기 어려움."
   ]
  },
  {
   "cell_type": "code",
   "execution_count": 282,
   "id": "447faeb5-ffde-4a85-aace-531d78a7e308",
   "metadata": {},
   "outputs": [
    {
     "name": "stdout",
     "output_type": "stream",
     "text": [
      "{'서울': 2, '대전': 1, '부산': 1, '강릉': 1, 'LA': 1, '도쿄': 1}\n"
     ]
    }
   ],
   "source": [
    "# 2번문제 풀이\n",
    "location = ['서울', '대전', '서울', '부산', '강릉', 'LA', '도쿄']\n",
    "\n",
    "result = {}\n",
    "for i in location:\n",
    "    if result.get(i):\n",
    "        result[i] += 1\n",
    "    else:\n",
    "        result[i] = 1\n",
    "\n",
    "print(result)"
   ]
  },
  {
   "cell_type": "code",
   "execution_count": 285,
   "id": "d0f6ef6c-f18c-4758-8fa9-45187687bae0",
   "metadata": {},
   "outputs": [
    {
     "name": "stdout",
     "output_type": "stream",
     "text": [
      "{'서울': 2, '대전': 1, '부산': 1, '강릉': 1, 'LA': 1, '도쿄': 1}\n"
     ]
    }
   ],
   "source": [
    "# 다른사람 풀이 생각비교하기\n",
    "location = ['서울', '대전', '서울', '부산', '강릉', 'LA', '도쿄']\n",
    "\n",
    "result = {}\n",
    "for i in location:\n",
    "    result.update({i: location.count(i)})\n",
    "\n",
    "print(result)"
   ]
  },
  {
   "cell_type": "markdown",
   "id": "4bbaa658-c1d8-45c5-ab9a-14f8e8c4d4b0",
   "metadata": {},
   "source": [
    "# dict comprehension"
   ]
  },
  {
   "cell_type": "code",
   "execution_count": 286,
   "id": "ea205d85-1dc3-4dfe-acfb-2b495b2a2832",
   "metadata": {},
   "outputs": [
    {
     "name": "stdout",
     "output_type": "stream",
     "text": [
      "{1: 1, 2: 8, 3: 27, 4: 64, 5: 125, 6: 216, 7: 343, 8: 512, 9: 729, 10: 1000}\n"
     ]
    }
   ],
   "source": [
    "# {1: 1, 2: 8, 3: 27, ..., 10: 1000}\n",
    "\n",
    "result = {}\n",
    "numbers = list(range(1, 11))\n",
    "\n",
    "for i in numbers:\n",
    "    result[i] = i ** 3\n",
    "\n",
    "print(result)"
   ]
  },
  {
   "cell_type": "code",
   "execution_count": 289,
   "id": "59b89c83-7866-480b-91dc-74a7efb5c188",
   "metadata": {},
   "outputs": [
    {
     "name": "stdout",
     "output_type": "stream",
     "text": [
      "{1: 1, 2: 8, 3: 27, 4: 64, 5: 125, 6: 216, 7: 343, 8: 512, 9: 729, 10: 1000}\n"
     ]
    }
   ],
   "source": [
    "# dict comprehension\n",
    "# 가독성 안좋으니 알고만 있자.\n",
    "result = {i: i ** 3 for i in numbers}\n",
    "print(result)"
   ]
  },
  {
   "cell_type": "code",
   "execution_count": 375,
   "id": "b7d2b8e6-d112-4424-97a6-b22c9041c379",
   "metadata": {},
   "outputs": [
    {
     "name": "stdout",
     "output_type": "stream",
     "text": [
      "{'대전': 100, '광주': 90}\n"
     ]
    }
   ],
   "source": [
    "# result = {'대전': 100, '광주': 90}\n",
    "\n",
    "# 1. for\n",
    "dust = {\n",
    "    '서울': 50,\n",
    "    '대전': 100,\n",
    "    '부산': 70,\n",
    "    '광주': 90,\n",
    "}\n",
    "\n",
    "result = {}\n",
    "for k, v in dust.items(): # items() 를 사용하면 key와 value를 동시에 사용가능\n",
    "    if v > 70:\n",
    "        result[k] = v\n",
    "\n",
    "print(result)"
   ]
  },
  {
   "cell_type": "code",
   "execution_count": 378,
   "id": "9e7302b4-7020-4ba4-8a3c-a7d8d9ff3863",
   "metadata": {},
   "outputs": [
    {
     "name": "stdout",
     "output_type": "stream",
     "text": [
      "{'대전': 100, '광주': 90}\n"
     ]
    }
   ],
   "source": [
    "# 2. comp\n",
    "result = {k: v for k, v in dust.items() if v > 70}\n",
    "print(result)"
   ]
  },
  {
   "cell_type": "markdown",
   "id": "e646eac2-596b-4dd1-87da-57fe7c652fb5",
   "metadata": {},
   "source": [
    "# 세트 메소드"
   ]
  },
  {
   "cell_type": "code",
   "execution_count": 346,
   "id": "94aff6ad-f9c5-4705-b688-faee2c214eff",
   "metadata": {},
   "outputs": [
    {
     "name": "stdout",
     "output_type": "stream",
     "text": [
      "{'melon', 'apple', 'banana'}\n"
     ]
    }
   ],
   "source": [
    "fruits = {'apple', 'banana', 'melon'}\n",
    "print(fruits)"
   ]
  },
  {
   "cell_type": "code",
   "execution_count": 347,
   "id": "301603ab-fb96-436f-a385-671d7657b909",
   "metadata": {},
   "outputs": [
    {
     "name": "stdout",
     "output_type": "stream",
     "text": [
      "{'melon', 'apple', 'banana', 'watermelon'}\n"
     ]
    }
   ],
   "source": [
    "# 단일 데이터는 add\n",
    "fruits.add('watermelon')\n",
    "print(fruits)"
   ]
  },
  {
   "cell_type": "code",
   "execution_count": 348,
   "id": "22213a7d-76cc-494c-8e81-5fb09ab904e9",
   "metadata": {},
   "outputs": [
    {
     "name": "stdout",
     "output_type": "stream",
     "text": [
      "{'melon', 'banana', 'grape', 'apple', 'prange', 'watermelon'}\n"
     ]
    }
   ],
   "source": [
    "# 여러 데이터는 update\n",
    "fruits.update({'grape', 'prange'})\n",
    "print(fruits)"
   ]
  },
  {
   "cell_type": "code",
   "execution_count": 349,
   "id": "a8fc05e2-d0ae-46d4-95c7-86e265c4572b",
   "metadata": {},
   "outputs": [
    {
     "name": "stdout",
     "output_type": "stream",
     "text": [
      "{'melon', 'banana', 'grape', 'prange', 'watermelon'}\n"
     ]
    }
   ],
   "source": [
    "# 제거하기\n",
    "fruits.remove('apple')\n",
    "print(fruits)"
   ]
  },
  {
   "cell_type": "code",
   "execution_count": 350,
   "id": "4259039c-fa6d-4947-8b93-ef8f71a6cbd4",
   "metadata": {},
   "outputs": [
    {
     "name": "stdout",
     "output_type": "stream",
     "text": [
      "{'banana', 'grape', 'prange', 'watermelon'}\n"
     ]
    }
   ],
   "source": [
    "fruits.pop()\n",
    "print(fruits)"
   ]
  },
  {
   "cell_type": "markdown",
   "id": "71d3e446-0916-4d25-9159-6d492dafd8a6",
   "metadata": {},
   "source": [
    "## map, filter, zip\n",
    "\n",
    "# map\n",
    "- map(function, iterable)\n",
    "- 1개의 인자에만 적용 가능.\n",
    "- list() 형식으로 출력 가능.\n",
    "\n",
    "반복작업을 좀 더 편하게 만들어 주는 기능"
   ]
  },
  {
   "cell_type": "code",
   "execution_count": 353,
   "id": "6b8a2ce9-5f16-4459-89d7-3648ca196908",
   "metadata": {},
   "outputs": [
    {
     "name": "stdout",
     "output_type": "stream",
     "text": [
      "['1', '2', '3', '4', '5']\n"
     ]
    }
   ],
   "source": [
    "numbers = [1, 2, 3, 4, 5]\n",
    "# -> ['1', '2', '3', '4', '5'] 로 만든 방법\n",
    "\n",
    "# 기존에 쓴 방법\n",
    "result = []\n",
    "for i in numbers:\n",
    "    result.append(str(i))\n",
    "\n",
    "print(result)"
   ]
  },
  {
   "cell_type": "code",
   "execution_count": 358,
   "id": "4086ef08-e000-4f39-a712-d880aab46a32",
   "metadata": {},
   "outputs": [
    {
     "name": "stdout",
     "output_type": "stream",
     "text": [
      "['1', '2', '3', '4', '5']\n"
     ]
    }
   ],
   "source": [
    "result = map(str, numbers)\n",
    "print(list(result))\n",
    "# map 형식은 list로 변형 후 결과 확인\n",
    "# map은 1개의 인자에서 작동."
   ]
  },
  {
   "cell_type": "code",
   "execution_count": 361,
   "id": "0a77e276-280f-4522-80a5-0b910e2c8fe4",
   "metadata": {},
   "outputs": [
    {
     "name": "stdout",
     "output_type": "stream",
     "text": [
      "[1, 8, 27, 64, 125]\n"
     ]
    }
   ],
   "source": [
    "# 연습문제\n",
    "numbers = [1, 2, 3, 4, 5]\n",
    "\n",
    "result = []\n",
    "for i in numbers:\n",
    "    result.append(i ** 3)\n",
    "\n",
    "print(result)"
   ]
  },
  {
   "cell_type": "code",
   "execution_count": 362,
   "id": "d7a08ddd-a300-4793-8446-f6a7383dd7a0",
   "metadata": {},
   "outputs": [
    {
     "name": "stdout",
     "output_type": "stream",
     "text": [
      "[1, 8, 27, 64, 125]\n"
     ]
    }
   ],
   "source": [
    "# 함수만들기\n",
    "def cube(x):\n",
    "    return x ** 3\n",
    "\n",
    "result = map(cube, numbers)\n",
    "print(list(result))"
   ]
  },
  {
   "cell_type": "code",
   "execution_count": 364,
   "id": "f5538681-3958-4843-a169-50fcc54720c5",
   "metadata": {},
   "outputs": [
    {
     "name": "stdout",
     "output_type": "stream",
     "text": [
      "[1, 3, 5, 7, 9]\n"
     ]
    }
   ],
   "source": [
    "test_input = '1 3 5 7 9'\n",
    "# 의 합 구하기위해 쪼개고 숫자형으로 만들어 출력하기\n",
    "# 숫자를 텍스트 코드로 받았을떄 숫자형으로 만들기\n",
    "\n",
    "print(list(map(int, test_input.split())))"
   ]
  },
  {
   "cell_type": "markdown",
   "id": "81245771-5e89-4d72-ae2d-1c3b3842ef2b",
   "metadata": {},
   "source": [
    "## filter\n",
    "- filter(function, iterable)"
   ]
  },
  {
   "cell_type": "code",
   "execution_count": 366,
   "id": "80fbf569-da55-4da4-ab86-4611e5c664ab",
   "metadata": {},
   "outputs": [],
   "source": [
    "# x에 홀수가 들어오면 나머지가 1이기 때문에 True.\n",
    "def is_odd(x):\n",
    "    return x % 2"
   ]
  },
  {
   "cell_type": "code",
   "execution_count": 368,
   "id": "a0859d94-07f8-4569-b37e-f620b768ed33",
   "metadata": {},
   "outputs": [
    {
     "name": "stdout",
     "output_type": "stream",
     "text": [
      "[1, 3, 5]\n"
     ]
    }
   ],
   "source": [
    "numbers = [1, 2, 3, 4, 5]\n",
    "\n",
    "result = []\n",
    "for i in numbers:\n",
    "    if i % 2:\n",
    "        result.append(i)\n",
    "\n",
    "print(result)"
   ]
  },
  {
   "cell_type": "code",
   "execution_count": 369,
   "id": "e058821c-f302-4ce7-8fe8-2cbba2021958",
   "metadata": {},
   "outputs": [
    {
     "name": "stdout",
     "output_type": "stream",
     "text": [
      "[1, 3, 5]\n"
     ]
    }
   ],
   "source": [
    "result = filter(is_odd, numbers)\n",
    "print(list(result))\n",
    "\n",
    "# map: 함수의 기능만 돌아가면됨\n",
    "# filter: 트루와 폴스가 무조건 들어가야함"
   ]
  },
  {
   "cell_type": "markdown",
   "id": "179d50c7-4052-4392-ac76-a2697773c839",
   "metadata": {},
   "source": [
    "## zip"
   ]
  },
  {
   "cell_type": "code",
   "execution_count": 371,
   "id": "7a9166b4-1cd1-4b4a-bf1b-6b056de8fbe7",
   "metadata": {},
   "outputs": [
    {
     "name": "stdout",
     "output_type": "stream",
     "text": [
      "<zip object at 0x000002190A421700>\n",
      "[(1, 100), (2, 200), (3, 300)]\n"
     ]
    }
   ],
   "source": [
    "# zip: 같은 위치의 데이터를 연결할때 사용\n",
    "a = [1, 2, 3]\n",
    "b = [100, 200, 300, 400, 500]\n",
    "\n",
    "result = zip(a,b)\n",
    "print(result)\n",
    "print(list(result))"
   ]
  },
  {
   "cell_type": "code",
   "execution_count": null,
   "id": "c36c688d-158f-4f80-a33b-5efc66babdfe",
   "metadata": {},
   "outputs": [],
   "source": []
  }
 ],
 "metadata": {
  "kernelspec": {
   "display_name": "Python 3 (ipykernel)",
   "language": "python",
   "name": "python3"
  },
  "language_info": {
   "codemirror_mode": {
    "name": "ipython",
    "version": 3
   },
   "file_extension": ".py",
   "mimetype": "text/x-python",
   "name": "python",
   "nbconvert_exporter": "python",
   "pygments_lexer": "ipython3",
   "version": "3.12.4"
  }
 },
 "nbformat": 4,
 "nbformat_minor": 5
}
