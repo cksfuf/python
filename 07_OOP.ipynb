{
 "cells": [
  {
   "cell_type": "markdown",
   "id": "bea99305-79b3-4069-bb00-56340d56c349",
   "metadata": {},
   "source": [
    "# 객체지향 프로그래밍(OOP)\n",
    "\n",
    "패러다임 중 하나.\n",
    "\n",
    "더 좋은 코드를 위한 개념 중 하나.\n",
    "\n",
    "컴퓨터 프로그램을 명령어의 목록으로 보는 시각에서 벗어나 여러개의 독립된 단위(객체)들의 모임으로 파악하고자 하는 것\n",
    "\n",
    "- 클래스(class) : 같은 종류의 집단에 속하는 속성(attribute)과 행위(method)를 정의한것. (붕어빵 틑)\n",
    "- 인스턴스(instance) : 클래스를 실제로 메모리상에 할당한 것. (틀에 반죽을 부어 만든 붕어빵)\n",
    "- 속성(attribute) : 클래스/인스턴스가 가지고 있는 데이터/값.\n",
    "- 행위(method) : 클래스/인스턴스가 가지고 있는 함수/기능."
   ]
  },
  {
   "cell_type": "code",
   "execution_count": 1,
   "id": "c14484eb-9b81-4dce-9146-cc670a76750e",
   "metadata": {},
   "outputs": [
    {
     "data": {
      "text/plain": [
       "complex"
      ]
     },
     "execution_count": 1,
     "metadata": {},
     "output_type": "execute_result"
    }
   ],
   "source": [
    "number = 1+ 2j # 복소수\n",
    "type(number)"
   ]
  },
  {
   "cell_type": "code",
   "execution_count": 5,
   "id": "e71e8e7b-2454-4c68-8908-b80d8ce6c224",
   "metadata": {},
   "outputs": [
    {
     "name": "stdout",
     "output_type": "stream",
     "text": [
      "1.0\n",
      "2.0\n"
     ]
    }
   ],
   "source": [
    "print(number.real)\n",
    "print(number.imag)\n",
    "\n",
    "# .real: 실수부분\n",
    "# imag: 허수부분의 개수\n",
    "# .real이라는 변수에 1 저장, imag 에 허수의 개수 저장\n",
    "# 모든것은 개체다."
   ]
  },
  {
   "cell_type": "code",
   "execution_count": 6,
   "id": "2bd5145f-00fd-4b9e-a2ea-48f66688b849",
   "metadata": {},
   "outputs": [
    {
     "data": {
      "text/plain": [
       "list"
      ]
     },
     "execution_count": 6,
     "metadata": {},
     "output_type": "execute_result"
    }
   ],
   "source": [
    "numbers = [1, 2, 3]\n",
    "type(numbers)"
   ]
  },
  {
   "cell_type": "code",
   "execution_count": 9,
   "id": "3e293dc5-886f-4992-b1ad-9db009d01168",
   "metadata": {},
   "outputs": [
    {
     "name": "stdout",
     "output_type": "stream",
     "text": [
      "[3, 2, 1]\n"
     ]
    }
   ],
   "source": [
    "numbers.reverse()\n",
    "print(numbers)"
   ]
  },
  {
   "cell_type": "code",
   "execution_count": 12,
   "id": "be7b4f13-ade0-44a4-b8d4-2c217cf6c72e",
   "metadata": {},
   "outputs": [
    {
     "name": "stdout",
     "output_type": "stream",
     "text": [
      "010-1234-1234에서010-4567-4567로 전화거는 중\n"
     ]
    }
   ],
   "source": [
    "power = False\n",
    "number = '010-1234-1234'\n",
    "book = {\n",
    "    'kim': '010-4567-4567',\n",
    "    'park': '010-789-789',\n",
    "}\n",
    "\n",
    "def call(from_number, to_number):\n",
    "    print(f'{from_number}에서{to_number}로 전화거는 중')\n",
    "\n",
    "call(number, book['kim'])"
   ]
  },
  {
   "cell_type": "code",
   "execution_count": 13,
   "id": "97db26b8-0c8c-418a-91e1-4591b4846a88",
   "metadata": {},
   "outputs": [],
   "source": [
    "# kim을 위한 전화번호 코드를 다시 만든다면?\n",
    "# 변수 이름부터 다시 수정되어야함\n",
    "# 또 다른 사람을 위한 코드를 만든다면? 끝도 없음\n",
    "# 이를 해결하기 위한 코드"
   ]
  },
  {
   "cell_type": "markdown",
   "id": "45bc3089-a6b3-463d-aa97-88737b3ac7dd",
   "metadata": {},
   "source": [
    "## class\n",
    "\n",
    "- 클래스 선언\n",
    "\n",
    "```python\n",
    "class ClassName():\n",
    "    attribute1 = value1\n",
    "    attribute2 = value2\n",
    "    ...\n",
    "\n",
    "    def method_name1(self):\n",
    "        code\n",
    "        \n",
    "    def method_name2(self):\n",
    "        code\n",
    "        .....\n",
    "```\n",
    "\n",
    "- 인스턴스화(클래스 실행)\n",
    "\n",
    "```python\n",
    "c = ClassName()\n",
    "```"
   ]
  },
  {
   "cell_type": "code",
   "execution_count": 20,
   "id": "69df54a9-acab-4dd6-a29e-962c78dcedb0",
   "metadata": {},
   "outputs": [],
   "source": [
    "# 선언\n",
    "class MyClass():\n",
    "    name = 'kim'\n",
    "    \n",
    "    def hello(self):\n",
    "        return('hello')"
   ]
  },
  {
   "cell_type": "code",
   "execution_count": 21,
   "id": "7521e23a-d633-4c52-8de0-ecaf6e0ab1bd",
   "metadata": {},
   "outputs": [
    {
     "name": "stdout",
     "output_type": "stream",
     "text": [
      "<__main__.MyClass object at 0x000001DD6E688920>\n",
      "<class '__main__.MyClass'>\n"
     ]
    }
   ],
   "source": [
    "# 인스턴스화\n",
    "m = MyClass()\n",
    "print(m)\n",
    "print(type(m)) # 원본이 어디있는지 알려줌"
   ]
  },
  {
   "cell_type": "code",
   "execution_count": 24,
   "id": "fee01ca1-072b-4228-9b3c-354b631a2166",
   "metadata": {},
   "outputs": [
    {
     "name": "stdout",
     "output_type": "stream",
     "text": [
      "kim\n",
      "hello\n"
     ]
    }
   ],
   "source": [
    "print(m.name) # 특정한 데이터에 접근\n",
    "print(m.hello())"
   ]
  },
  {
   "cell_type": "code",
   "execution_count": 28,
   "id": "42a6e135-7f3b-4c53-afdc-42ccd6463120",
   "metadata": {},
   "outputs": [
    {
     "name": "stdout",
     "output_type": "stream",
     "text": [
      "<__main__.MyClass object at 0x000001DD706E3E60>\n"
     ]
    }
   ],
   "source": [
    "m2 = MyClass()\n",
    "print(m2)"
   ]
  },
  {
   "cell_type": "code",
   "execution_count": 30,
   "id": "244cafe8-932a-4bb7-9870-29907a93d8ce",
   "metadata": {},
   "outputs": [
    {
     "name": "stdout",
     "output_type": "stream",
     "text": [
      "park\n",
      "hello\n"
     ]
    }
   ],
   "source": [
    "m2.name = 'park'\n",
    "print(m2.name)\n",
    "print(m2.hello())\n",
    "\n",
    "# m과 m2는 서로 다른 데이터를 갖을 수 있는 상태가 됨."
   ]
  },
  {
   "cell_type": "code",
   "execution_count": 72,
   "id": "4325ddbd-e0e6-48d6-bcf2-43b7db621d6f",
   "metadata": {},
   "outputs": [],
   "source": [
    "class Phone():\n",
    "    power = False\n",
    "    number = '010-0000-0000'\n",
    "    book = {}\n",
    "    model = ''\n",
    "\n",
    "    def on(self):\n",
    "        if self.power == False:\n",
    "            self.power = True\n",
    "\n",
    "    def off(self):\n",
    "        if self.power == True:\n",
    "            self.power = False\n",
    "\n",
    "    def call(self, target):\n",
    "        if self.power == True:\n",
    "            print(f'{self.number}에서 {target}로 전화거는 중.')\n",
    "        else:\n",
    "            print('핸드폰이 꺼져있습니다.')"
   ]
  },
  {
   "cell_type": "code",
   "execution_count": 73,
   "id": "c022a8c4-06a3-427a-8256-7f4f11436a7b",
   "metadata": {},
   "outputs": [],
   "source": [
    "# 한 클래스를 다른 변수로 저장\n",
    "my_phone = Phone() # 내 폰 선언\n",
    "your_phone = Phone() # 상대 폰 선언"
   ]
  },
  {
   "cell_type": "code",
   "execution_count": 74,
   "id": "c7937b09-abac-4784-84b8-52fb07bfc41f",
   "metadata": {},
   "outputs": [
    {
     "name": "stdout",
     "output_type": "stream",
     "text": [
      "010-1234-1234\n"
     ]
    }
   ],
   "source": [
    "# my_phone에 number 정보 추가(내 번호 추가)\n",
    "my_phone.number = '010-1234-1234'\n",
    "print(my_phone.number)"
   ]
  },
  {
   "cell_type": "code",
   "execution_count": 75,
   "id": "1ca1d578-205c-4726-b015-9e723cafb0ae",
   "metadata": {},
   "outputs": [
    {
     "name": "stdout",
     "output_type": "stream",
     "text": [
      "012- 3456-3456\n"
     ]
    }
   ],
   "source": [
    "# your_phon에 number 정보 추가(상대 전화번호 추가)\n",
    "your_phone.number = '012- 3456-3456'\n",
    "print(your_phone.number)"
   ]
  },
  {
   "cell_type": "code",
   "execution_count": 76,
   "id": "9756d86e-0c0b-4770-af45-2bd68f38ff26",
   "metadata": {},
   "outputs": [
    {
     "name": "stdout",
     "output_type": "stream",
     "text": [
      "핸드폰이 꺼져있습니다.\n"
     ]
    }
   ],
   "source": [
    "# 실행해볼까?\n",
    "# my_phone.call()\n",
    "# 하면 오류 뜸.\n",
    "# 번호 입력해주자\n",
    "\n",
    "my_phone.call(your_phone.number)\n",
    "# 핸드폰이 꺼져있으니 키자."
   ]
  },
  {
   "cell_type": "code",
   "execution_count": 77,
   "id": "31b982dc-8549-4b76-b4cb-b119e46d4241",
   "metadata": {},
   "outputs": [
    {
     "name": "stdout",
     "output_type": "stream",
     "text": [
      "010-1234-1234에서 012- 3456-3456로 전화거는 중.\n"
     ]
    }
   ],
   "source": [
    "my_phone.on() # 핸드폰 키기\n",
    "my_phone.call(your_phone.number)"
   ]
  },
  {
   "cell_type": "code",
   "execution_count": 78,
   "id": "38436905-dac9-4a78-a5e9-8c6857d895e3",
   "metadata": {},
   "outputs": [
    {
     "name": "stdout",
     "output_type": "stream",
     "text": [
      "핸드폰이 꺼져있습니다.\n"
     ]
    }
   ],
   "source": [
    "your_phone.call('119')\n",
    "# 마찬가지로 핸드폰 켜야함"
   ]
  },
  {
   "cell_type": "code",
   "execution_count": 79,
   "id": "a70f725e-183c-4c40-b3f6-e37cd6c4a768",
   "metadata": {},
   "outputs": [
    {
     "name": "stdout",
     "output_type": "stream",
     "text": [
      "012- 3456-3456에서 119로 전화거는 중.\n"
     ]
    }
   ],
   "source": [
    "your_phone.on() # 핸드폰 키기\n",
    "your_phone.call('119')"
   ]
  },
  {
   "cell_type": "markdown",
   "id": "9597de69-4359-49d4-b90c-5f0ae0a1fd9f",
   "metadata": {
    "scrolled": true
   },
   "source": [
    "### 연습문제\n",
    "\n",
    "- 아래와 같은 결과가 나오게 class 만들기\n",
    "```python\n",
    "list_a = MyList()\n",
    "\n",
    "print(list_a.data) # -> []\n",
    "\n",
    "list_a.append(5)\n",
    "print(list_a.data) # -> [5]\n",
    "list_a.append(10)\n",
    "print(list_a.data) # -> [5, 10]\n",
    "\n",
    "list_a.pop(10)\n",
    "print(list_a.data) # -> [5]\n",
    "```"
   ]
  },
  {
   "cell_type": "code",
   "execution_count": 108,
   "id": "5813261e-1b94-487a-b546-9d8fe4dce362",
   "metadata": {},
   "outputs": [],
   "source": [
    "class MyList():\n",
    "    data = []\n",
    "    def append(self, item):\n",
    "        self.data = self.data + [item]\n",
    "\n",
    "    def pop(self, item):\n",
    "        result = self.data[-1] # pop은 마지막 데이터를 리턴하는 기능도 있기에 result에 마지막 데이터 저정\n",
    "        self.data = self.data[:-1] # 1부터 마지막 데이터 미만까지\n",
    "        return result"
   ]
  },
  {
   "cell_type": "code",
   "execution_count": 109,
   "id": "bd8236b5-0560-4594-8210-b59643bec295",
   "metadata": {},
   "outputs": [
    {
     "name": "stdout",
     "output_type": "stream",
     "text": [
      "[]\n",
      "[5]\n",
      "[5, 10]\n",
      "[5]\n"
     ]
    }
   ],
   "source": [
    "list_a = MyList()\n",
    "\n",
    "print(list_a.data) # -> []\n",
    "\n",
    "list_a.append(5)\n",
    "print(list_a.data) # -> [5]\n",
    "list_a.append(10)\n",
    "print(list_a.data) # -> [5, 10]\n",
    "\n",
    "list_a.pop(10)\n",
    "print(list_a.data) # -> [5]"
   ]
  },
  {
   "cell_type": "code",
   "execution_count": 110,
   "id": "db0144d1-76e0-4fa5-a55e-0b1034d9ba45",
   "metadata": {},
   "outputs": [
    {
     "name": "stdout",
     "output_type": "stream",
     "text": [
      "['일', '이', '삼']\n"
     ]
    }
   ],
   "source": [
    "list_b = MyList()\n",
    "list_b.append('일')\n",
    "list_b.append('이')\n",
    "list_b.append('삼')\n",
    "print(list_b.data)"
   ]
  },
  {
   "cell_type": "markdown",
   "id": "44b85d24-0050-4554-bc0b-580a34579ae8",
   "metadata": {},
   "source": [
    "## 생성자, 소멸자\n",
    "\n",
    "```python\n",
    "class MyClass():\n",
    "    def __init__(self):\n",
    "        pass\n",
    "    def __del__(self):\n",
    "        pass\n",
    "\n",
    "```"
   ]
  },
  {
   "cell_type": "code",
   "execution_count": 232,
   "id": "26700e00-2612-4004-8cde-2e4cde369fb1",
   "metadata": {},
   "outputs": [],
   "source": [
    "class Person():\n",
    "    name = ''\n",
    "\n",
    "    def __init__(self, name):\n",
    "        self.name = name\n",
    "        print('생성됨')\n",
    "        \n",
    "\n",
    "    def __del__(self):\n",
    "        print('소멸됨')"
   ]
  },
  {
   "cell_type": "code",
   "execution_count": 233,
   "id": "0383fa0e-8a5b-48f3-9624-27f5090048a1",
   "metadata": {},
   "outputs": [
    {
     "name": "stdout",
     "output_type": "stream",
     "text": [
      "생성됨\n",
      "소멸됨\n",
      "Kim\n"
     ]
    }
   ],
   "source": [
    "# p1 = Person() 를 실행하면\n",
    "# 인자가 부족하다고 나옴.\n",
    "# 인스턴스화 한다는 것은 내부에 있는 함수를 실행시킨다.\n",
    "# 그럼 Person() class 내부의 __init__ 인자 수를 맞춰주자\n",
    "p1 = Person('Kim')\n",
    "\n",
    "print(p1.name)"
   ]
  },
  {
   "cell_type": "code",
   "execution_count": 1,
   "id": "a792d299-4ad0-47a4-82b3-e4e5e12875df",
   "metadata": {},
   "outputs": [],
   "source": [
    "# 기본값을 활용하여 함수 실행 만들기\n",
    "class Person():\n",
    "    name = ''\n",
    "\n",
    "    def __init__(self, name='익명'):\n",
    "        self.name = name\n",
    "        print('생성됨')\n",
    "        \n",
    "\n",
    "    def __del__(self):\n",
    "        print('소멸됨')"
   ]
  },
  {
   "cell_type": "code",
   "execution_count": 3,
   "id": "cf2f8233-dbdd-4aa6-8793-44ba79516dcd",
   "metadata": {},
   "outputs": [
    {
     "name": "stdout",
     "output_type": "stream",
     "text": [
      "생성됨\n",
      "소멸됨\n",
      "익명\n"
     ]
    }
   ],
   "source": [
    "p2 = Person()\n",
    "# 여러번 실행하면 결과과 생성됨, 소멸됨, 익명 3가지로 나옴\n",
    "# 이유는 첫번째 실행했언 p2 값이 두번째 실행하면 사라지기에 소멸됨 이라는 말이나옴\n",
    "# 즉, 여러번 실행했을때 나오는 소멸됨은 그 전에 실행하여 만든 p2주소가 소멸됐다는 말.\n",
    "print(p2.name)"
   ]
  },
  {
   "cell_type": "code",
   "execution_count": 5,
   "id": "ed84e00a-5899-49e2-addf-c49bbb3707b3",
   "metadata": {},
   "outputs": [
    {
     "name": "stdout",
     "output_type": "stream",
     "text": [
      "생성됨\n",
      "소멸됨\n",
      "Kim\n"
     ]
    }
   ],
   "source": [
    "p1 = Person('Kim')\n",
    "# 위 식과 마찬가지로 처음 실행하면 생성됨, 이름 이 나옴\n",
    "# 여러번 실행하면 마찬가지로 3가지 말이 나옴\n",
    "print(p1.name)"
   ]
  },
  {
   "cell_type": "code",
   "execution_count": 6,
   "id": "36084c73-0632-4c48-be2b-54c006a19853",
   "metadata": {},
   "outputs": [
    {
     "name": "stdout",
     "output_type": "stream",
     "text": [
      "소멸됨\n"
     ]
    }
   ],
   "source": [
    "del p2\n",
    "# p2 변수를 지움.\n",
    "# 소멸됨 이라는 문장이 실행됨."
   ]
  },
  {
   "cell_type": "code",
   "execution_count": 1,
   "id": "b296ad43-d437-43f6-8866-5cc25ba31cd8",
   "metadata": {},
   "outputs": [],
   "source": [
    "class Circle():\n",
    "    pi = 3.14 # 모든 원에 고정값이기 때문에 여기에 쓴거임.\n",
    "\n",
    "    def __init__(self, r, x=0, y=0): # x와 y의 기본값을 0으로.\n",
    "        self.r = r\n",
    "        self.x = x\n",
    "        self.y = y\n",
    "\n",
    "    def area(self):\n",
    "        return self.pi * self.r ** 2\n",
    "\n",
    "    def center(self):\n",
    "        return (self.x, self.y)\n",
    "\n",
    "    def move(self, x, y):\n",
    "        self.x = x\n",
    "        self.y = y\n",
    "        print(f'원의 중심이 {x}, {y}로 이동했습니다.')\n",
    "\n",
    "    def round(self):\n",
    "        return self.r * self.pi*2"
   ]
  },
  {
   "cell_type": "code",
   "execution_count": 2,
   "id": "4ccfe48b-268f-46e0-b6e0-4ee4c98d6fae",
   "metadata": {},
   "outputs": [],
   "source": [
    "# c1 = Circle() 이렇게 쓰면 에러뜸\n",
    "# 인자값 부족해서 에러 뜸\n",
    "c1 = Circle(5)\n",
    "c2 = Circle(10, 3, 3)"
   ]
  },
  {
   "cell_type": "code",
   "execution_count": 3,
   "id": "0aaa235e-15b0-416b-bdc4-44292fc14b4e",
   "metadata": {},
   "outputs": [
    {
     "name": "stdout",
     "output_type": "stream",
     "text": [
      "78.5\n",
      "314.0\n"
     ]
    }
   ],
   "source": [
    "print(c1.area())\n",
    "print(c2.area())"
   ]
  },
  {
   "cell_type": "code",
   "execution_count": 4,
   "id": "a35703bd-8a20-4e73-8c8f-8fbd187996f3",
   "metadata": {},
   "outputs": [
    {
     "name": "stdout",
     "output_type": "stream",
     "text": [
      "(0, 0)\n",
      "(3, 3)\n"
     ]
    }
   ],
   "source": [
    "print(c1.center())\n",
    "print(c2.center())"
   ]
  },
  {
   "cell_type": "code",
   "execution_count": 5,
   "id": "eb919aec-fa4a-41be-a5cd-686cb4b3e950",
   "metadata": {},
   "outputs": [
    {
     "name": "stdout",
     "output_type": "stream",
     "text": [
      "원의 중심이 10, 10로 이동했습니다.\n",
      "None\n",
      "원의 중심이 2, 9로 이동했습니다.\n",
      "None\n"
     ]
    }
   ],
   "source": [
    "print(c1.move(10,10))\n",
    "print(c2.move(2,9))\n",
    "# None 값이 나오는 이유는 위 class안 move 함수의 return 값 지정이 안되어있기때문에.\n",
    "# return 값이 없으면 자동으로 return 값을 None으로 부여."
   ]
  },
  {
   "cell_type": "code",
   "execution_count": 6,
   "id": "43ad11be-80aa-4233-92c9-9d22ac461487",
   "metadata": {},
   "outputs": [
    {
     "name": "stdout",
     "output_type": "stream",
     "text": [
      "31.400000000000002\n",
      "62.800000000000004\n"
     ]
    }
   ],
   "source": [
    "print(c1.round())\n",
    "print(c2.round())"
   ]
  },
  {
   "cell_type": "code",
   "execution_count": 7,
   "id": "9c670a81-59b6-4036-a19b-20abafd4eff6",
   "metadata": {},
   "outputs": [],
   "source": [
    "# 두가지 class(원과 점)\n",
    "class Point():\n",
    "    def __init__(self, x, y):\n",
    "        self.x = x\n",
    "        self.y = y\n",
    "\n",
    "    def info(self):\n",
    "        return (self.x, self.y)"
   ]
  },
  {
   "cell_type": "code",
   "execution_count": 59,
   "id": "be4242e2-62bd-4e5c-a41f-b1d6ae24f5fc",
   "metadata": {},
   "outputs": [],
   "source": [
    "class Circle():\n",
    "    def __init__(self, p, r):\n",
    "        self.p = p\n",
    "        self.r = r\n",
    "\n",
    "    def info(self):\n",
    "        return (self.p.x, self.p.y, self.r)\n",
    "\n",
    "    def move(self, x, y):\n",
    "        self.p.x = x\n",
    "        self.p.y = y"
   ]
  },
  {
   "cell_type": "code",
   "execution_count": 60,
   "id": "e2d54940-1b41-4261-be29-5504b95a02a7",
   "metadata": {},
   "outputs": [
    {
     "name": "stdout",
     "output_type": "stream",
     "text": [
      "(1, 2)\n"
     ]
    }
   ],
   "source": [
    "p1 = Point(1, 2)\n",
    "print(p1.info())"
   ]
  },
  {
   "cell_type": "code",
   "execution_count": 61,
   "id": "19231d0d-abd8-46aa-b7a6-d5bb8f907f1b",
   "metadata": {},
   "outputs": [
    {
     "name": "stdout",
     "output_type": "stream",
     "text": [
      "(1, 2, 5)\n"
     ]
    }
   ],
   "source": [
    "c1 = Circle(p1, 5)\n",
    "print(c1.info())"
   ]
  },
  {
   "cell_type": "code",
   "execution_count": 62,
   "id": "ee88bafd-b1a1-4f87-9007-108041a96c46",
   "metadata": {},
   "outputs": [
    {
     "name": "stdout",
     "output_type": "stream",
     "text": [
      "(5, 5, 5)\n"
     ]
    }
   ],
   "source": [
    "c1.move(5, 5)\n",
    "print(c1.info())"
   ]
  },
  {
   "cell_type": "markdown",
   "id": "332a8149-17e3-44b1-9ec7-2ca19861d294",
   "metadata": {},
   "source": [
    "### 클래스 변수\n",
    "- 클래스 선언 블록 최상단에 위치\n",
    "\n",
    "### 인스턴스 변수\n",
    "- 인스턴스 내부에서 생성한 변수 ('self.variavle \n",
    "\n",
    "```python\n",
    "class MyClass():\n",
    "    class_variable = '클래스변수'\n",
    "\n",
    "    def __int__(self):\n",
    "        self.instance_variable = '인슽턴스변수'\n",
    "```"
   ]
  },
  {
   "cell_type": "code",
   "execution_count": 15,
   "id": "55250028-659c-484f-879b-09c5576a9717",
   "metadata": {},
   "outputs": [],
   "source": [
    "class Person():\n",
    "    name = '홍길동'\n",
    "    phon = '010-123'\n",
    "    def __init__(self, name):\n",
    "        self.name = name"
   ]
  },
  {
   "cell_type": "code",
   "execution_count": 16,
   "id": "c1f98d83-b6b1-457c-bb68-87b37f22c872",
   "metadata": {},
   "outputs": [
    {
     "name": "stdout",
     "output_type": "stream",
     "text": [
      "010-123\n",
      "오창희\n"
     ]
    }
   ],
   "source": [
    "p1 = Person('오창희')\n",
    "print(p1.phon) # -> 클래스 변수 접근\n",
    "print(p1.name) # -> "
   ]
  },
  {
   "cell_type": "markdown",
   "id": "318dbded-be28-416f-8e94-442bf6e47fdb",
   "metadata": {},
   "source": [
    "### 클래스 메소드, 인스턴드 메소드, 스택틱메소드\n",
    "\n",
    "```python\n",
    "class MyClass():\n",
    "    def instance_method(self)\n",
    "        pass\n",
    "\n",
    "    @classmethod\n",
    "    def class_method(cls):\n",
    "        pass\n",
    "\n",
    "    \n",
    "```"
   ]
  },
  {
   "cell_type": "code",
   "execution_count": 82,
   "id": "2ea24630-3779-478c-a52e-52bcf3b18634",
   "metadata": {},
   "outputs": [],
   "source": [
    "class MyClass():\n",
    "    def instance_method(self):\n",
    "        return self\n",
    "\n",
    "    @classmethod\n",
    "    def class_method(cls):\n",
    "        return cls\n",
    "\n",
    "    @staticmethod\n",
    "    def static_method():\n",
    "        return 'hello'"
   ]
  },
  {
   "cell_type": "code",
   "execution_count": 88,
   "id": "a743b517-25ca-4ab4-8d63-343281a27d67",
   "metadata": {},
   "outputs": [
    {
     "name": "stdout",
     "output_type": "stream",
     "text": [
      "<__main__.MyClass object at 0x00000190C3AC81A0>\n",
      "<class '__main__.MyClass'>\n"
     ]
    }
   ],
   "source": [
    "c1 = MyClass()\n",
    "print(c1.instance_method()) # -> self 출력. 인스턴스\n",
    "print(MyClass.class_method()) # -> cls 출력. 클래스"
   ]
  },
  {
   "cell_type": "code",
   "execution_count": 113,
   "id": "74a022a9-a809-4d5d-bfd7-2c3e3dcc740a",
   "metadata": {},
   "outputs": [],
   "source": [
    "class Puppy():\n",
    "    num_of_puppy = 0\n",
    "\n",
    "    def __init__(self, name):\n",
    "        self.name = name\n",
    "        Puppy.num_of_puppy += 1\n",
    "\n",
    "    @classmethod\n",
    "    def get_status(cls):\n",
    "        print(f'현재 강아지는{cls.num_of_puppy}마리입니다.')\n",
    "\n",
    "    @staticmethod\n",
    "    def bark():\n",
    "        print('멍멍')\n",
    "\n",
    "    def bark2(self):\n",
    "        print(f'내 이름은 {self.name}야. 멈멍')"
   ]
  },
  {
   "cell_type": "code",
   "execution_count": 114,
   "id": "0154224b-e29f-4af4-a1ca-959843c5f66b",
   "metadata": {},
   "outputs": [
    {
     "name": "stdout",
     "output_type": "stream",
     "text": [
      "현재 강아지는3마리입니다.\n",
      "멍멍\n",
      "내 이름은 초코야. 멈멍\n",
      "내 이름은 인절미야. 멈멍\n",
      "내 이름은 별이야. 멈멍\n"
     ]
    }
   ],
   "source": [
    "p1 = Puppy('초코')\n",
    "p2 = Puppy('인절미')\n",
    "p3 = Puppy('별이')\n",
    "\n",
    "Puppy.get_status()\n",
    "# 여러번 실행해서 마리가 누적됨.\n",
    "p1.bark()\n",
    "p1.bark2()\n",
    "p2.bark2()\n",
    "p3.bark2()"
   ]
  },
  {
   "cell_type": "markdown",
   "id": "b16286b2-c1e3-406a-9bb0-27bc9cb414c5",
   "metadata": {},
   "source": [
    "## 상속"
   ]
  },
  {
   "cell_type": "code",
   "execution_count": 67,
   "id": "b6ecf283-0d45-4046-8bcc-802f5fed827e",
   "metadata": {},
   "outputs": [],
   "source": [
    "class Person():\n",
    "    ident = '111111-111111'\n",
    "\n",
    "    def __init__(self, name):\n",
    "        self.name = name\n",
    "\n",
    "    def greeting(self):\n",
    "        print(f'안녕하세요 {self.name}입니다')"
   ]
  },
  {
   "cell_type": "code",
   "execution_count": 68,
   "id": "e7e93ecf-e3d3-4078-be08-5d250701a570",
   "metadata": {},
   "outputs": [
    {
     "name": "stdout",
     "output_type": "stream",
     "text": [
      "안녕하세요 홍길동입니다\n",
      "안녕하세요 이순신입니다\n"
     ]
    }
   ],
   "source": [
    "p1 = Person('홍길동')\n",
    "p2 = Person('이순신')\n",
    "\n",
    "p1.greeting()\n",
    "p2.greeting()"
   ]
  },
  {
   "cell_type": "code",
   "execution_count": 69,
   "id": "7dbda1d2-05e0-4b22-8697-7172b2433a8f",
   "metadata": {},
   "outputs": [],
   "source": [
    "class Soldier(Person):\n",
    "    # ident = '111111-111111'\n",
    "\n",
    "    # def __init__(self, name):\n",
    "    #     self.name = name\n",
    "\n",
    "    def greeting2(self):\n",
    "        print(f'충성! {self.name}입니다. ')"
   ]
  },
  {
   "cell_type": "code",
   "execution_count": 70,
   "id": "6cece264-5c37-4aca-9a2c-b1f707d4c211",
   "metadata": {},
   "outputs": [
    {
     "name": "stdout",
     "output_type": "stream",
     "text": [
      "안녕하세요 국방이입니다\n",
      "충성! 국방이입니다. \n",
      "111111-111111\n"
     ]
    }
   ],
   "source": [
    "s1 = Soldier('국방이')\n",
    "s1.greeting()\n",
    "s1.greeting2()\n",
    "print(s1.ident)\n",
    "# Soldier 클래스에 init과 ident가 정의되어있지 않지만 결과값이 도출됨\n",
    "# 이는 Person 이라는 부모관계 데이터에서 가져온 정보\n",
    "# 이름이 똑같은 경우 자식이 갖고있는 데이터가 우선순위\n",
    "# 이렇게 데이터 단축시키는 것은 상속이라고 함"
   ]
  },
  {
   "cell_type": "code",
   "execution_count": 71,
   "id": "fc13d158-5564-4eb2-9793-e961fcc55174",
   "metadata": {},
   "outputs": [],
   "source": [
    "class Student(Person):\n",
    "    # ident = '111111-111111'\n",
    "\n",
    "    # def __init__(self, name):\n",
    "    #     self.name = name\n",
    "\n",
    "    # def greeting(self):\n",
    "    #     print(f'안녕하세요 {self.name}입니다')\n",
    "        # Person class 데이터가 들어가있는 상태\n",
    "\n",
    "    student_id = '123456'\n",
    "\n",
    "    def __init__(self, student_id):\n",
    "        self.student_id = student_id\n",
    "# 부모데이터에 init이 있지만 여기서 직접 만들었으니 위에 부모 init데이터는 없는상태"
   ]
  },
  {
   "cell_type": "code",
   "execution_count": 73,
   "id": "0151f6d4-08d3-4294-b1f4-68de4acb0e4f",
   "metadata": {},
   "outputs": [
    {
     "ename": "AttributeError",
     "evalue": "'Student' object has no attribute 'name'",
     "output_type": "error",
     "traceback": [
      "\u001b[1;31m-------------------------------------------------------------------------\u001b[0m",
      "\u001b[1;31mAttributeError\u001b[0m                          Traceback (most recent call last)",
      "Cell \u001b[1;32mIn[73], line 2\u001b[0m\n\u001b[0;32m      1\u001b[0m s1 \u001b[38;5;241m=\u001b[39m Student(\u001b[38;5;124m'\u001b[39m\u001b[38;5;124m789789\u001b[39m\u001b[38;5;124m'\u001b[39m)\n\u001b[1;32m----> 2\u001b[0m \u001b[43ms1\u001b[49m\u001b[38;5;241;43m.\u001b[39;49m\u001b[43mgreeting\u001b[49m\u001b[43m(\u001b[49m\u001b[43m)\u001b[49m\n\u001b[0;32m      3\u001b[0m \u001b[38;5;66;03m# 왜 에러가 날까?\u001b[39;00m\n\u001b[0;32m      4\u001b[0m \u001b[38;5;66;03m# s1은 Person을 부모데이터로 받은 Student를 지정한 상태\u001b[39;00m\n\u001b[0;32m      5\u001b[0m \u001b[38;5;66;03m# 근데 Studeunt에 __init__ 문을 작성했네? 그럼 부모데이터로 받은 __init__ 문은 없어짐.\u001b[39;00m\n\u001b[1;32m   (...)\u001b[0m\n\u001b[0;32m      8\u001b[0m \u001b[38;5;66;03m# 그래서 greeting() 이 실행 안됨.\u001b[39;00m\n\u001b[0;32m      9\u001b[0m \u001b[38;5;66;03m# 이를 해결하기 위해선 아래로~\u001b[39;00m\n",
      "Cell \u001b[1;32mIn[67], line 8\u001b[0m, in \u001b[0;36mPerson.greeting\u001b[1;34m(self)\u001b[0m\n\u001b[0;32m      7\u001b[0m \u001b[38;5;28;01mdef\u001b[39;00m \u001b[38;5;21mgreeting\u001b[39m(\u001b[38;5;28mself\u001b[39m):\n\u001b[1;32m----> 8\u001b[0m     \u001b[38;5;28mprint\u001b[39m(\u001b[38;5;124mf\u001b[39m\u001b[38;5;124m'\u001b[39m\u001b[38;5;124m안녕하세요 \u001b[39m\u001b[38;5;132;01m{\u001b[39;00m\u001b[38;5;28;43mself\u001b[39;49m\u001b[38;5;241;43m.\u001b[39;49m\u001b[43mname\u001b[49m\u001b[38;5;132;01m}\u001b[39;00m\u001b[38;5;124m입니다\u001b[39m\u001b[38;5;124m'\u001b[39m)\n",
      "\u001b[1;31mAttributeError\u001b[0m: 'Student' object has no attribute 'name'"
     ]
    }
   ],
   "source": [
    "s1 = Student('789789')\n",
    "s1.greeting()\n",
    "# 왜 에러가 날까?\n",
    "# s1은 Person을 부모데이터로 받은 Student를 지정한 상태\n",
    "# 근데 Studeunt에 __init__ 문을 작성했네? 그럼 부모데이터로 받은 __init__ 문은 없어짐.\n",
    "# 이게 뭐가 문제가 되냐? greeting()을 돌리면 그 함수 안에 print(f'안녕하세요 {self.name}입니다')가 실행되어야하는데\n",
    "# 없어진 부모 __init__ 데이터에 self.name이 있던거임;\n",
    "# 그래서 greeting() 이 실행 안됨.\n",
    "# 이를 해결하기 위해선 아래로~"
   ]
  },
  {
   "cell_type": "code",
   "execution_count": 42,
   "id": "5b03eab0-844f-4cce-9ed2-b525680522b8",
   "metadata": {},
   "outputs": [],
   "source": [
    "class Person():\n",
    "    def __init__(self, name, email, phone, location):\n",
    "        self.name = name\n",
    "        self.email = email\n",
    "        self.phone = phone\n",
    "        self.location = location\n",
    "\n",
    "class Student(Person):\n",
    "    def __init__(self, name, email, phone, location, student_id): # 인자를 받는 것 까지는 다 적어줘야함\n",
    "        super().__init__(name, email, phone, location)\n",
    "        self.student_id = student_id"
   ]
  },
  {
   "cell_type": "code",
   "execution_count": 43,
   "id": "ec7abdb7-5dc8-4ff4-af97-6a8f4196e340",
   "metadata": {},
   "outputs": [],
   "source": [
    "p1 = Person('hong', 'test.email.com', '010-1234', 'seoul')\n",
    "s1 = Student('a0', 's', 'a2', 'ee', '33')"
   ]
  },
  {
   "cell_type": "markdown",
   "id": "52679830-bf76-4670-8e0c-b50388fab012",
   "metadata": {},
   "source": [
    "## 다중상속\n",
    "- 중복된 이름의 데이터 중 어느것이 우선순위가 되는지 확인."
   ]
  },
  {
   "cell_type": "code",
   "execution_count": 44,
   "id": "25766206-9b43-469e-81e5-2524bede7e71",
   "metadata": {},
   "outputs": [],
   "source": [
    "class Person():\n",
    "    def __init__(self, name):\n",
    "        self.name = name\n",
    "\n",
    "    def breath(self):\n",
    "        print('후하')"
   ]
  },
  {
   "cell_type": "code",
   "execution_count": 50,
   "id": "4be75ac6-729f-4a06-9544-dd2fddb2bf92",
   "metadata": {},
   "outputs": [],
   "source": [
    "class Mom(Person):\n",
    "    gene = 'xx'\n",
    "\n",
    "    def swim(self):\n",
    "        print('어프어프')"
   ]
  },
  {
   "cell_type": "code",
   "execution_count": 51,
   "id": "e57d09c6-0f46-45bc-a608-d8236ca67e5b",
   "metadata": {},
   "outputs": [],
   "source": [
    "class Dad(Person):\n",
    "    gene = 'xy'\n",
    "\n",
    "    def run(self):\n",
    "        print('우다다다')"
   ]
  },
  {
   "cell_type": "code",
   "execution_count": 52,
   "id": "721966c7-08ba-494a-9469-e5126ac4f1ce",
   "metadata": {},
   "outputs": [],
   "source": [
    "class Baby(Mom, Dad):\n",
    "    pass"
   ]
  },
  {
   "cell_type": "code",
   "execution_count": 56,
   "id": "5bdd38d9-3f7b-46d6-b5c3-e7fe6717920f",
   "metadata": {},
   "outputs": [
    {
     "name": "stdout",
     "output_type": "stream",
     "text": [
      "금쪽이\n",
      "우다다다\n",
      "후하\n",
      "xx\n"
     ]
    }
   ],
   "source": [
    "b = Baby('금쪽이')\n",
    "print(b.name)\n",
    "\n",
    "b.run()\n",
    "b.breath()\n",
    "\n",
    "print(b.gene) # 다중상속을 했을떄 중복된 데이터 이름은 먼저 쓰여진 부모한테 상속받음. Mom, Dad 썼기때문에 엄마 성별 가져옴."
   ]
  },
  {
   "cell_type": "code",
   "execution_count": 98,
   "id": "1551308e-5023-4495-b495-59753dd9935b",
   "metadata": {},
   "outputs": [],
   "source": [
    "# 포켓몬 배틀\n",
    "\n",
    "class Pocketmon():\n",
    "    def __init__(self, name):\n",
    "        self.name = name\n",
    "        self.level = 10\n",
    "        self.hp = self.level * 5\n",
    "        self.exp = 0\n",
    "\n",
    "    def attack(self, opponent):\n",
    "        damege = self.level\n",
    "        opponent.hp -= damege\n",
    "        if opponent.check_hp():\n",
    "            self.exp += 5\n",
    "\n",
    "    def check_hp(self):\n",
    "        return True if self.hp <= 0 else False"
   ]
  },
  {
   "cell_type": "code",
   "execution_count": 94,
   "id": "2d6e4f9c-e089-43f8-8cb1-7f6c29718bea",
   "metadata": {},
   "outputs": [],
   "source": [
    "class WaterType():\n",
    "    type_name = 'water'\n",
    "\n",
    "class FireType():\n",
    "    type_name = 'fire'\n",
    "\n",
    "class WaterPocketmon(Pocketmon, WaterType):\n",
    "    def water_attack(self, opponent):\n",
    "        if opponent.type_name == 'fire':\n",
    "            damege = self.level * 1.5\n",
    "        else:\n",
    "            damege = self.level * 1.2\n",
    "        opponent.hp -= damege\n",
    "        print(f'{self.name}은 {opponent.name}에게 {damege}의 공격을 했다')"
   ]
  },
  {
   "cell_type": "code",
   "execution_count": 95,
   "id": "9dac823e-a595-4fa0-a388-bc87f38e6df5",
   "metadata": {},
   "outputs": [],
   "source": [
    "class FirePoketmon(Pocketmon, FireType):\n",
    "    def fire_attack(self, opponent):\n",
    "        damege = self.level * 2\n",
    "        opponent.hp -= damege\n",
    "        print(f'{self.name}은 {opponent.name}에게 {damege}의 공격을 했다')"
   ]
  },
  {
   "cell_type": "code",
   "execution_count": 96,
   "id": "0ed8c5ba-e3ee-4c3e-b434-5c20dfe1e914",
   "metadata": {},
   "outputs": [],
   "source": [
    "koboki = WaterPocketmon('꼬부기')\n",
    "pairi = FirePoketmon('파이리')"
   ]
  },
  {
   "cell_type": "code",
   "execution_count": 97,
   "id": "3b0544f5-24cd-47bf-a76d-c31d10ee8205",
   "metadata": {},
   "outputs": [
    {
     "name": "stdout",
     "output_type": "stream",
     "text": [
      "꼬부기은 파이리에게 15.0의 공격을 했다\n",
      "파이리은 꼬부기에게 20의 공격을 했다\n",
      "파이리은 꼬부기에게 20의 공격을 했다\n",
      "꼬부기은 파이리에게 15.0의 공격을 했다\n",
      "파이리은 꼬부기에게 20의 공격을 했다\n",
      "파이리 승리\n",
      "꼬부기: -10\n",
      "파이리: 20.0\n"
     ]
    }
   ],
   "source": [
    "import random\n",
    "\n",
    "while not koboki.check_hp() or not pairi.check_hp():\n",
    "    random_attack = random.randint(0, 1)\n",
    "\n",
    "    koboki.water_attack(pairi)\n",
    "\n",
    "    if pairi.check_hp():\n",
    "        print(f'{pairi.name} 승리')\n",
    "        break\n",
    "\n",
    "    random_attack = random.randint(0, 1)\n",
    "    pairi.fire_attack(koboki)\n",
    "\n",
    "    if koboki.check_hp():\n",
    "        print(f'{pairi.name} 승리')\n",
    "        break\n",
    "\n",
    "    random_attack = random.randint(0, 1)\n",
    "    pairi.fire_attack(koboki)\n",
    "\n",
    "    if koboki.check_hp():\n",
    "        print(f'{koboki.name} 승리')\n",
    "        break\n",
    "\n",
    "print(f'{koboki.name}: {koboki.hp}')\n",
    "print(f'{pairi.name}: {pairi.hp}')\n"
   ]
  },
  {
   "cell_type": "code",
   "execution_count": null,
   "id": "44225f9c-c102-462c-bf4b-af89a53750f7",
   "metadata": {},
   "outputs": [],
   "source": []
  },
  {
   "cell_type": "code",
   "execution_count": null,
   "id": "b9f64fb0-e11c-4dd6-acde-015b351eb227",
   "metadata": {},
   "outputs": [],
   "source": []
  }
 ],
 "metadata": {
  "kernelspec": {
   "display_name": "Python 3 (ipykernel)",
   "language": "python",
   "name": "python3"
  },
  "language_info": {
   "codemirror_mode": {
    "name": "ipython",
    "version": 3
   },
   "file_extension": ".py",
   "mimetype": "text/x-python",
   "name": "python",
   "nbconvert_exporter": "python",
   "pygments_lexer": "ipython3",
   "version": "3.12.4"
  }
 },
 "nbformat": 4,
 "nbformat_minor": 5
}
